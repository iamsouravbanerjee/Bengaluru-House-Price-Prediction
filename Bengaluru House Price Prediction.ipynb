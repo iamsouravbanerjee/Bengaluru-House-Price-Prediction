{
 "cells": [
  {
   "cell_type": "markdown",
   "id": "cbbc7f49",
   "metadata": {
    "papermill": {
     "duration": 0.070148,
     "end_time": "2022-10-30T17:35:12.426091",
     "exception": false,
     "start_time": "2022-10-30T17:35:12.355943",
     "status": "completed"
    },
    "tags": []
   },
   "source": [
    "\n",
    "![](https://i.imgur.com/ZghLZVU.png)\n"
   ]
  },
  {
   "cell_type": "markdown",
   "id": "0a564e71",
   "metadata": {
    "papermill": {
     "duration": 0.086208,
     "end_time": "2022-10-30T17:35:12.602482",
     "exception": false,
     "start_time": "2022-10-30T17:35:12.516274",
     "status": "completed"
    },
    "tags": []
   },
   "source": [
    "![](https://i.imgur.com/j6FuBvD.jpg)"
   ]
  },
  {
   "cell_type": "markdown",
   "id": "60039d03",
   "metadata": {
    "papermill": {
     "duration": 0.083987,
     "end_time": "2022-10-30T17:35:12.761554",
     "exception": false,
     "start_time": "2022-10-30T17:35:12.677567",
     "status": "completed"
    },
    "tags": []
   },
   "source": [
    "![](https://i.imgur.com/thaKJ1N.png)"
   ]
  },
  {
   "cell_type": "markdown",
   "id": "ae966792",
   "metadata": {
    "id": "wULe-PlOm1v4",
    "papermill": {
     "duration": 0.068175,
     "end_time": "2022-10-30T17:35:12.900752",
     "exception": false,
     "start_time": "2022-10-30T17:35:12.832577",
     "status": "completed"
    },
    "tags": []
   },
   "source": [
    "### What are the things that a potential home buyer considers before purchasing a house? The location, the size of the property, vicinity to offices, schools, parks, restaurants, hospitals or the stereotypical white picket fence? What about the most important factor — the price?\n",
    "\n",
    "### Now with the lingering impact of demonetization, the enforcement of the Real Estate (Regulation and Development) Act (RERA), and the lack of trust in property developers in the city, housing units sold across India in 2017 dropped by 7 percent. In fact, the property prices in Bengaluru fell by almost 5 percent in the second half of 2017, said a study published by property consultancy Knight Frank.\n",
    "\n",
    "### For example, for a potential homeowner, over 9,000 apartment projects and flats for sale are available in the range of ₹42-52 lakh, followed by over 7,100 apartments that are in the ₹52-62 lakh budget segment, says a report by property website Makaan. According to the study, there are over 5,000 projects in the ₹15-25 lakh budget segment followed by those in the ₹34-43 lakh budget category.\n",
    "\n",
    "### Buying a home, especially in a city like Bengaluru, is a tricky choice. While the major factors are usually the same for all metros, there are others to be considered for the Silicon Valley of India. With its help millennial crowd, vibrant culture, great climate and a slew of job opportunities, it is difficult to ascertain the price of a house in Bengaluru."
   ]
  },
  {
   "cell_type": "markdown",
   "id": "57d12154",
   "metadata": {
    "id": "zf1z4ySDm1v9",
    "papermill": {
     "duration": 0.068421,
     "end_time": "2022-10-30T17:35:13.037435",
     "exception": false,
     "start_time": "2022-10-30T17:35:12.969014",
     "status": "completed"
    },
    "tags": []
   },
   "source": [
    "![](https://i.imgur.com/Gd1CZrN.png)"
   ]
  },
  {
   "cell_type": "markdown",
   "id": "2c20cad5",
   "metadata": {
    "id": "I8eEhkc6m1v9",
    "papermill": {
     "duration": 0.068052,
     "end_time": "2022-10-30T17:35:13.174032",
     "exception": false,
     "start_time": "2022-10-30T17:35:13.105980",
     "status": "completed"
    },
    "tags": []
   },
   "source": [
    "### By analyzing these Bangalore house data we will determine the approximate price for the houses."
   ]
  },
  {
   "cell_type": "markdown",
   "id": "cf6db711",
   "metadata": {
    "id": "_O7rdeAgm1v-",
    "papermill": {
     "duration": 0.069187,
     "end_time": "2022-10-30T17:35:13.311184",
     "exception": false,
     "start_time": "2022-10-30T17:35:13.241997",
     "status": "completed"
    },
    "tags": []
   },
   "source": [
    "![](https://i.imgur.com/vl7xtxF.png)"
   ]
  },
  {
   "cell_type": "markdown",
   "id": "22f7556c",
   "metadata": {
    "id": "r5t-B8jNm1v-",
    "papermill": {
     "duration": 0.068196,
     "end_time": "2022-10-30T17:35:13.447737",
     "exception": false,
     "start_time": "2022-10-30T17:35:13.379541",
     "status": "completed"
    },
    "tags": []
   },
   "source": [
    "<div style = \"color: White; display: fill;\n",
    "              border-radius: 5px;\n",
    "              background-color: #3AB4F2;\n",
    "              font-size: 100%;\n",
    "              font-family: Verdana\">\n",
    "    \n",
    "<p style = \"padding: 7px;\n",
    "            color: Black;\">\n",
    "    <ul> 📌 <b>Area_type</b> - Description of the area<br>\n",
    "         📌 <b>Availability</b> - When it can be possessed or when it is ready<br>\n",
    "         📌 <b>Location</b> - Where it is located in Bengaluru<br>\n",
    "         📌 <b>Size</b> - BHK or Bedrooms<br>\n",
    "         📌 <b>Society</b> - To which society it belongs<br>\n",
    "         📌 <b>Total_sqft</b> - Size of the property in sq.ft<br>\n",
    "         📌 <b>Bath</b> - No. of Bathrooms<br>\n",
    "         📌 <b>Balcony</b> - No. of the Balcony<br>\n",
    "         📌 <b>Price</b> - Value of the property in lakhs (Indian Rupee - <b>₹</b>)<br><br>\n",
    "    <p style = \"padding: 3px;\n",
    "                color: Black;\">"
   ]
  },
  {
   "cell_type": "markdown",
   "id": "bba316d1",
   "metadata": {
    "id": "zL7oja_pm1v-",
    "papermill": {
     "duration": 0.069941,
     "end_time": "2022-10-30T17:35:13.589937",
     "exception": false,
     "start_time": "2022-10-30T17:35:13.519996",
     "status": "completed"
    },
    "tags": []
   },
   "source": [
    "![](https://i.imgur.com/VQf9nV2.png)"
   ]
  },
  {
   "cell_type": "markdown",
   "id": "abdd13b1",
   "metadata": {
    "id": "8Le18bclm1wA",
    "papermill": {
     "duration": 0.070041,
     "end_time": "2022-10-30T17:35:13.730509",
     "exception": false,
     "start_time": "2022-10-30T17:35:13.660468",
     "status": "completed"
    },
    "tags": []
   },
   "source": [
    "### 1. The cost of a mis-classification can be high.\n",
    "### 2. There is strict latency concerns.\n",
    "### 3. From this project we will able to understand how house prices depend on other factors. "
   ]
  },
  {
   "cell_type": "markdown",
   "id": "bd573154",
   "metadata": {
    "id": "ysFMa2ksm1wB",
    "papermill": {
     "duration": 0.06985,
     "end_time": "2022-10-30T17:35:13.868803",
     "exception": false,
     "start_time": "2022-10-30T17:35:13.798953",
     "status": "completed"
    },
    "tags": []
   },
   "source": [
    "![](https://i.imgur.com/WPXJm4c.png)"
   ]
  },
  {
   "cell_type": "code",
   "execution_count": 1,
   "id": "7ac78f97",
   "metadata": {
    "execution": {
     "iopub.execute_input": "2022-10-30T17:35:14.015610Z",
     "iopub.status.busy": "2022-10-30T17:35:14.014928Z",
     "iopub.status.idle": "2022-10-30T17:35:15.207321Z",
     "shell.execute_reply": "2022-10-30T17:35:15.206316Z",
     "shell.execute_reply.started": "2022-10-30T12:17:03.257906Z"
    },
    "papermill": {
     "duration": 1.269624,
     "end_time": "2022-10-30T17:35:15.207524",
     "exception": false,
     "start_time": "2022-10-30T17:35:13.937900",
     "status": "completed"
    },
    "tags": []
   },
   "outputs": [],
   "source": [
    "import numpy as np\n",
    "import pandas as pd\n",
    "import matplotlib.pyplot as plt\n",
    "import seaborn as sns\n",
    "%matplotlib inline\n",
    "import matplotlib \n",
    "matplotlib.rcParams[\"figure.figsize\"] = (20,10)\n",
    "from IPython.display import Image\n",
    "from sklearn.model_selection import GridSearchCV\n",
    "from sklearn.linear_model import Lasso\n",
    "from sklearn.tree import DecisionTreeRegressor\n",
    "from sklearn.model_selection import train_test_split\n",
    "from sklearn.linear_model import LinearRegression\n",
    "from sklearn.model_selection import ShuffleSplit\n",
    "from sklearn.model_selection import cross_val_score\n",
    "from prettytable import PrettyTable"
   ]
  },
  {
   "cell_type": "markdown",
   "id": "8f988f1d",
   "metadata": {
    "papermill": {
     "duration": 0.068309,
     "end_time": "2022-10-30T17:35:15.344642",
     "exception": false,
     "start_time": "2022-10-30T17:35:15.276333",
     "status": "completed"
    },
    "tags": []
   },
   "source": [
    "\n",
    "![](https://i.imgur.com/BiP8Vkx.png)\n"
   ]
  },
  {
   "cell_type": "code",
   "execution_count": 2,
   "id": "203172c7",
   "metadata": {
    "execution": {
     "iopub.execute_input": "2022-10-30T17:35:15.489268Z",
     "iopub.status.busy": "2022-10-30T17:35:15.488589Z",
     "iopub.status.idle": "2022-10-30T17:35:15.572145Z",
     "shell.execute_reply": "2022-10-30T17:35:15.572660Z",
     "shell.execute_reply.started": "2022-10-30T12:17:04.458339Z"
    },
    "papermill": {
     "duration": 0.158919,
     "end_time": "2022-10-30T17:35:15.572835",
     "exception": false,
     "start_time": "2022-10-30T17:35:15.413916",
     "status": "completed"
    },
    "tags": []
   },
   "outputs": [
    {
     "data": {
      "text/html": [
       "<div>\n",
       "<style scoped>\n",
       "    .dataframe tbody tr th:only-of-type {\n",
       "        vertical-align: middle;\n",
       "    }\n",
       "\n",
       "    .dataframe tbody tr th {\n",
       "        vertical-align: top;\n",
       "    }\n",
       "\n",
       "    .dataframe thead th {\n",
       "        text-align: right;\n",
       "    }\n",
       "</style>\n",
       "<table border=\"1\" class=\"dataframe\">\n",
       "  <thead>\n",
       "    <tr style=\"text-align: right;\">\n",
       "      <th></th>\n",
       "      <th>area_type</th>\n",
       "      <th>availability</th>\n",
       "      <th>location</th>\n",
       "      <th>size</th>\n",
       "      <th>society</th>\n",
       "      <th>total_sqft</th>\n",
       "      <th>bath</th>\n",
       "      <th>balcony</th>\n",
       "      <th>price</th>\n",
       "    </tr>\n",
       "  </thead>\n",
       "  <tbody>\n",
       "    <tr>\n",
       "      <th>0</th>\n",
       "      <td>Super built-up  Area</td>\n",
       "      <td>19-Dec</td>\n",
       "      <td>Electronic City Phase II</td>\n",
       "      <td>2 BHK</td>\n",
       "      <td>Coomee</td>\n",
       "      <td>1056</td>\n",
       "      <td>2.0</td>\n",
       "      <td>1.0</td>\n",
       "      <td>39.07</td>\n",
       "    </tr>\n",
       "    <tr>\n",
       "      <th>1</th>\n",
       "      <td>Plot  Area</td>\n",
       "      <td>Ready To Move</td>\n",
       "      <td>Chikka Tirupathi</td>\n",
       "      <td>4 Bedroom</td>\n",
       "      <td>Theanmp</td>\n",
       "      <td>2600</td>\n",
       "      <td>5.0</td>\n",
       "      <td>3.0</td>\n",
       "      <td>120.00</td>\n",
       "    </tr>\n",
       "    <tr>\n",
       "      <th>2</th>\n",
       "      <td>Built-up  Area</td>\n",
       "      <td>Ready To Move</td>\n",
       "      <td>Uttarahalli</td>\n",
       "      <td>3 BHK</td>\n",
       "      <td>NaN</td>\n",
       "      <td>1440</td>\n",
       "      <td>2.0</td>\n",
       "      <td>3.0</td>\n",
       "      <td>62.00</td>\n",
       "    </tr>\n",
       "    <tr>\n",
       "      <th>3</th>\n",
       "      <td>Super built-up  Area</td>\n",
       "      <td>Ready To Move</td>\n",
       "      <td>Lingadheeranahalli</td>\n",
       "      <td>3 BHK</td>\n",
       "      <td>Soiewre</td>\n",
       "      <td>1521</td>\n",
       "      <td>3.0</td>\n",
       "      <td>1.0</td>\n",
       "      <td>95.00</td>\n",
       "    </tr>\n",
       "    <tr>\n",
       "      <th>4</th>\n",
       "      <td>Super built-up  Area</td>\n",
       "      <td>Ready To Move</td>\n",
       "      <td>Kothanur</td>\n",
       "      <td>2 BHK</td>\n",
       "      <td>NaN</td>\n",
       "      <td>1200</td>\n",
       "      <td>2.0</td>\n",
       "      <td>1.0</td>\n",
       "      <td>51.00</td>\n",
       "    </tr>\n",
       "  </tbody>\n",
       "</table>\n",
       "</div>"
      ],
      "text/plain": [
       "              area_type   availability                  location       size  \\\n",
       "0  Super built-up  Area         19-Dec  Electronic City Phase II      2 BHK   \n",
       "1            Plot  Area  Ready To Move          Chikka Tirupathi  4 Bedroom   \n",
       "2        Built-up  Area  Ready To Move               Uttarahalli      3 BHK   \n",
       "3  Super built-up  Area  Ready To Move        Lingadheeranahalli      3 BHK   \n",
       "4  Super built-up  Area  Ready To Move                  Kothanur      2 BHK   \n",
       "\n",
       "   society total_sqft  bath  balcony   price  \n",
       "0  Coomee        1056   2.0      1.0   39.07  \n",
       "1  Theanmp       2600   5.0      3.0  120.00  \n",
       "2      NaN       1440   2.0      3.0   62.00  \n",
       "3  Soiewre       1521   3.0      1.0   95.00  \n",
       "4      NaN       1200   2.0      1.0   51.00  "
      ]
     },
     "execution_count": 2,
     "metadata": {},
     "output_type": "execute_result"
    }
   ],
   "source": [
    "df = pd.read_csv(\"../input/bengaluru-house-price-data/Bengaluru_House_Data.csv\")\n",
    "df.head()"
   ]
  },
  {
   "cell_type": "markdown",
   "id": "de008e63",
   "metadata": {
    "papermill": {
     "duration": 0.069487,
     "end_time": "2022-10-30T17:35:15.711820",
     "exception": false,
     "start_time": "2022-10-30T17:35:15.642333",
     "status": "completed"
    },
    "tags": []
   },
   "source": [
    "![](https://i.imgur.com/8nbAftN.png)"
   ]
  },
  {
   "cell_type": "markdown",
   "id": "74093818",
   "metadata": {
    "papermill": {
     "duration": 0.069981,
     "end_time": "2022-10-30T17:35:15.852307",
     "exception": false,
     "start_time": "2022-10-30T17:35:15.782326",
     "status": "completed"
    },
    "tags": []
   },
   "source": [
    "\n",
    "![](https://i.imgur.com/PuUF8wf.png)\n"
   ]
  },
  {
   "cell_type": "code",
   "execution_count": 3,
   "id": "89df5628",
   "metadata": {
    "execution": {
     "iopub.execute_input": "2022-10-30T17:35:15.997036Z",
     "iopub.status.busy": "2022-10-30T17:35:15.996014Z",
     "iopub.status.idle": "2022-10-30T17:35:16.002006Z",
     "shell.execute_reply": "2022-10-30T17:35:16.002525Z",
     "shell.execute_reply.started": "2022-10-30T12:17:04.535264Z"
    },
    "papermill": {
     "duration": 0.0803,
     "end_time": "2022-10-30T17:35:16.002702",
     "exception": false,
     "start_time": "2022-10-30T17:35:15.922402",
     "status": "completed"
    },
    "tags": []
   },
   "outputs": [
    {
     "data": {
      "text/plain": [
       "(13320, 9)"
      ]
     },
     "execution_count": 3,
     "metadata": {},
     "output_type": "execute_result"
    }
   ],
   "source": [
    "df.shape"
   ]
  },
  {
   "cell_type": "markdown",
   "id": "a72080e8",
   "metadata": {
    "papermill": {
     "duration": 0.070586,
     "end_time": "2022-10-30T17:35:16.143320",
     "exception": false,
     "start_time": "2022-10-30T17:35:16.072734",
     "status": "completed"
    },
    "tags": []
   },
   "source": [
    "\n",
    "![](https://i.imgur.com/Jp8eZtk.png)\n"
   ]
  },
  {
   "cell_type": "code",
   "execution_count": 4,
   "id": "7cfeff39",
   "metadata": {
    "execution": {
     "iopub.execute_input": "2022-10-30T17:35:16.287414Z",
     "iopub.status.busy": "2022-10-30T17:35:16.286467Z",
     "iopub.status.idle": "2022-10-30T17:35:16.292763Z",
     "shell.execute_reply": "2022-10-30T17:35:16.293200Z",
     "shell.execute_reply.started": "2021-07-23T06:26:13.032713Z"
    },
    "papermill": {
     "duration": 0.079721,
     "end_time": "2022-10-30T17:35:16.293370",
     "exception": false,
     "start_time": "2022-10-30T17:35:16.213649",
     "status": "completed"
    },
    "tags": []
   },
   "outputs": [
    {
     "data": {
      "text/plain": [
       "Index(['area_type', 'availability', 'location', 'size', 'society',\n",
       "       'total_sqft', 'bath', 'balcony', 'price'],\n",
       "      dtype='object')"
      ]
     },
     "execution_count": 4,
     "metadata": {},
     "output_type": "execute_result"
    }
   ],
   "source": [
    "df.columns"
   ]
  },
  {
   "cell_type": "markdown",
   "id": "90f8f55c",
   "metadata": {
    "papermill": {
     "duration": 0.070057,
     "end_time": "2022-10-30T17:35:16.433100",
     "exception": false,
     "start_time": "2022-10-30T17:35:16.363043",
     "status": "completed"
    },
    "tags": []
   },
   "source": [
    "\n",
    "![](https://i.imgur.com/66TLyXO.png)\n"
   ]
  },
  {
   "cell_type": "code",
   "execution_count": 5,
   "id": "8f7d884d",
   "metadata": {
    "execution": {
     "iopub.execute_input": "2022-10-30T17:35:16.577470Z",
     "iopub.status.busy": "2022-10-30T17:35:16.576513Z",
     "iopub.status.idle": "2022-10-30T17:35:16.598788Z",
     "shell.execute_reply": "2022-10-30T17:35:16.599405Z",
     "shell.execute_reply.started": "2021-07-23T06:26:14.521341Z"
    },
    "papermill": {
     "duration": 0.096173,
     "end_time": "2022-10-30T17:35:16.599598",
     "exception": false,
     "start_time": "2022-10-30T17:35:16.503425",
     "status": "completed"
    },
    "tags": []
   },
   "outputs": [
    {
     "name": "stdout",
     "output_type": "stream",
     "text": [
      "<class 'pandas.core.frame.DataFrame'>\n",
      "RangeIndex: 13320 entries, 0 to 13319\n",
      "Data columns (total 9 columns):\n",
      " #   Column        Non-Null Count  Dtype  \n",
      "---  ------        --------------  -----  \n",
      " 0   area_type     13320 non-null  object \n",
      " 1   availability  13320 non-null  object \n",
      " 2   location      13319 non-null  object \n",
      " 3   size          13304 non-null  object \n",
      " 4   society       7818 non-null   object \n",
      " 5   total_sqft    13320 non-null  object \n",
      " 6   bath          13247 non-null  float64\n",
      " 7   balcony       12711 non-null  float64\n",
      " 8   price         13320 non-null  float64\n",
      "dtypes: float64(3), object(6)\n",
      "memory usage: 936.7+ KB\n"
     ]
    }
   ],
   "source": [
    "df.info()"
   ]
  },
  {
   "cell_type": "markdown",
   "id": "7ae56030",
   "metadata": {
    "papermill": {
     "duration": 0.071354,
     "end_time": "2022-10-30T17:35:16.742591",
     "exception": false,
     "start_time": "2022-10-30T17:35:16.671237",
     "status": "completed"
    },
    "tags": []
   },
   "source": [
    "#### To know the description about the dataset"
   ]
  },
  {
   "cell_type": "code",
   "execution_count": 6,
   "id": "e93a3b24",
   "metadata": {
    "execution": {
     "iopub.execute_input": "2022-10-30T17:35:16.888482Z",
     "iopub.status.busy": "2022-10-30T17:35:16.887843Z",
     "iopub.status.idle": "2022-10-30T17:35:16.910315Z",
     "shell.execute_reply": "2022-10-30T17:35:16.910938Z",
     "shell.execute_reply.started": "2021-07-23T06:26:16.041659Z"
    },
    "papermill": {
     "duration": 0.096972,
     "end_time": "2022-10-30T17:35:16.911111",
     "exception": false,
     "start_time": "2022-10-30T17:35:16.814139",
     "status": "completed"
    },
    "tags": []
   },
   "outputs": [
    {
     "data": {
      "text/html": [
       "<div>\n",
       "<style scoped>\n",
       "    .dataframe tbody tr th:only-of-type {\n",
       "        vertical-align: middle;\n",
       "    }\n",
       "\n",
       "    .dataframe tbody tr th {\n",
       "        vertical-align: top;\n",
       "    }\n",
       "\n",
       "    .dataframe thead th {\n",
       "        text-align: right;\n",
       "    }\n",
       "</style>\n",
       "<table border=\"1\" class=\"dataframe\">\n",
       "  <thead>\n",
       "    <tr style=\"text-align: right;\">\n",
       "      <th></th>\n",
       "      <th>bath</th>\n",
       "      <th>balcony</th>\n",
       "      <th>price</th>\n",
       "    </tr>\n",
       "  </thead>\n",
       "  <tbody>\n",
       "    <tr>\n",
       "      <th>count</th>\n",
       "      <td>13247.000000</td>\n",
       "      <td>12711.000000</td>\n",
       "      <td>13320.000000</td>\n",
       "    </tr>\n",
       "    <tr>\n",
       "      <th>mean</th>\n",
       "      <td>2.692610</td>\n",
       "      <td>1.584376</td>\n",
       "      <td>112.565627</td>\n",
       "    </tr>\n",
       "    <tr>\n",
       "      <th>std</th>\n",
       "      <td>1.341458</td>\n",
       "      <td>0.817263</td>\n",
       "      <td>148.971674</td>\n",
       "    </tr>\n",
       "    <tr>\n",
       "      <th>min</th>\n",
       "      <td>1.000000</td>\n",
       "      <td>0.000000</td>\n",
       "      <td>8.000000</td>\n",
       "    </tr>\n",
       "    <tr>\n",
       "      <th>25%</th>\n",
       "      <td>2.000000</td>\n",
       "      <td>1.000000</td>\n",
       "      <td>50.000000</td>\n",
       "    </tr>\n",
       "    <tr>\n",
       "      <th>50%</th>\n",
       "      <td>2.000000</td>\n",
       "      <td>2.000000</td>\n",
       "      <td>72.000000</td>\n",
       "    </tr>\n",
       "    <tr>\n",
       "      <th>75%</th>\n",
       "      <td>3.000000</td>\n",
       "      <td>2.000000</td>\n",
       "      <td>120.000000</td>\n",
       "    </tr>\n",
       "    <tr>\n",
       "      <th>max</th>\n",
       "      <td>40.000000</td>\n",
       "      <td>3.000000</td>\n",
       "      <td>3600.000000</td>\n",
       "    </tr>\n",
       "  </tbody>\n",
       "</table>\n",
       "</div>"
      ],
      "text/plain": [
       "               bath       balcony         price\n",
       "count  13247.000000  12711.000000  13320.000000\n",
       "mean       2.692610      1.584376    112.565627\n",
       "std        1.341458      0.817263    148.971674\n",
       "min        1.000000      0.000000      8.000000\n",
       "25%        2.000000      1.000000     50.000000\n",
       "50%        2.000000      2.000000     72.000000\n",
       "75%        3.000000      2.000000    120.000000\n",
       "max       40.000000      3.000000   3600.000000"
      ]
     },
     "execution_count": 6,
     "metadata": {},
     "output_type": "execute_result"
    }
   ],
   "source": [
    "df.describe()"
   ]
  },
  {
   "cell_type": "code",
   "execution_count": 7,
   "id": "27c84e45",
   "metadata": {
    "execution": {
     "iopub.execute_input": "2022-10-30T17:35:17.057613Z",
     "iopub.status.busy": "2022-10-30T17:35:17.057008Z",
     "iopub.status.idle": "2022-10-30T17:35:17.083039Z",
     "shell.execute_reply": "2022-10-30T17:35:17.082397Z",
     "shell.execute_reply.started": "2021-07-23T06:26:16.859086Z"
    },
    "papermill": {
     "duration": 0.100175,
     "end_time": "2022-10-30T17:35:17.083182",
     "exception": false,
     "start_time": "2022-10-30T17:35:16.983007",
     "status": "completed"
    },
    "tags": []
   },
   "outputs": [
    {
     "data": {
      "text/html": [
       "<div>\n",
       "<style scoped>\n",
       "    .dataframe tbody tr th:only-of-type {\n",
       "        vertical-align: middle;\n",
       "    }\n",
       "\n",
       "    .dataframe tbody tr th {\n",
       "        vertical-align: top;\n",
       "    }\n",
       "\n",
       "    .dataframe thead th {\n",
       "        text-align: right;\n",
       "    }\n",
       "</style>\n",
       "<table border=\"1\" class=\"dataframe\">\n",
       "  <thead>\n",
       "    <tr style=\"text-align: right;\">\n",
       "      <th></th>\n",
       "      <th>count</th>\n",
       "      <th>mean</th>\n",
       "      <th>std</th>\n",
       "      <th>min</th>\n",
       "      <th>25%</th>\n",
       "      <th>50%</th>\n",
       "      <th>75%</th>\n",
       "      <th>max</th>\n",
       "    </tr>\n",
       "  </thead>\n",
       "  <tbody>\n",
       "    <tr>\n",
       "      <th>bath</th>\n",
       "      <td>13247.0</td>\n",
       "      <td>2.692610</td>\n",
       "      <td>1.341458</td>\n",
       "      <td>1.0</td>\n",
       "      <td>2.0</td>\n",
       "      <td>2.0</td>\n",
       "      <td>3.0</td>\n",
       "      <td>40.0</td>\n",
       "    </tr>\n",
       "    <tr>\n",
       "      <th>balcony</th>\n",
       "      <td>12711.0</td>\n",
       "      <td>1.584376</td>\n",
       "      <td>0.817263</td>\n",
       "      <td>0.0</td>\n",
       "      <td>1.0</td>\n",
       "      <td>2.0</td>\n",
       "      <td>2.0</td>\n",
       "      <td>3.0</td>\n",
       "    </tr>\n",
       "    <tr>\n",
       "      <th>price</th>\n",
       "      <td>13320.0</td>\n",
       "      <td>112.565627</td>\n",
       "      <td>148.971674</td>\n",
       "      <td>8.0</td>\n",
       "      <td>50.0</td>\n",
       "      <td>72.0</td>\n",
       "      <td>120.0</td>\n",
       "      <td>3600.0</td>\n",
       "    </tr>\n",
       "  </tbody>\n",
       "</table>\n",
       "</div>"
      ],
      "text/plain": [
       "           count        mean         std  min   25%   50%    75%     max\n",
       "bath     13247.0    2.692610    1.341458  1.0   2.0   2.0    3.0    40.0\n",
       "balcony  12711.0    1.584376    0.817263  0.0   1.0   2.0    2.0     3.0\n",
       "price    13320.0  112.565627  148.971674  8.0  50.0  72.0  120.0  3600.0"
      ]
     },
     "execution_count": 7,
     "metadata": {},
     "output_type": "execute_result"
    }
   ],
   "source": [
    "df.describe().T"
   ]
  },
  {
   "cell_type": "markdown",
   "id": "9ef2b35a",
   "metadata": {
    "papermill": {
     "duration": 0.070798,
     "end_time": "2022-10-30T17:35:17.225047",
     "exception": false,
     "start_time": "2022-10-30T17:35:17.154249",
     "status": "completed"
    },
    "tags": []
   },
   "source": [
    "#### Checking if there is some null values or not"
   ]
  },
  {
   "cell_type": "code",
   "execution_count": 8,
   "id": "6c8d6c98",
   "metadata": {
    "execution": {
     "iopub.execute_input": "2022-10-30T17:35:17.370974Z",
     "iopub.status.busy": "2022-10-30T17:35:17.370323Z",
     "iopub.status.idle": "2022-10-30T17:35:17.393686Z",
     "shell.execute_reply": "2022-10-30T17:35:17.394200Z",
     "shell.execute_reply.started": "2021-07-23T06:26:18.736188Z"
    },
    "papermill": {
     "duration": 0.097338,
     "end_time": "2022-10-30T17:35:17.394375",
     "exception": false,
     "start_time": "2022-10-30T17:35:17.297037",
     "status": "completed"
    },
    "tags": []
   },
   "outputs": [
    {
     "data": {
      "text/html": [
       "<div>\n",
       "<style scoped>\n",
       "    .dataframe tbody tr th:only-of-type {\n",
       "        vertical-align: middle;\n",
       "    }\n",
       "\n",
       "    .dataframe tbody tr th {\n",
       "        vertical-align: top;\n",
       "    }\n",
       "\n",
       "    .dataframe thead th {\n",
       "        text-align: right;\n",
       "    }\n",
       "</style>\n",
       "<table border=\"1\" class=\"dataframe\">\n",
       "  <thead>\n",
       "    <tr style=\"text-align: right;\">\n",
       "      <th></th>\n",
       "      <th>area_type</th>\n",
       "      <th>availability</th>\n",
       "      <th>location</th>\n",
       "      <th>size</th>\n",
       "      <th>society</th>\n",
       "      <th>total_sqft</th>\n",
       "      <th>bath</th>\n",
       "      <th>balcony</th>\n",
       "      <th>price</th>\n",
       "    </tr>\n",
       "  </thead>\n",
       "  <tbody>\n",
       "    <tr>\n",
       "      <th>0</th>\n",
       "      <td>False</td>\n",
       "      <td>False</td>\n",
       "      <td>False</td>\n",
       "      <td>False</td>\n",
       "      <td>False</td>\n",
       "      <td>False</td>\n",
       "      <td>False</td>\n",
       "      <td>False</td>\n",
       "      <td>False</td>\n",
       "    </tr>\n",
       "    <tr>\n",
       "      <th>1</th>\n",
       "      <td>False</td>\n",
       "      <td>False</td>\n",
       "      <td>False</td>\n",
       "      <td>False</td>\n",
       "      <td>False</td>\n",
       "      <td>False</td>\n",
       "      <td>False</td>\n",
       "      <td>False</td>\n",
       "      <td>False</td>\n",
       "    </tr>\n",
       "    <tr>\n",
       "      <th>2</th>\n",
       "      <td>False</td>\n",
       "      <td>False</td>\n",
       "      <td>False</td>\n",
       "      <td>False</td>\n",
       "      <td>True</td>\n",
       "      <td>False</td>\n",
       "      <td>False</td>\n",
       "      <td>False</td>\n",
       "      <td>False</td>\n",
       "    </tr>\n",
       "    <tr>\n",
       "      <th>3</th>\n",
       "      <td>False</td>\n",
       "      <td>False</td>\n",
       "      <td>False</td>\n",
       "      <td>False</td>\n",
       "      <td>False</td>\n",
       "      <td>False</td>\n",
       "      <td>False</td>\n",
       "      <td>False</td>\n",
       "      <td>False</td>\n",
       "    </tr>\n",
       "    <tr>\n",
       "      <th>4</th>\n",
       "      <td>False</td>\n",
       "      <td>False</td>\n",
       "      <td>False</td>\n",
       "      <td>False</td>\n",
       "      <td>True</td>\n",
       "      <td>False</td>\n",
       "      <td>False</td>\n",
       "      <td>False</td>\n",
       "      <td>False</td>\n",
       "    </tr>\n",
       "    <tr>\n",
       "      <th>...</th>\n",
       "      <td>...</td>\n",
       "      <td>...</td>\n",
       "      <td>...</td>\n",
       "      <td>...</td>\n",
       "      <td>...</td>\n",
       "      <td>...</td>\n",
       "      <td>...</td>\n",
       "      <td>...</td>\n",
       "      <td>...</td>\n",
       "    </tr>\n",
       "    <tr>\n",
       "      <th>13315</th>\n",
       "      <td>False</td>\n",
       "      <td>False</td>\n",
       "      <td>False</td>\n",
       "      <td>False</td>\n",
       "      <td>False</td>\n",
       "      <td>False</td>\n",
       "      <td>False</td>\n",
       "      <td>False</td>\n",
       "      <td>False</td>\n",
       "    </tr>\n",
       "    <tr>\n",
       "      <th>13316</th>\n",
       "      <td>False</td>\n",
       "      <td>False</td>\n",
       "      <td>False</td>\n",
       "      <td>False</td>\n",
       "      <td>True</td>\n",
       "      <td>False</td>\n",
       "      <td>False</td>\n",
       "      <td>True</td>\n",
       "      <td>False</td>\n",
       "    </tr>\n",
       "    <tr>\n",
       "      <th>13317</th>\n",
       "      <td>False</td>\n",
       "      <td>False</td>\n",
       "      <td>False</td>\n",
       "      <td>False</td>\n",
       "      <td>False</td>\n",
       "      <td>False</td>\n",
       "      <td>False</td>\n",
       "      <td>False</td>\n",
       "      <td>False</td>\n",
       "    </tr>\n",
       "    <tr>\n",
       "      <th>13318</th>\n",
       "      <td>False</td>\n",
       "      <td>False</td>\n",
       "      <td>False</td>\n",
       "      <td>False</td>\n",
       "      <td>False</td>\n",
       "      <td>False</td>\n",
       "      <td>False</td>\n",
       "      <td>False</td>\n",
       "      <td>False</td>\n",
       "    </tr>\n",
       "    <tr>\n",
       "      <th>13319</th>\n",
       "      <td>False</td>\n",
       "      <td>False</td>\n",
       "      <td>False</td>\n",
       "      <td>False</td>\n",
       "      <td>True</td>\n",
       "      <td>False</td>\n",
       "      <td>False</td>\n",
       "      <td>False</td>\n",
       "      <td>False</td>\n",
       "    </tr>\n",
       "  </tbody>\n",
       "</table>\n",
       "<p>13320 rows × 9 columns</p>\n",
       "</div>"
      ],
      "text/plain": [
       "       area_type  availability  location   size  society  total_sqft   bath  \\\n",
       "0          False         False     False  False    False       False  False   \n",
       "1          False         False     False  False    False       False  False   \n",
       "2          False         False     False  False     True       False  False   \n",
       "3          False         False     False  False    False       False  False   \n",
       "4          False         False     False  False     True       False  False   \n",
       "...          ...           ...       ...    ...      ...         ...    ...   \n",
       "13315      False         False     False  False    False       False  False   \n",
       "13316      False         False     False  False     True       False  False   \n",
       "13317      False         False     False  False    False       False  False   \n",
       "13318      False         False     False  False    False       False  False   \n",
       "13319      False         False     False  False     True       False  False   \n",
       "\n",
       "       balcony  price  \n",
       "0        False  False  \n",
       "1        False  False  \n",
       "2        False  False  \n",
       "3        False  False  \n",
       "4        False  False  \n",
       "...        ...    ...  \n",
       "13315    False  False  \n",
       "13316     True  False  \n",
       "13317    False  False  \n",
       "13318    False  False  \n",
       "13319    False  False  \n",
       "\n",
       "[13320 rows x 9 columns]"
      ]
     },
     "execution_count": 8,
     "metadata": {},
     "output_type": "execute_result"
    }
   ],
   "source": [
    "df.isnull()"
   ]
  },
  {
   "cell_type": "markdown",
   "id": "e80fa83b",
   "metadata": {
    "papermill": {
     "duration": 0.071891,
     "end_time": "2022-10-30T17:35:17.538927",
     "exception": false,
     "start_time": "2022-10-30T17:35:17.467036",
     "status": "completed"
    },
    "tags": []
   },
   "source": [
    "#### Checking if there is some null values or not (Sum)"
   ]
  },
  {
   "cell_type": "code",
   "execution_count": 9,
   "id": "7e5bcef8",
   "metadata": {
    "execution": {
     "iopub.execute_input": "2022-10-30T17:35:17.688160Z",
     "iopub.status.busy": "2022-10-30T17:35:17.687272Z",
     "iopub.status.idle": "2022-10-30T17:35:17.698093Z",
     "shell.execute_reply": "2022-10-30T17:35:17.698676Z",
     "shell.execute_reply.started": "2021-07-23T06:26:20.509453Z"
    },
    "papermill": {
     "duration": 0.088095,
     "end_time": "2022-10-30T17:35:17.698876",
     "exception": false,
     "start_time": "2022-10-30T17:35:17.610781",
     "status": "completed"
    },
    "tags": []
   },
   "outputs": [
    {
     "data": {
      "text/plain": [
       "area_type          0\n",
       "availability       0\n",
       "location           1\n",
       "size              16\n",
       "society         5502\n",
       "total_sqft         0\n",
       "bath              73\n",
       "balcony          609\n",
       "price              0\n",
       "dtype: int64"
      ]
     },
     "execution_count": 9,
     "metadata": {},
     "output_type": "execute_result"
    }
   ],
   "source": [
    "df.isnull().sum()"
   ]
  },
  {
   "cell_type": "markdown",
   "id": "bc55b6a0",
   "metadata": {
    "papermill": {
     "duration": 0.071927,
     "end_time": "2022-10-30T17:35:17.843046",
     "exception": false,
     "start_time": "2022-10-30T17:35:17.771119",
     "status": "completed"
    },
    "tags": []
   },
   "source": [
    "#### Performing Group by operation on Area Type"
   ]
  },
  {
   "cell_type": "code",
   "execution_count": 10,
   "id": "ebc73ee1",
   "metadata": {
    "execution": {
     "iopub.execute_input": "2022-10-30T17:35:17.991600Z",
     "iopub.status.busy": "2022-10-30T17:35:17.990914Z",
     "iopub.status.idle": "2022-10-30T17:35:17.999536Z",
     "shell.execute_reply": "2022-10-30T17:35:18.000032Z",
     "shell.execute_reply.started": "2021-07-23T06:26:21.889963Z"
    },
    "papermill": {
     "duration": 0.085557,
     "end_time": "2022-10-30T17:35:18.000204",
     "exception": false,
     "start_time": "2022-10-30T17:35:17.914647",
     "status": "completed"
    },
    "tags": []
   },
   "outputs": [
    {
     "data": {
      "text/plain": [
       "area_type\n",
       "Built-up  Area          2418\n",
       "Carpet  Area              87\n",
       "Plot  Area              2025\n",
       "Super built-up  Area    8790\n",
       "Name: area_type, dtype: int64"
      ]
     },
     "execution_count": 10,
     "metadata": {},
     "output_type": "execute_result"
    }
   ],
   "source": [
    "df.groupby(\"area_type\")[\"area_type\"].agg(\"count\")"
   ]
  },
  {
   "cell_type": "markdown",
   "id": "0b572d1c",
   "metadata": {
    "papermill": {
     "duration": 0.071767,
     "end_time": "2022-10-30T17:35:18.143817",
     "exception": false,
     "start_time": "2022-10-30T17:35:18.072050",
     "status": "completed"
    },
    "tags": []
   },
   "source": [
    "#### Checking what different \"Area Types\" are present in the Dataset"
   ]
  },
  {
   "cell_type": "code",
   "execution_count": 11,
   "id": "9ae1086b",
   "metadata": {
    "execution": {
     "iopub.execute_input": "2022-10-30T17:35:18.291047Z",
     "iopub.status.busy": "2022-10-30T17:35:18.290340Z",
     "iopub.status.idle": "2022-10-30T17:35:18.296507Z",
     "shell.execute_reply": "2022-10-30T17:35:18.296998Z",
     "shell.execute_reply.started": "2021-07-23T06:26:23.318293Z"
    },
    "papermill": {
     "duration": 0.081206,
     "end_time": "2022-10-30T17:35:18.297167",
     "exception": false,
     "start_time": "2022-10-30T17:35:18.215961",
     "status": "completed"
    },
    "tags": []
   },
   "outputs": [
    {
     "data": {
      "text/plain": [
       "array(['Super built-up  Area', 'Plot  Area', 'Built-up  Area',\n",
       "       'Carpet  Area'], dtype=object)"
      ]
     },
     "execution_count": 11,
     "metadata": {},
     "output_type": "execute_result"
    }
   ],
   "source": [
    "df['area_type'].unique()"
   ]
  },
  {
   "cell_type": "markdown",
   "id": "9a720c97",
   "metadata": {
    "papermill": {
     "duration": 0.073266,
     "end_time": "2022-10-30T17:35:18.442554",
     "exception": false,
     "start_time": "2022-10-30T17:35:18.369288",
     "status": "completed"
    },
    "tags": []
   },
   "source": [
    "![](https://i.imgur.com/NoGC4qm.png)"
   ]
  },
  {
   "cell_type": "code",
   "execution_count": 12,
   "id": "8e8a440d",
   "metadata": {
    "_kg_hide-input": true,
    "_kg_hide-output": true,
    "execution": {
     "iopub.execute_input": "2022-10-30T17:35:18.589886Z",
     "iopub.status.busy": "2022-10-30T17:35:18.589221Z",
     "iopub.status.idle": "2022-10-30T17:35:19.272711Z",
     "shell.execute_reply": "2022-10-30T17:35:19.273233Z",
     "shell.execute_reply.started": "2022-04-23T17:32:20.431074Z"
    },
    "papermill": {
     "duration": 0.758718,
     "end_time": "2022-10-30T17:35:19.273413",
     "exception": false,
     "start_time": "2022-10-30T17:35:18.514695",
     "status": "completed"
    },
    "tags": []
   },
   "outputs": [
    {
     "data": {
      "image/jpeg": "[encoded data removed]",
      "text/plain": [
       "<IPython.core.display.Image object>"
      ]
     },
     "execution_count": 12,
     "metadata": {},
     "output_type": "execute_result"
    }
   ],
   "source": [
    "Image(\"https://i.imgur.com/ZFIFaiN.jpg\")"
   ]
  },
  {
   "cell_type": "code",
   "execution_count": 13,
   "id": "df5f01dc",
   "metadata": {
    "execution": {
     "iopub.execute_input": "2022-10-30T17:35:19.441974Z",
     "iopub.status.busy": "2022-10-30T17:35:19.440971Z",
     "iopub.status.idle": "2022-10-30T17:35:19.683565Z",
     "shell.execute_reply": "2022-10-30T17:35:19.683006Z",
     "shell.execute_reply.started": "2021-07-23T06:26:24.916403Z"
    },
    "papermill": {
     "duration": 0.327354,
     "end_time": "2022-10-30T17:35:19.683725",
     "exception": false,
     "start_time": "2022-10-30T17:35:19.356371",
     "status": "completed"
    },
    "tags": []
   },
   "outputs": [
    {
     "data": {
      "text/plain": [
       "<AxesSubplot:>"
      ]
     },
     "execution_count": 13,
     "metadata": {},
     "output_type": "execute_result"
    },
    {
     "data": {
      "image/png": "[encoded data removed]",
      "text/plain": [
       "<Figure size 1440x720 with 1 Axes>"
      ]
     },
     "metadata": {
      "needs_background": "light"
     },
     "output_type": "display_data"
    }
   ],
   "source": [
    "df.area_type.value_counts().plot(kind='bar')"
   ]
  },
  {
   "cell_type": "code",
   "execution_count": 14,
   "id": "235ac40e",
   "metadata": {
    "execution": {
     "iopub.execute_input": "2022-10-30T17:35:19.852601Z",
     "iopub.status.busy": "2022-10-30T17:35:19.851644Z",
     "iopub.status.idle": "2022-10-30T17:35:19.860171Z",
     "shell.execute_reply": "2022-10-30T17:35:19.860735Z",
     "shell.execute_reply.started": "2021-07-23T06:26:25.845826Z"
    },
    "papermill": {
     "duration": 0.094723,
     "end_time": "2022-10-30T17:35:19.860922",
     "exception": false,
     "start_time": "2022-10-30T17:35:19.766199",
     "status": "completed"
    },
    "tags": []
   },
   "outputs": [
    {
     "data": {
      "text/plain": [
       "array([ 2.,  5.,  3.,  4.,  6.,  1.,  9., nan,  8.,  7., 11., 10., 14.,\n",
       "       27., 12., 16., 40., 15., 13., 18.])"
      ]
     },
     "execution_count": 14,
     "metadata": {},
     "output_type": "execute_result"
    }
   ],
   "source": [
    "df['bath'].unique()"
   ]
  },
  {
   "cell_type": "code",
   "execution_count": 15,
   "id": "955153d7",
   "metadata": {
    "execution": {
     "iopub.execute_input": "2022-10-30T17:35:20.032954Z",
     "iopub.status.busy": "2022-10-30T17:35:20.032033Z",
     "iopub.status.idle": "2022-10-30T17:35:20.328361Z",
     "shell.execute_reply": "2022-10-30T17:35:20.327714Z",
     "shell.execute_reply.started": "2021-07-23T06:26:26.674326Z"
    },
    "papermill": {
     "duration": 0.384343,
     "end_time": "2022-10-30T17:35:20.328550",
     "exception": false,
     "start_time": "2022-10-30T17:35:19.944207",
     "status": "completed"
    },
    "tags": []
   },
   "outputs": [
    {
     "data": {
      "text/plain": [
       "<AxesSubplot:>"
      ]
     },
     "execution_count": 15,
     "metadata": {},
     "output_type": "execute_result"
    },
    {
     "data": {
      "image/png": "[encoded data removed]",
      "text/plain": [
       "<Figure size 1440x720 with 1 Axes>"
      ]
     },
     "metadata": {
      "needs_background": "light"
     },
     "output_type": "display_data"
    }
   ],
   "source": [
    "df.bath.value_counts().plot(kind='bar')"
   ]
  },
  {
   "cell_type": "code",
   "execution_count": 16,
   "id": "ae42ba6a",
   "metadata": {
    "execution": {
     "iopub.execute_input": "2022-10-30T17:35:20.500515Z",
     "iopub.status.busy": "2022-10-30T17:35:20.499508Z",
     "iopub.status.idle": "2022-10-30T17:35:20.768343Z",
     "shell.execute_reply": "2022-10-30T17:35:20.767830Z",
     "shell.execute_reply.started": "2021-07-23T06:26:27.587504Z"
    },
    "papermill": {
     "duration": 0.355554,
     "end_time": "2022-10-30T17:35:20.768546",
     "exception": false,
     "start_time": "2022-10-30T17:35:20.412992",
     "status": "completed"
    },
    "tags": []
   },
   "outputs": [
    {
     "data": {
      "image/png": "[encoded data removed]",
      "text/plain": [
       "<Figure size 1440x720 with 1 Axes>"
      ]
     },
     "metadata": {},
     "output_type": "display_data"
    }
   ],
   "source": [
    "(df[\"area_type\"].value_counts()).plot.pie(autopct=\"%.1f%%\", shadow=True,rotatelabels=True, wedgeprops={'linewidth': 6}, radius=2)\n",
    "plt.show()"
   ]
  },
  {
   "cell_type": "code",
   "execution_count": 17,
   "id": "408dae69",
   "metadata": {
    "execution": {
     "iopub.execute_input": "2022-10-30T17:35:20.949717Z",
     "iopub.status.busy": "2022-10-30T17:35:20.949001Z",
     "iopub.status.idle": "2022-10-30T17:35:21.244121Z",
     "shell.execute_reply": "2022-10-30T17:35:21.243615Z",
     "shell.execute_reply.started": "2021-07-23T06:26:28.972462Z"
    },
    "papermill": {
     "duration": 0.38801,
     "end_time": "2022-10-30T17:35:21.244278",
     "exception": false,
     "start_time": "2022-10-30T17:35:20.856268",
     "status": "completed"
    },
    "tags": []
   },
   "outputs": [
    {
     "data": {
      "image/png": "[encoded data removed]",
      "text/plain": [
       "<Figure size 1440x576 with 1 Axes>"
      ]
     },
     "metadata": {
      "needs_background": "light"
     },
     "output_type": "display_data"
    }
   ],
   "source": [
    "plt.figure(figsize = (20,8))\n",
    "ax=sns.countplot(x = 'balcony', data = df)\n",
    "plt.xticks(rotation = 90)\n",
    "for p in ax.patches:\n",
    "    ax.annotate(int(p.get_height()), (p.get_x()+0.25, p.get_height()+1), va = 'bottom', color = 'black')"
   ]
  },
  {
   "cell_type": "code",
   "execution_count": 18,
   "id": "301bb9f1",
   "metadata": {
    "execution": {
     "iopub.execute_input": "2022-10-30T17:35:21.424910Z",
     "iopub.status.busy": "2022-10-30T17:35:21.423919Z",
     "iopub.status.idle": "2022-10-30T17:35:22.600192Z",
     "shell.execute_reply": "2022-10-30T17:35:22.599519Z",
     "shell.execute_reply.started": "2021-07-23T06:26:30.14861Z"
    },
    "papermill": {
     "duration": 1.267681,
     "end_time": "2022-10-30T17:35:22.600339",
     "exception": false,
     "start_time": "2022-10-30T17:35:21.332658",
     "status": "completed"
    },
    "tags": []
   },
   "outputs": [
    {
     "data": {
      "image/png": "[encoded data removed]",
      "text/plain": [
       "<Figure size 568x432 with 1 Axes>"
      ]
     },
     "metadata": {
      "needs_background": "light"
     },
     "output_type": "display_data"
    }
   ],
   "source": [
    "import warnings\n",
    "warnings.filterwarnings('ignore')\n",
    "\n",
    "sns.FacetGrid(df, hue='area_type', height=6).map(sns.distplot, 'bath').add_legend()\n",
    "plt.show()"
   ]
  },
  {
   "cell_type": "code",
   "execution_count": 19,
   "id": "71250be1",
   "metadata": {
    "execution": {
     "iopub.execute_input": "2022-10-30T17:35:22.784278Z",
     "iopub.status.busy": "2022-10-30T17:35:22.783670Z",
     "iopub.status.idle": "2022-10-30T17:35:23.445937Z",
     "shell.execute_reply": "2022-10-30T17:35:23.445205Z",
     "shell.execute_reply.started": "2021-07-23T06:26:31.378698Z"
    },
    "papermill": {
     "duration": 0.754483,
     "end_time": "2022-10-30T17:35:23.446087",
     "exception": false,
     "start_time": "2022-10-30T17:35:22.691604",
     "status": "completed"
    },
    "tags": []
   },
   "outputs": [
    {
     "data": {
      "image/png": "[encoded data removed]",
      "text/plain": [
       "<Figure size 568x432 with 1 Axes>"
      ]
     },
     "metadata": {
      "needs_background": "light"
     },
     "output_type": "display_data"
    }
   ],
   "source": [
    "sns.FacetGrid(df, hue='area_type', height=6).map(sns.distplot, 'balcony').add_legend()\n",
    "plt.show()"
   ]
  },
  {
   "cell_type": "markdown",
   "id": "c2916213",
   "metadata": {
    "papermill": {
     "duration": 0.090349,
     "end_time": "2022-10-30T17:35:23.630234",
     "exception": false,
     "start_time": "2022-10-30T17:35:23.539885",
     "status": "completed"
    },
    "tags": []
   },
   "source": [
    "#### Dropping less important features"
   ]
  },
  {
   "cell_type": "code",
   "execution_count": 20,
   "id": "6dd8d2c2",
   "metadata": {
    "execution": {
     "iopub.execute_input": "2022-10-30T17:35:23.874395Z",
     "iopub.status.busy": "2022-10-30T17:35:23.873319Z",
     "iopub.status.idle": "2022-10-30T17:35:23.875657Z",
     "shell.execute_reply": "2022-10-30T17:35:23.876158Z",
     "shell.execute_reply.started": "2021-07-23T06:26:33.377492Z"
    },
    "papermill": {
     "duration": 0.15252,
     "end_time": "2022-10-30T17:35:23.876314",
     "exception": false,
     "start_time": "2022-10-30T17:35:23.723794",
     "status": "completed"
    },
    "tags": []
   },
   "outputs": [],
   "source": [
    "df = df.drop([\"area_type\", \"society\",\"balcony\", \"availability\"], axis = \"columns\")"
   ]
  },
  {
   "cell_type": "code",
   "execution_count": 21,
   "id": "8fa2e961",
   "metadata": {
    "execution": {
     "iopub.execute_input": "2022-10-30T17:35:24.062293Z",
     "iopub.status.busy": "2022-10-30T17:35:24.061323Z",
     "iopub.status.idle": "2022-10-30T17:35:24.067038Z",
     "shell.execute_reply": "2022-10-30T17:35:24.067559Z",
     "shell.execute_reply.started": "2021-07-23T06:26:35.069732Z"
    },
    "papermill": {
     "duration": 0.099361,
     "end_time": "2022-10-30T17:35:24.067733",
     "exception": false,
     "start_time": "2022-10-30T17:35:23.968372",
     "status": "completed"
    },
    "tags": []
   },
   "outputs": [
    {
     "data": {
      "text/plain": [
       "(13320, 5)"
      ]
     },
     "execution_count": 21,
     "metadata": {},
     "output_type": "execute_result"
    }
   ],
   "source": [
    "df.shape"
   ]
  },
  {
   "cell_type": "markdown",
   "id": "ceeae24e",
   "metadata": {
    "papermill": {
     "duration": 0.092769,
     "end_time": "2022-10-30T17:35:24.249697",
     "exception": false,
     "start_time": "2022-10-30T17:35:24.156928",
     "status": "completed"
    },
    "tags": []
   },
   "source": [
    "#### Dropping null values"
   ]
  },
  {
   "cell_type": "code",
   "execution_count": 22,
   "id": "8160ec11",
   "metadata": {
    "execution": {
     "iopub.execute_input": "2022-10-30T17:35:24.435135Z",
     "iopub.status.busy": "2022-10-30T17:35:24.434175Z",
     "iopub.status.idle": "2022-10-30T17:35:24.447700Z",
     "shell.execute_reply": "2022-10-30T17:35:24.448244Z",
     "shell.execute_reply.started": "2021-07-23T06:26:36.985373Z"
    },
    "papermill": {
     "duration": 0.108259,
     "end_time": "2022-10-30T17:35:24.448435",
     "exception": false,
     "start_time": "2022-10-30T17:35:24.340176",
     "status": "completed"
    },
    "tags": []
   },
   "outputs": [],
   "source": [
    "df = df.dropna()"
   ]
  },
  {
   "cell_type": "code",
   "execution_count": 23,
   "id": "5966a1d3",
   "metadata": {
    "execution": {
     "iopub.execute_input": "2022-10-30T17:35:24.632832Z",
     "iopub.status.busy": "2022-10-30T17:35:24.631810Z",
     "iopub.status.idle": "2022-10-30T17:35:24.641889Z",
     "shell.execute_reply": "2022-10-30T17:35:24.642395Z",
     "shell.execute_reply.started": "2021-07-23T06:26:37.97172Z"
    },
    "papermill": {
     "duration": 0.104604,
     "end_time": "2022-10-30T17:35:24.642580",
     "exception": false,
     "start_time": "2022-10-30T17:35:24.537976",
     "status": "completed"
    },
    "tags": []
   },
   "outputs": [
    {
     "data": {
      "text/plain": [
       "location      0\n",
       "size          0\n",
       "total_sqft    0\n",
       "bath          0\n",
       "price         0\n",
       "dtype: int64"
      ]
     },
     "execution_count": 23,
     "metadata": {},
     "output_type": "execute_result"
    }
   ],
   "source": [
    "df.isnull().sum()"
   ]
  },
  {
   "cell_type": "code",
   "execution_count": 24,
   "id": "08f5ab71",
   "metadata": {
    "execution": {
     "iopub.execute_input": "2022-10-30T17:35:24.831301Z",
     "iopub.status.busy": "2022-10-30T17:35:24.830320Z",
     "iopub.status.idle": "2022-10-30T17:35:24.834222Z",
     "shell.execute_reply": "2022-10-30T17:35:24.834792Z",
     "shell.execute_reply.started": "2021-07-23T06:26:38.757553Z"
    },
    "papermill": {
     "duration": 0.100579,
     "end_time": "2022-10-30T17:35:24.834980",
     "exception": false,
     "start_time": "2022-10-30T17:35:24.734401",
     "status": "completed"
    },
    "tags": []
   },
   "outputs": [
    {
     "data": {
      "text/plain": [
       "(13246, 5)"
      ]
     },
     "execution_count": 24,
     "metadata": {},
     "output_type": "execute_result"
    }
   ],
   "source": [
    "df.shape"
   ]
  },
  {
   "cell_type": "markdown",
   "id": "45a67bb6",
   "metadata": {
    "papermill": {
     "duration": 0.092026,
     "end_time": "2022-10-30T17:35:25.018331",
     "exception": false,
     "start_time": "2022-10-30T17:35:24.926305",
     "status": "completed"
    },
    "tags": []
   },
   "source": [
    "![](https://i.imgur.com/bZn8N2J.png)"
   ]
  },
  {
   "cell_type": "markdown",
   "id": "b92a6c09",
   "metadata": {
    "papermill": {
     "duration": 0.117241,
     "end_time": "2022-10-30T17:35:25.233615",
     "exception": false,
     "start_time": "2022-10-30T17:35:25.116374",
     "status": "completed"
    },
    "tags": []
   },
   "source": [
    "#### Applying unique function on feature called Size"
   ]
  },
  {
   "cell_type": "code",
   "execution_count": 25,
   "id": "0bebb689",
   "metadata": {
    "execution": {
     "iopub.execute_input": "2022-10-30T17:35:25.462784Z",
     "iopub.status.busy": "2022-10-30T17:35:25.461817Z",
     "iopub.status.idle": "2022-10-30T17:35:25.470237Z",
     "shell.execute_reply": "2022-10-30T17:35:25.470834Z",
     "shell.execute_reply.started": "2021-07-23T06:26:40.906787Z"
    },
    "papermill": {
     "duration": 0.111042,
     "end_time": "2022-10-30T17:35:25.471012",
     "exception": false,
     "start_time": "2022-10-30T17:35:25.359970",
     "status": "completed"
    },
    "scrolled": true,
    "tags": []
   },
   "outputs": [
    {
     "data": {
      "text/plain": [
       "array(['2 BHK', '4 Bedroom', '3 BHK', '4 BHK', '6 Bedroom', '3 Bedroom',\n",
       "       '1 BHK', '1 RK', '1 Bedroom', '8 Bedroom', '2 Bedroom',\n",
       "       '7 Bedroom', '5 BHK', '7 BHK', '6 BHK', '5 Bedroom', '11 BHK',\n",
       "       '9 BHK', '9 Bedroom', '27 BHK', '10 Bedroom', '11 Bedroom',\n",
       "       '10 BHK', '19 BHK', '16 BHK', '43 Bedroom', '14 BHK', '8 BHK',\n",
       "       '12 Bedroom', '13 BHK', '18 Bedroom'], dtype=object)"
      ]
     },
     "execution_count": 25,
     "metadata": {},
     "output_type": "execute_result"
    }
   ],
   "source": [
    "df[\"size\"].unique()"
   ]
  },
  {
   "cell_type": "markdown",
   "id": "c8fb06be",
   "metadata": {
    "papermill": {
     "duration": 0.091303,
     "end_time": "2022-10-30T17:35:25.658384",
     "exception": false,
     "start_time": "2022-10-30T17:35:25.567081",
     "status": "completed"
    },
    "tags": []
   },
   "source": [
    "#### From the above we can clearly see that Bedroom is represented with 2 different methods. One is BHK and the other one is Bedroom. So we are making a new column called BHK and we are discarding all the units (like BHK, Bedroom)."
   ]
  },
  {
   "cell_type": "code",
   "execution_count": 26,
   "id": "854375e8",
   "metadata": {
    "execution": {
     "iopub.execute_input": "2022-10-30T17:35:25.844918Z",
     "iopub.status.busy": "2022-10-30T17:35:25.844218Z",
     "iopub.status.idle": "2022-10-30T17:35:25.864466Z",
     "shell.execute_reply": "2022-10-30T17:35:25.865047Z",
     "shell.execute_reply.started": "2021-07-23T06:26:42.433021Z"
    },
    "papermill": {
     "duration": 0.114743,
     "end_time": "2022-10-30T17:35:25.865241",
     "exception": false,
     "start_time": "2022-10-30T17:35:25.750498",
     "status": "completed"
    },
    "tags": []
   },
   "outputs": [],
   "source": [
    "df['BHK'] = df[\"size\"].apply(lambda x: int(x.split(\" \")[0]))"
   ]
  },
  {
   "cell_type": "code",
   "execution_count": 27,
   "id": "8635fad6",
   "metadata": {
    "execution": {
     "iopub.execute_input": "2022-10-30T17:35:26.065231Z",
     "iopub.status.busy": "2022-10-30T17:35:26.054932Z",
     "iopub.status.idle": "2022-10-30T17:35:26.068287Z",
     "shell.execute_reply": "2022-10-30T17:35:26.068811Z",
     "shell.execute_reply.started": "2021-07-23T06:26:43.304585Z"
    },
    "papermill": {
     "duration": 0.111461,
     "end_time": "2022-10-30T17:35:26.068987",
     "exception": false,
     "start_time": "2022-10-30T17:35:25.957526",
     "status": "completed"
    },
    "tags": []
   },
   "outputs": [
    {
     "data": {
      "text/html": [
       "<div>\n",
       "<style scoped>\n",
       "    .dataframe tbody tr th:only-of-type {\n",
       "        vertical-align: middle;\n",
       "    }\n",
       "\n",
       "    .dataframe tbody tr th {\n",
       "        vertical-align: top;\n",
       "    }\n",
       "\n",
       "    .dataframe thead th {\n",
       "        text-align: right;\n",
       "    }\n",
       "</style>\n",
       "<table border=\"1\" class=\"dataframe\">\n",
       "  <thead>\n",
       "    <tr style=\"text-align: right;\">\n",
       "      <th></th>\n",
       "      <th>location</th>\n",
       "      <th>size</th>\n",
       "      <th>total_sqft</th>\n",
       "      <th>bath</th>\n",
       "      <th>price</th>\n",
       "      <th>BHK</th>\n",
       "    </tr>\n",
       "  </thead>\n",
       "  <tbody>\n",
       "    <tr>\n",
       "      <th>0</th>\n",
       "      <td>Electronic City Phase II</td>\n",
       "      <td>2 BHK</td>\n",
       "      <td>1056</td>\n",
       "      <td>2.0</td>\n",
       "      <td>39.07</td>\n",
       "      <td>2</td>\n",
       "    </tr>\n",
       "    <tr>\n",
       "      <th>1</th>\n",
       "      <td>Chikka Tirupathi</td>\n",
       "      <td>4 Bedroom</td>\n",
       "      <td>2600</td>\n",
       "      <td>5.0</td>\n",
       "      <td>120.00</td>\n",
       "      <td>4</td>\n",
       "    </tr>\n",
       "    <tr>\n",
       "      <th>2</th>\n",
       "      <td>Uttarahalli</td>\n",
       "      <td>3 BHK</td>\n",
       "      <td>1440</td>\n",
       "      <td>2.0</td>\n",
       "      <td>62.00</td>\n",
       "      <td>3</td>\n",
       "    </tr>\n",
       "    <tr>\n",
       "      <th>3</th>\n",
       "      <td>Lingadheeranahalli</td>\n",
       "      <td>3 BHK</td>\n",
       "      <td>1521</td>\n",
       "      <td>3.0</td>\n",
       "      <td>95.00</td>\n",
       "      <td>3</td>\n",
       "    </tr>\n",
       "    <tr>\n",
       "      <th>4</th>\n",
       "      <td>Kothanur</td>\n",
       "      <td>2 BHK</td>\n",
       "      <td>1200</td>\n",
       "      <td>2.0</td>\n",
       "      <td>51.00</td>\n",
       "      <td>2</td>\n",
       "    </tr>\n",
       "  </tbody>\n",
       "</table>\n",
       "</div>"
      ],
      "text/plain": [
       "                   location       size total_sqft  bath   price  BHK\n",
       "0  Electronic City Phase II      2 BHK       1056   2.0   39.07    2\n",
       "1          Chikka Tirupathi  4 Bedroom       2600   5.0  120.00    4\n",
       "2               Uttarahalli      3 BHK       1440   2.0   62.00    3\n",
       "3        Lingadheeranahalli      3 BHK       1521   3.0   95.00    3\n",
       "4                  Kothanur      2 BHK       1200   2.0   51.00    2"
      ]
     },
     "execution_count": 27,
     "metadata": {},
     "output_type": "execute_result"
    }
   ],
   "source": [
    "df.head()"
   ]
  },
  {
   "cell_type": "code",
   "execution_count": 28,
   "id": "a1c86155",
   "metadata": {
    "execution": {
     "iopub.execute_input": "2022-10-30T17:35:26.254649Z",
     "iopub.status.busy": "2022-10-30T17:35:26.253971Z",
     "iopub.status.idle": "2022-10-30T17:35:26.626478Z",
     "shell.execute_reply": "2022-10-30T17:35:26.627063Z",
     "shell.execute_reply.started": "2021-07-23T06:26:44.065409Z"
    },
    "papermill": {
     "duration": 0.46681,
     "end_time": "2022-10-30T17:35:26.627282",
     "exception": false,
     "start_time": "2022-10-30T17:35:26.160472",
     "status": "completed"
    },
    "tags": []
   },
   "outputs": [
    {
     "data": {
      "image/png": "[encoded data removed]",
      "text/plain": [
       "<Figure size 1440x576 with 1 Axes>"
      ]
     },
     "metadata": {
      "needs_background": "light"
     },
     "output_type": "display_data"
    }
   ],
   "source": [
    "plt.figure(figsize = (20,8))\n",
    "ax=sns.countplot(x = 'BHK', data = df)\n",
    "plt.xticks(rotation = 90)\n",
    "for p in ax.patches:\n",
    "    ax.annotate(int(p.get_height()), (p.get_x()+0.25, p.get_height()+1), va = 'bottom', color = 'black')"
   ]
  },
  {
   "cell_type": "code",
   "execution_count": 29,
   "id": "cb180a29",
   "metadata": {
    "execution": {
     "iopub.execute_input": "2022-10-30T17:35:26.819345Z",
     "iopub.status.busy": "2022-10-30T17:35:26.816952Z",
     "iopub.status.idle": "2022-10-30T17:35:26.825436Z",
     "shell.execute_reply": "2022-10-30T17:35:26.824825Z",
     "shell.execute_reply.started": "2021-07-23T06:26:44.704173Z"
    },
    "papermill": {
     "duration": 0.103935,
     "end_time": "2022-10-30T17:35:26.825591",
     "exception": false,
     "start_time": "2022-10-30T17:35:26.721656",
     "status": "completed"
    },
    "tags": []
   },
   "outputs": [
    {
     "data": {
      "text/plain": [
       "array(['1056', '2600', '1440', ..., '1133 - 1384', '774', '4689'],\n",
       "      dtype=object)"
      ]
     },
     "execution_count": 29,
     "metadata": {},
     "output_type": "execute_result"
    }
   ],
   "source": [
    "df.total_sqft.unique()"
   ]
  },
  {
   "cell_type": "code",
   "execution_count": 30,
   "id": "28222618",
   "metadata": {
    "execution": {
     "iopub.execute_input": "2022-10-30T17:35:27.014969Z",
     "iopub.status.busy": "2022-10-30T17:35:27.014331Z",
     "iopub.status.idle": "2022-10-30T17:35:27.499346Z",
     "shell.execute_reply": "2022-10-30T17:35:27.498689Z",
     "shell.execute_reply.started": "2021-07-23T06:26:45.303183Z"
    },
    "papermill": {
     "duration": 0.580607,
     "end_time": "2022-10-30T17:35:27.499504",
     "exception": false,
     "start_time": "2022-10-30T17:35:26.918897",
     "status": "completed"
    },
    "tags": []
   },
   "outputs": [
    {
     "data": {
      "image/png": "[encoded data removed]",
      "text/plain": [
       "<Figure size 1440x720 with 1 Axes>"
      ]
     },
     "metadata": {
      "needs_background": "light"
     },
     "output_type": "display_data"
    }
   ],
   "source": [
    "sns.boxplot(x = 'BHK', y = 'price', data = df)\n",
    "plt.show()"
   ]
  },
  {
   "cell_type": "code",
   "execution_count": 31,
   "id": "7abcf1b0",
   "metadata": {
    "execution": {
     "iopub.execute_input": "2022-10-30T17:35:27.694101Z",
     "iopub.status.busy": "2022-10-30T17:35:27.693433Z",
     "iopub.status.idle": "2022-10-30T17:35:28.183806Z",
     "shell.execute_reply": "2022-10-30T17:35:28.184333Z",
     "shell.execute_reply.started": "2021-07-23T06:26:45.908394Z"
    },
    "papermill": {
     "duration": 0.590493,
     "end_time": "2022-10-30T17:35:28.184556",
     "exception": false,
     "start_time": "2022-10-30T17:35:27.594063",
     "status": "completed"
    },
    "tags": []
   },
   "outputs": [
    {
     "data": {
      "image/png": "[encoded data removed]",
      "text/plain": [
       "<Figure size 1440x720 with 1 Axes>"
      ]
     },
     "metadata": {
      "needs_background": "light"
     },
     "output_type": "display_data"
    }
   ],
   "source": [
    "sns.violinplot(x='BHK', y = 'bath', data = df)\n",
    "plt.show()"
   ]
  },
  {
   "cell_type": "markdown",
   "id": "252d46e7",
   "metadata": {
    "papermill": {
     "duration": 0.094039,
     "end_time": "2022-10-30T17:35:28.373726",
     "exception": false,
     "start_time": "2022-10-30T17:35:28.279687",
     "status": "completed"
    },
    "tags": []
   },
   "source": [
    "#### Exploring total_sqft feature"
   ]
  },
  {
   "cell_type": "code",
   "execution_count": 32,
   "id": "d9b2e023",
   "metadata": {
    "execution": {
     "iopub.execute_input": "2022-10-30T17:35:28.564793Z",
     "iopub.status.busy": "2022-10-30T17:35:28.564156Z",
     "iopub.status.idle": "2022-10-30T17:35:28.568218Z",
     "shell.execute_reply": "2022-10-30T17:35:28.568729Z",
     "shell.execute_reply.started": "2021-07-23T06:26:47.462503Z"
    },
    "papermill": {
     "duration": 0.100934,
     "end_time": "2022-10-30T17:35:28.568900",
     "exception": false,
     "start_time": "2022-10-30T17:35:28.467966",
     "status": "completed"
    },
    "tags": []
   },
   "outputs": [],
   "source": [
    "def is_float(x):\n",
    "    try:\n",
    "        float(x)\n",
    "    except:\n",
    "        return False\n",
    "    return True"
   ]
  },
  {
   "cell_type": "code",
   "execution_count": 33,
   "id": "c651e357",
   "metadata": {
    "execution": {
     "iopub.execute_input": "2022-10-30T17:35:28.760555Z",
     "iopub.status.busy": "2022-10-30T17:35:28.759896Z",
     "iopub.status.idle": "2022-10-30T17:35:28.780166Z",
     "shell.execute_reply": "2022-10-30T17:35:28.780677Z",
     "shell.execute_reply.started": "2021-07-23T06:26:48.373307Z"
    },
    "papermill": {
     "duration": 0.118243,
     "end_time": "2022-10-30T17:35:28.780874",
     "exception": false,
     "start_time": "2022-10-30T17:35:28.662631",
     "status": "completed"
    },
    "tags": []
   },
   "outputs": [
    {
     "data": {
      "text/html": [
       "<div>\n",
       "<style scoped>\n",
       "    .dataframe tbody tr th:only-of-type {\n",
       "        vertical-align: middle;\n",
       "    }\n",
       "\n",
       "    .dataframe tbody tr th {\n",
       "        vertical-align: top;\n",
       "    }\n",
       "\n",
       "    .dataframe thead th {\n",
       "        text-align: right;\n",
       "    }\n",
       "</style>\n",
       "<table border=\"1\" class=\"dataframe\">\n",
       "  <thead>\n",
       "    <tr style=\"text-align: right;\">\n",
       "      <th></th>\n",
       "      <th>location</th>\n",
       "      <th>size</th>\n",
       "      <th>total_sqft</th>\n",
       "      <th>bath</th>\n",
       "      <th>price</th>\n",
       "      <th>BHK</th>\n",
       "    </tr>\n",
       "  </thead>\n",
       "  <tbody>\n",
       "    <tr>\n",
       "      <th>30</th>\n",
       "      <td>Yelahanka</td>\n",
       "      <td>4 BHK</td>\n",
       "      <td>2100 - 2850</td>\n",
       "      <td>4.0</td>\n",
       "      <td>186.000</td>\n",
       "      <td>4</td>\n",
       "    </tr>\n",
       "    <tr>\n",
       "      <th>122</th>\n",
       "      <td>Hebbal</td>\n",
       "      <td>4 BHK</td>\n",
       "      <td>3067 - 8156</td>\n",
       "      <td>4.0</td>\n",
       "      <td>477.000</td>\n",
       "      <td>4</td>\n",
       "    </tr>\n",
       "    <tr>\n",
       "      <th>137</th>\n",
       "      <td>8th Phase JP Nagar</td>\n",
       "      <td>2 BHK</td>\n",
       "      <td>1042 - 1105</td>\n",
       "      <td>2.0</td>\n",
       "      <td>54.005</td>\n",
       "      <td>2</td>\n",
       "    </tr>\n",
       "    <tr>\n",
       "      <th>165</th>\n",
       "      <td>Sarjapur</td>\n",
       "      <td>2 BHK</td>\n",
       "      <td>1145 - 1340</td>\n",
       "      <td>2.0</td>\n",
       "      <td>43.490</td>\n",
       "      <td>2</td>\n",
       "    </tr>\n",
       "    <tr>\n",
       "      <th>188</th>\n",
       "      <td>KR Puram</td>\n",
       "      <td>2 BHK</td>\n",
       "      <td>1015 - 1540</td>\n",
       "      <td>2.0</td>\n",
       "      <td>56.800</td>\n",
       "      <td>2</td>\n",
       "    </tr>\n",
       "    <tr>\n",
       "      <th>410</th>\n",
       "      <td>Kengeri</td>\n",
       "      <td>1 BHK</td>\n",
       "      <td>34.46Sq. Meter</td>\n",
       "      <td>1.0</td>\n",
       "      <td>18.500</td>\n",
       "      <td>1</td>\n",
       "    </tr>\n",
       "    <tr>\n",
       "      <th>549</th>\n",
       "      <td>Hennur Road</td>\n",
       "      <td>2 BHK</td>\n",
       "      <td>1195 - 1440</td>\n",
       "      <td>2.0</td>\n",
       "      <td>63.770</td>\n",
       "      <td>2</td>\n",
       "    </tr>\n",
       "    <tr>\n",
       "      <th>648</th>\n",
       "      <td>Arekere</td>\n",
       "      <td>9 Bedroom</td>\n",
       "      <td>4125Perch</td>\n",
       "      <td>9.0</td>\n",
       "      <td>265.000</td>\n",
       "      <td>9</td>\n",
       "    </tr>\n",
       "    <tr>\n",
       "      <th>661</th>\n",
       "      <td>Yelahanka</td>\n",
       "      <td>2 BHK</td>\n",
       "      <td>1120 - 1145</td>\n",
       "      <td>2.0</td>\n",
       "      <td>48.130</td>\n",
       "      <td>2</td>\n",
       "    </tr>\n",
       "    <tr>\n",
       "      <th>672</th>\n",
       "      <td>Bettahalsoor</td>\n",
       "      <td>4 Bedroom</td>\n",
       "      <td>3090 - 5002</td>\n",
       "      <td>4.0</td>\n",
       "      <td>445.000</td>\n",
       "      <td>4</td>\n",
       "    </tr>\n",
       "  </tbody>\n",
       "</table>\n",
       "</div>"
      ],
      "text/plain": [
       "               location       size      total_sqft  bath    price  BHK\n",
       "30            Yelahanka      4 BHK     2100 - 2850   4.0  186.000    4\n",
       "122              Hebbal      4 BHK     3067 - 8156   4.0  477.000    4\n",
       "137  8th Phase JP Nagar      2 BHK     1042 - 1105   2.0   54.005    2\n",
       "165            Sarjapur      2 BHK     1145 - 1340   2.0   43.490    2\n",
       "188            KR Puram      2 BHK     1015 - 1540   2.0   56.800    2\n",
       "410             Kengeri      1 BHK  34.46Sq. Meter   1.0   18.500    1\n",
       "549         Hennur Road      2 BHK     1195 - 1440   2.0   63.770    2\n",
       "648             Arekere  9 Bedroom       4125Perch   9.0  265.000    9\n",
       "661           Yelahanka      2 BHK     1120 - 1145   2.0   48.130    2\n",
       "672        Bettahalsoor  4 Bedroom     3090 - 5002   4.0  445.000    4"
      ]
     },
     "execution_count": 33,
     "metadata": {},
     "output_type": "execute_result"
    }
   ],
   "source": [
    "df[~df[\"total_sqft\"].apply(is_float)].head(10)"
   ]
  },
  {
   "cell_type": "markdown",
   "id": "560b2abb",
   "metadata": {
    "papermill": {
     "duration": 0.096664,
     "end_time": "2022-10-30T17:35:28.971747",
     "exception": false,
     "start_time": "2022-10-30T17:35:28.875083",
     "status": "completed"
    },
    "tags": []
   },
   "source": [
    "#### From the above we can see that total_sqft can be a range (say, 3090-5002). For such cases we can just take average of the minimum and maximum value in the range. There are other cases such as 34.46Sq. Meter which one can convert to square ft using unit conversion. So, we are going to just drop such corner cases to keep things simple."
   ]
  },
  {
   "cell_type": "markdown",
   "id": "b9a88557",
   "metadata": {
    "papermill": {
     "duration": 0.095605,
     "end_time": "2022-10-30T17:35:29.165542",
     "exception": false,
     "start_time": "2022-10-30T17:35:29.069937",
     "status": "completed"
    },
    "tags": []
   },
   "source": [
    "#### Converting Sq.Ft to Number"
   ]
  },
  {
   "cell_type": "code",
   "execution_count": 34,
   "id": "f07e5f87",
   "metadata": {
    "execution": {
     "iopub.execute_input": "2022-10-30T17:35:29.360583Z",
     "iopub.status.busy": "2022-10-30T17:35:29.359919Z",
     "iopub.status.idle": "2022-10-30T17:35:29.363128Z",
     "shell.execute_reply": "2022-10-30T17:35:29.362635Z",
     "shell.execute_reply.started": "2021-07-23T06:26:51.24201Z"
    },
    "papermill": {
     "duration": 0.10313,
     "end_time": "2022-10-30T17:35:29.363267",
     "exception": false,
     "start_time": "2022-10-30T17:35:29.260137",
     "status": "completed"
    },
    "tags": []
   },
   "outputs": [],
   "source": [
    "def convert_sqft_to_number(x):\n",
    "    tokens = x.split(\"-\")\n",
    "    if len(tokens) == 2:\n",
    "        return (float(tokens[0])+float(tokens[1]))/2\n",
    "    try:\n",
    "        return float(x)\n",
    "    except:\n",
    "        return None"
   ]
  },
  {
   "cell_type": "code",
   "execution_count": 35,
   "id": "086b330f",
   "metadata": {
    "execution": {
     "iopub.execute_input": "2022-10-30T17:35:29.555303Z",
     "iopub.status.busy": "2022-10-30T17:35:29.554668Z",
     "iopub.status.idle": "2022-10-30T17:35:29.580192Z",
     "shell.execute_reply": "2022-10-30T17:35:29.580801Z",
     "shell.execute_reply.started": "2021-07-23T06:26:52.155379Z"
    },
    "papermill": {
     "duration": 0.123226,
     "end_time": "2022-10-30T17:35:29.580986",
     "exception": false,
     "start_time": "2022-10-30T17:35:29.457760",
     "status": "completed"
    },
    "tags": []
   },
   "outputs": [
    {
     "data": {
      "text/html": [
       "<div>\n",
       "<style scoped>\n",
       "    .dataframe tbody tr th:only-of-type {\n",
       "        vertical-align: middle;\n",
       "    }\n",
       "\n",
       "    .dataframe tbody tr th {\n",
       "        vertical-align: top;\n",
       "    }\n",
       "\n",
       "    .dataframe thead th {\n",
       "        text-align: right;\n",
       "    }\n",
       "</style>\n",
       "<table border=\"1\" class=\"dataframe\">\n",
       "  <thead>\n",
       "    <tr style=\"text-align: right;\">\n",
       "      <th></th>\n",
       "      <th>location</th>\n",
       "      <th>size</th>\n",
       "      <th>total_sqft</th>\n",
       "      <th>bath</th>\n",
       "      <th>price</th>\n",
       "      <th>BHK</th>\n",
       "    </tr>\n",
       "  </thead>\n",
       "  <tbody>\n",
       "    <tr>\n",
       "      <th>0</th>\n",
       "      <td>Electronic City Phase II</td>\n",
       "      <td>2 BHK</td>\n",
       "      <td>1056.0</td>\n",
       "      <td>2.0</td>\n",
       "      <td>39.07</td>\n",
       "      <td>2</td>\n",
       "    </tr>\n",
       "    <tr>\n",
       "      <th>1</th>\n",
       "      <td>Chikka Tirupathi</td>\n",
       "      <td>4 Bedroom</td>\n",
       "      <td>2600.0</td>\n",
       "      <td>5.0</td>\n",
       "      <td>120.00</td>\n",
       "      <td>4</td>\n",
       "    </tr>\n",
       "    <tr>\n",
       "      <th>2</th>\n",
       "      <td>Uttarahalli</td>\n",
       "      <td>3 BHK</td>\n",
       "      <td>1440.0</td>\n",
       "      <td>2.0</td>\n",
       "      <td>62.00</td>\n",
       "      <td>3</td>\n",
       "    </tr>\n",
       "    <tr>\n",
       "      <th>3</th>\n",
       "      <td>Lingadheeranahalli</td>\n",
       "      <td>3 BHK</td>\n",
       "      <td>1521.0</td>\n",
       "      <td>3.0</td>\n",
       "      <td>95.00</td>\n",
       "      <td>3</td>\n",
       "    </tr>\n",
       "    <tr>\n",
       "      <th>4</th>\n",
       "      <td>Kothanur</td>\n",
       "      <td>2 BHK</td>\n",
       "      <td>1200.0</td>\n",
       "      <td>2.0</td>\n",
       "      <td>51.00</td>\n",
       "      <td>2</td>\n",
       "    </tr>\n",
       "    <tr>\n",
       "      <th>5</th>\n",
       "      <td>Whitefield</td>\n",
       "      <td>2 BHK</td>\n",
       "      <td>1170.0</td>\n",
       "      <td>2.0</td>\n",
       "      <td>38.00</td>\n",
       "      <td>2</td>\n",
       "    </tr>\n",
       "    <tr>\n",
       "      <th>6</th>\n",
       "      <td>Old Airport Road</td>\n",
       "      <td>4 BHK</td>\n",
       "      <td>2732.0</td>\n",
       "      <td>4.0</td>\n",
       "      <td>204.00</td>\n",
       "      <td>4</td>\n",
       "    </tr>\n",
       "    <tr>\n",
       "      <th>7</th>\n",
       "      <td>Rajaji Nagar</td>\n",
       "      <td>4 BHK</td>\n",
       "      <td>3300.0</td>\n",
       "      <td>4.0</td>\n",
       "      <td>600.00</td>\n",
       "      <td>4</td>\n",
       "    </tr>\n",
       "    <tr>\n",
       "      <th>8</th>\n",
       "      <td>Marathahalli</td>\n",
       "      <td>3 BHK</td>\n",
       "      <td>1310.0</td>\n",
       "      <td>3.0</td>\n",
       "      <td>63.25</td>\n",
       "      <td>3</td>\n",
       "    </tr>\n",
       "    <tr>\n",
       "      <th>9</th>\n",
       "      <td>Gandhi Bazar</td>\n",
       "      <td>6 Bedroom</td>\n",
       "      <td>1020.0</td>\n",
       "      <td>6.0</td>\n",
       "      <td>370.00</td>\n",
       "      <td>6</td>\n",
       "    </tr>\n",
       "  </tbody>\n",
       "</table>\n",
       "</div>"
      ],
      "text/plain": [
       "                   location       size  total_sqft  bath   price  BHK\n",
       "0  Electronic City Phase II      2 BHK      1056.0   2.0   39.07    2\n",
       "1          Chikka Tirupathi  4 Bedroom      2600.0   5.0  120.00    4\n",
       "2               Uttarahalli      3 BHK      1440.0   2.0   62.00    3\n",
       "3        Lingadheeranahalli      3 BHK      1521.0   3.0   95.00    3\n",
       "4                  Kothanur      2 BHK      1200.0   2.0   51.00    2\n",
       "5                Whitefield      2 BHK      1170.0   2.0   38.00    2\n",
       "6          Old Airport Road      4 BHK      2732.0   4.0  204.00    4\n",
       "7              Rajaji Nagar      4 BHK      3300.0   4.0  600.00    4\n",
       "8              Marathahalli      3 BHK      1310.0   3.0   63.25    3\n",
       "9              Gandhi Bazar  6 Bedroom      1020.0   6.0  370.00    6"
      ]
     },
     "execution_count": 35,
     "metadata": {},
     "output_type": "execute_result"
    }
   ],
   "source": [
    "df = df.copy()\n",
    "df[\"total_sqft\"] = df[\"total_sqft\"].apply(convert_sqft_to_number)\n",
    "df.head(10)"
   ]
  },
  {
   "cell_type": "markdown",
   "id": "7db729e2",
   "metadata": {
    "papermill": {
     "duration": 0.095313,
     "end_time": "2022-10-30T17:35:29.772192",
     "exception": false,
     "start_time": "2022-10-30T17:35:29.676879",
     "status": "completed"
    },
    "tags": []
   },
   "source": [
    "#### Here, we are adding a new feature called Price per Square Feet"
   ]
  },
  {
   "cell_type": "code",
   "execution_count": 36,
   "id": "d14ea7b8",
   "metadata": {
    "execution": {
     "iopub.execute_input": "2022-10-30T17:35:29.970919Z",
     "iopub.status.busy": "2022-10-30T17:35:29.970040Z",
     "iopub.status.idle": "2022-10-30T17:35:29.986344Z",
     "shell.execute_reply": "2022-10-30T17:35:29.986899Z",
     "shell.execute_reply.started": "2021-07-23T06:26:53.78629Z"
    },
    "papermill": {
     "duration": 0.120051,
     "end_time": "2022-10-30T17:35:29.987071",
     "exception": false,
     "start_time": "2022-10-30T17:35:29.867020",
     "status": "completed"
    },
    "tags": []
   },
   "outputs": [
    {
     "data": {
      "text/html": [
       "<div>\n",
       "<style scoped>\n",
       "    .dataframe tbody tr th:only-of-type {\n",
       "        vertical-align: middle;\n",
       "    }\n",
       "\n",
       "    .dataframe tbody tr th {\n",
       "        vertical-align: top;\n",
       "    }\n",
       "\n",
       "    .dataframe thead th {\n",
       "        text-align: right;\n",
       "    }\n",
       "</style>\n",
       "<table border=\"1\" class=\"dataframe\">\n",
       "  <thead>\n",
       "    <tr style=\"text-align: right;\">\n",
       "      <th></th>\n",
       "      <th>location</th>\n",
       "      <th>size</th>\n",
       "      <th>total_sqft</th>\n",
       "      <th>bath</th>\n",
       "      <th>price</th>\n",
       "      <th>BHK</th>\n",
       "      <th>price_per_sqft</th>\n",
       "    </tr>\n",
       "  </thead>\n",
       "  <tbody>\n",
       "    <tr>\n",
       "      <th>0</th>\n",
       "      <td>Electronic City Phase II</td>\n",
       "      <td>2 BHK</td>\n",
       "      <td>1056.0</td>\n",
       "      <td>2.0</td>\n",
       "      <td>39.07</td>\n",
       "      <td>2</td>\n",
       "      <td>3699.810606</td>\n",
       "    </tr>\n",
       "    <tr>\n",
       "      <th>1</th>\n",
       "      <td>Chikka Tirupathi</td>\n",
       "      <td>4 Bedroom</td>\n",
       "      <td>2600.0</td>\n",
       "      <td>5.0</td>\n",
       "      <td>120.00</td>\n",
       "      <td>4</td>\n",
       "      <td>4615.384615</td>\n",
       "    </tr>\n",
       "    <tr>\n",
       "      <th>2</th>\n",
       "      <td>Uttarahalli</td>\n",
       "      <td>3 BHK</td>\n",
       "      <td>1440.0</td>\n",
       "      <td>2.0</td>\n",
       "      <td>62.00</td>\n",
       "      <td>3</td>\n",
       "      <td>4305.555556</td>\n",
       "    </tr>\n",
       "    <tr>\n",
       "      <th>3</th>\n",
       "      <td>Lingadheeranahalli</td>\n",
       "      <td>3 BHK</td>\n",
       "      <td>1521.0</td>\n",
       "      <td>3.0</td>\n",
       "      <td>95.00</td>\n",
       "      <td>3</td>\n",
       "      <td>6245.890861</td>\n",
       "    </tr>\n",
       "    <tr>\n",
       "      <th>4</th>\n",
       "      <td>Kothanur</td>\n",
       "      <td>2 BHK</td>\n",
       "      <td>1200.0</td>\n",
       "      <td>2.0</td>\n",
       "      <td>51.00</td>\n",
       "      <td>2</td>\n",
       "      <td>4250.000000</td>\n",
       "    </tr>\n",
       "  </tbody>\n",
       "</table>\n",
       "</div>"
      ],
      "text/plain": [
       "                   location       size  total_sqft  bath   price  BHK  \\\n",
       "0  Electronic City Phase II      2 BHK      1056.0   2.0   39.07    2   \n",
       "1          Chikka Tirupathi  4 Bedroom      2600.0   5.0  120.00    4   \n",
       "2               Uttarahalli      3 BHK      1440.0   2.0   62.00    3   \n",
       "3        Lingadheeranahalli      3 BHK      1521.0   3.0   95.00    3   \n",
       "4                  Kothanur      2 BHK      1200.0   2.0   51.00    2   \n",
       "\n",
       "   price_per_sqft  \n",
       "0     3699.810606  \n",
       "1     4615.384615  \n",
       "2     4305.555556  \n",
       "3     6245.890861  \n",
       "4     4250.000000  "
      ]
     },
     "execution_count": 36,
     "metadata": {},
     "output_type": "execute_result"
    }
   ],
   "source": [
    "df = df.copy()\n",
    "df[\"price_per_sqft\"] = df[\"price\"]*100000/df[\"total_sqft\"]\n",
    "df.head()"
   ]
  },
  {
   "cell_type": "markdown",
   "id": "ce26be6d",
   "metadata": {
    "papermill": {
     "duration": 0.095297,
     "end_time": "2022-10-30T17:35:30.179237",
     "exception": false,
     "start_time": "2022-10-30T17:35:30.083940",
     "status": "completed"
    },
    "tags": []
   },
   "source": [
    "#### Here, we are going to use Dimentionality Reduction for the data which are categorical variable. We need to apply Dimensionality Reduction here to reduce number of locations."
   ]
  },
  {
   "cell_type": "code",
   "execution_count": 37,
   "id": "ec087a2c",
   "metadata": {
    "execution": {
     "iopub.execute_input": "2022-10-30T17:35:30.374607Z",
     "iopub.status.busy": "2022-10-30T17:35:30.373967Z",
     "iopub.status.idle": "2022-10-30T17:35:30.389180Z",
     "shell.execute_reply": "2022-10-30T17:35:30.388534Z",
     "shell.execute_reply.started": "2021-07-23T06:26:55.314662Z"
    },
    "papermill": {
     "duration": 0.113189,
     "end_time": "2022-10-30T17:35:30.389330",
     "exception": false,
     "start_time": "2022-10-30T17:35:30.276141",
     "status": "completed"
    },
    "tags": []
   },
   "outputs": [
    {
     "data": {
      "text/plain": [
       "Whitefield         535\n",
       "Sarjapur  Road     392\n",
       "Electronic City    304\n",
       "Kanakpura Road     266\n",
       "Thanisandra        236\n",
       "                  ... \n",
       "Mukkutam Nagar       1\n",
       "Subramanyanagar      1\n",
       "PNS Layout           1\n",
       "Anathanagar          1\n",
       "St Thomas Town       1\n",
       "Name: location, Length: 1293, dtype: int64"
      ]
     },
     "execution_count": 37,
     "metadata": {},
     "output_type": "execute_result"
    }
   ],
   "source": [
    "df.location = df.location.apply(lambda x: x.strip())\n",
    "location_stats = df['location'].value_counts(ascending=False)\n",
    "location_stats"
   ]
  },
  {
   "cell_type": "code",
   "execution_count": 38,
   "id": "2beb9e28",
   "metadata": {
    "execution": {
     "iopub.execute_input": "2022-10-30T17:35:30.587423Z",
     "iopub.status.busy": "2022-10-30T17:35:30.586785Z",
     "iopub.status.idle": "2022-10-30T17:35:30.592221Z",
     "shell.execute_reply": "2022-10-30T17:35:30.592870Z",
     "shell.execute_reply.started": "2021-07-23T06:26:56.041171Z"
    },
    "papermill": {
     "duration": 0.105222,
     "end_time": "2022-10-30T17:35:30.593051",
     "exception": false,
     "start_time": "2022-10-30T17:35:30.487829",
     "status": "completed"
    },
    "tags": []
   },
   "outputs": [
    {
     "data": {
      "text/plain": [
       "1052"
      ]
     },
     "execution_count": 38,
     "metadata": {},
     "output_type": "execute_result"
    }
   ],
   "source": [
    "len(location_stats[location_stats<=10])"
   ]
  },
  {
   "cell_type": "code",
   "execution_count": 39,
   "id": "eea0a4b4",
   "metadata": {
    "execution": {
     "iopub.execute_input": "2022-10-30T17:35:30.791909Z",
     "iopub.status.busy": "2022-10-30T17:35:30.787890Z",
     "iopub.status.idle": "2022-10-30T17:35:30.795532Z",
     "shell.execute_reply": "2022-10-30T17:35:30.796066Z",
     "shell.execute_reply.started": "2021-07-23T06:26:56.912222Z"
    },
    "papermill": {
     "duration": 0.107681,
     "end_time": "2022-10-30T17:35:30.796234",
     "exception": false,
     "start_time": "2022-10-30T17:35:30.688553",
     "status": "completed"
    },
    "tags": []
   },
   "outputs": [
    {
     "data": {
      "text/plain": [
       "1st Block Koramangala    10\n",
       "Kalkere                  10\n",
       "Nagadevanahalli          10\n",
       "Naganathapura            10\n",
       "Gunjur Palya             10\n",
       "                         ..\n",
       "Mukkutam Nagar            1\n",
       "Subramanyanagar           1\n",
       "PNS Layout                1\n",
       "Anathanagar               1\n",
       "St Thomas Town            1\n",
       "Name: location, Length: 1052, dtype: int64"
      ]
     },
     "execution_count": 39,
     "metadata": {},
     "output_type": "execute_result"
    }
   ],
   "source": [
    "location_stats_less_than_10 = location_stats[location_stats<=10]\n",
    "location_stats_less_than_10"
   ]
  },
  {
   "cell_type": "code",
   "execution_count": 40,
   "id": "76919985",
   "metadata": {
    "execution": {
     "iopub.execute_input": "2022-10-30T17:35:30.994188Z",
     "iopub.status.busy": "2022-10-30T17:35:30.993507Z",
     "iopub.status.idle": "2022-10-30T17:35:31.016419Z",
     "shell.execute_reply": "2022-10-30T17:35:31.016920Z",
     "shell.execute_reply.started": "2021-07-23T06:26:57.844225Z"
    },
    "papermill": {
     "duration": 0.123817,
     "end_time": "2022-10-30T17:35:31.017089",
     "exception": false,
     "start_time": "2022-10-30T17:35:30.893272",
     "status": "completed"
    },
    "tags": []
   },
   "outputs": [
    {
     "data": {
      "text/plain": [
       "242"
      ]
     },
     "execution_count": 40,
     "metadata": {},
     "output_type": "execute_result"
    }
   ],
   "source": [
    "df.location = df.location.apply(lambda x: 'other' if x in location_stats_less_than_10 else x)\n",
    "len(df.location.unique())"
   ]
  },
  {
   "cell_type": "code",
   "execution_count": 41,
   "id": "dc1fd829",
   "metadata": {
    "execution": {
     "iopub.execute_input": "2022-10-30T17:35:31.218499Z",
     "iopub.status.busy": "2022-10-30T17:35:31.217824Z",
     "iopub.status.idle": "2022-10-30T17:35:31.231268Z",
     "shell.execute_reply": "2022-10-30T17:35:31.231826Z",
     "shell.execute_reply.started": "2021-07-23T06:26:58.905929Z"
    },
    "papermill": {
     "duration": 0.116178,
     "end_time": "2022-10-30T17:35:31.232004",
     "exception": false,
     "start_time": "2022-10-30T17:35:31.115826",
     "status": "completed"
    },
    "tags": []
   },
   "outputs": [
    {
     "data": {
      "text/html": [
       "<div>\n",
       "<style scoped>\n",
       "    .dataframe tbody tr th:only-of-type {\n",
       "        vertical-align: middle;\n",
       "    }\n",
       "\n",
       "    .dataframe tbody tr th {\n",
       "        vertical-align: top;\n",
       "    }\n",
       "\n",
       "    .dataframe thead th {\n",
       "        text-align: right;\n",
       "    }\n",
       "</style>\n",
       "<table border=\"1\" class=\"dataframe\">\n",
       "  <thead>\n",
       "    <tr style=\"text-align: right;\">\n",
       "      <th></th>\n",
       "      <th>location</th>\n",
       "      <th>size</th>\n",
       "      <th>total_sqft</th>\n",
       "      <th>bath</th>\n",
       "      <th>price</th>\n",
       "      <th>BHK</th>\n",
       "      <th>price_per_sqft</th>\n",
       "    </tr>\n",
       "  </thead>\n",
       "  <tbody>\n",
       "    <tr>\n",
       "      <th>0</th>\n",
       "      <td>Electronic City Phase II</td>\n",
       "      <td>2 BHK</td>\n",
       "      <td>1056.0</td>\n",
       "      <td>2.0</td>\n",
       "      <td>39.07</td>\n",
       "      <td>2</td>\n",
       "      <td>3699.810606</td>\n",
       "    </tr>\n",
       "    <tr>\n",
       "      <th>1</th>\n",
       "      <td>Chikka Tirupathi</td>\n",
       "      <td>4 Bedroom</td>\n",
       "      <td>2600.0</td>\n",
       "      <td>5.0</td>\n",
       "      <td>120.00</td>\n",
       "      <td>4</td>\n",
       "      <td>4615.384615</td>\n",
       "    </tr>\n",
       "    <tr>\n",
       "      <th>2</th>\n",
       "      <td>Uttarahalli</td>\n",
       "      <td>3 BHK</td>\n",
       "      <td>1440.0</td>\n",
       "      <td>2.0</td>\n",
       "      <td>62.00</td>\n",
       "      <td>3</td>\n",
       "      <td>4305.555556</td>\n",
       "    </tr>\n",
       "    <tr>\n",
       "      <th>3</th>\n",
       "      <td>Lingadheeranahalli</td>\n",
       "      <td>3 BHK</td>\n",
       "      <td>1521.0</td>\n",
       "      <td>3.0</td>\n",
       "      <td>95.00</td>\n",
       "      <td>3</td>\n",
       "      <td>6245.890861</td>\n",
       "    </tr>\n",
       "    <tr>\n",
       "      <th>4</th>\n",
       "      <td>Kothanur</td>\n",
       "      <td>2 BHK</td>\n",
       "      <td>1200.0</td>\n",
       "      <td>2.0</td>\n",
       "      <td>51.00</td>\n",
       "      <td>2</td>\n",
       "      <td>4250.000000</td>\n",
       "    </tr>\n",
       "  </tbody>\n",
       "</table>\n",
       "</div>"
      ],
      "text/plain": [
       "                   location       size  total_sqft  bath   price  BHK  \\\n",
       "0  Electronic City Phase II      2 BHK      1056.0   2.0   39.07    2   \n",
       "1          Chikka Tirupathi  4 Bedroom      2600.0   5.0  120.00    4   \n",
       "2               Uttarahalli      3 BHK      1440.0   2.0   62.00    3   \n",
       "3        Lingadheeranahalli      3 BHK      1521.0   3.0   95.00    3   \n",
       "4                  Kothanur      2 BHK      1200.0   2.0   51.00    2   \n",
       "\n",
       "   price_per_sqft  \n",
       "0     3699.810606  \n",
       "1     4615.384615  \n",
       "2     4305.555556  \n",
       "3     6245.890861  \n",
       "4     4250.000000  "
      ]
     },
     "execution_count": 41,
     "metadata": {},
     "output_type": "execute_result"
    }
   ],
   "source": [
    "df.head()"
   ]
  },
  {
   "cell_type": "markdown",
   "id": "8fe315c3",
   "metadata": {
    "papermill": {
     "duration": 0.09895,
     "end_time": "2022-10-30T17:35:31.430151",
     "exception": false,
     "start_time": "2022-10-30T17:35:31.331201",
     "status": "completed"
    },
    "tags": []
   },
   "source": [
    "#### Here we will discard some more data. Because, normally if a square ft per bedroom is 300 (i.e. 2 bhk apartment is minimum 600 sqft. If you have for example 400 sqft apartment with 2 bhk than that seems suspicious and can be removed as an outlier. We will remove such outliers by keeping our minimum thresold per bhk to be 300 sqft"
   ]
  },
  {
   "cell_type": "code",
   "execution_count": 42,
   "id": "9a37af4f",
   "metadata": {
    "execution": {
     "iopub.execute_input": "2022-10-30T17:35:31.628070Z",
     "iopub.status.busy": "2022-10-30T17:35:31.627420Z",
     "iopub.status.idle": "2022-10-30T17:35:31.644909Z",
     "shell.execute_reply": "2022-10-30T17:35:31.645355Z",
     "shell.execute_reply.started": "2021-07-23T06:27:00.749724Z"
    },
    "papermill": {
     "duration": 0.116834,
     "end_time": "2022-10-30T17:35:31.645553",
     "exception": false,
     "start_time": "2022-10-30T17:35:31.528719",
     "status": "completed"
    },
    "tags": []
   },
   "outputs": [
    {
     "data": {
      "text/html": [
       "<div>\n",
       "<style scoped>\n",
       "    .dataframe tbody tr th:only-of-type {\n",
       "        vertical-align: middle;\n",
       "    }\n",
       "\n",
       "    .dataframe tbody tr th {\n",
       "        vertical-align: top;\n",
       "    }\n",
       "\n",
       "    .dataframe thead th {\n",
       "        text-align: right;\n",
       "    }\n",
       "</style>\n",
       "<table border=\"1\" class=\"dataframe\">\n",
       "  <thead>\n",
       "    <tr style=\"text-align: right;\">\n",
       "      <th></th>\n",
       "      <th>location</th>\n",
       "      <th>size</th>\n",
       "      <th>total_sqft</th>\n",
       "      <th>bath</th>\n",
       "      <th>price</th>\n",
       "      <th>BHK</th>\n",
       "      <th>price_per_sqft</th>\n",
       "    </tr>\n",
       "  </thead>\n",
       "  <tbody>\n",
       "    <tr>\n",
       "      <th>9</th>\n",
       "      <td>other</td>\n",
       "      <td>6 Bedroom</td>\n",
       "      <td>1020.0</td>\n",
       "      <td>6.0</td>\n",
       "      <td>370.0</td>\n",
       "      <td>6</td>\n",
       "      <td>36274.509804</td>\n",
       "    </tr>\n",
       "    <tr>\n",
       "      <th>45</th>\n",
       "      <td>HSR Layout</td>\n",
       "      <td>8 Bedroom</td>\n",
       "      <td>600.0</td>\n",
       "      <td>9.0</td>\n",
       "      <td>200.0</td>\n",
       "      <td>8</td>\n",
       "      <td>33333.333333</td>\n",
       "    </tr>\n",
       "    <tr>\n",
       "      <th>58</th>\n",
       "      <td>Murugeshpalya</td>\n",
       "      <td>6 Bedroom</td>\n",
       "      <td>1407.0</td>\n",
       "      <td>4.0</td>\n",
       "      <td>150.0</td>\n",
       "      <td>6</td>\n",
       "      <td>10660.980810</td>\n",
       "    </tr>\n",
       "    <tr>\n",
       "      <th>68</th>\n",
       "      <td>Devarachikkanahalli</td>\n",
       "      <td>8 Bedroom</td>\n",
       "      <td>1350.0</td>\n",
       "      <td>7.0</td>\n",
       "      <td>85.0</td>\n",
       "      <td>8</td>\n",
       "      <td>6296.296296</td>\n",
       "    </tr>\n",
       "    <tr>\n",
       "      <th>70</th>\n",
       "      <td>other</td>\n",
       "      <td>3 Bedroom</td>\n",
       "      <td>500.0</td>\n",
       "      <td>3.0</td>\n",
       "      <td>100.0</td>\n",
       "      <td>3</td>\n",
       "      <td>20000.000000</td>\n",
       "    </tr>\n",
       "  </tbody>\n",
       "</table>\n",
       "</div>"
      ],
      "text/plain": [
       "               location       size  total_sqft  bath  price  BHK  \\\n",
       "9                 other  6 Bedroom      1020.0   6.0  370.0    6   \n",
       "45           HSR Layout  8 Bedroom       600.0   9.0  200.0    8   \n",
       "58        Murugeshpalya  6 Bedroom      1407.0   4.0  150.0    6   \n",
       "68  Devarachikkanahalli  8 Bedroom      1350.0   7.0   85.0    8   \n",
       "70                other  3 Bedroom       500.0   3.0  100.0    3   \n",
       "\n",
       "    price_per_sqft  \n",
       "9     36274.509804  \n",
       "45    33333.333333  \n",
       "58    10660.980810  \n",
       "68     6296.296296  \n",
       "70    20000.000000  "
      ]
     },
     "execution_count": 42,
     "metadata": {},
     "output_type": "execute_result"
    }
   ],
   "source": [
    "df[df.total_sqft/df.BHK<300].head()"
   ]
  },
  {
   "cell_type": "code",
   "execution_count": 43,
   "id": "9272fec0",
   "metadata": {
    "execution": {
     "iopub.execute_input": "2022-10-30T17:35:31.847056Z",
     "iopub.status.busy": "2022-10-30T17:35:31.846339Z",
     "iopub.status.idle": "2022-10-30T17:35:31.854235Z",
     "shell.execute_reply": "2022-10-30T17:35:31.854850Z",
     "shell.execute_reply.started": "2021-07-23T06:27:01.580159Z"
    },
    "papermill": {
     "duration": 0.110301,
     "end_time": "2022-10-30T17:35:31.855020",
     "exception": false,
     "start_time": "2022-10-30T17:35:31.744719",
     "status": "completed"
    },
    "tags": []
   },
   "outputs": [
    {
     "data": {
      "text/plain": [
       "(12502, 7)"
      ]
     },
     "execution_count": 43,
     "metadata": {},
     "output_type": "execute_result"
    }
   ],
   "source": [
    "df = df[~(df.total_sqft/df.BHK<300)]\n",
    "df.shape"
   ]
  },
  {
   "cell_type": "markdown",
   "id": "479d89cd",
   "metadata": {
    "papermill": {
     "duration": 0.099106,
     "end_time": "2022-10-30T17:35:32.052612",
     "exception": false,
     "start_time": "2022-10-30T17:35:31.953506",
     "status": "completed"
    },
    "tags": []
   },
   "source": [
    "#### Here we find that min price per sqft is 267 rs/sqft whereas max is 12000000, this shows a wide variation in property prices. We should remove outliers per location using mean and one Standard Deviation"
   ]
  },
  {
   "cell_type": "code",
   "execution_count": 44,
   "id": "a05ea7a8",
   "metadata": {
    "execution": {
     "iopub.execute_input": "2022-10-30T17:35:32.253661Z",
     "iopub.status.busy": "2022-10-30T17:35:32.252706Z",
     "iopub.status.idle": "2022-10-30T17:35:32.905887Z",
     "shell.execute_reply": "2022-10-30T17:35:32.906384Z",
     "shell.execute_reply.started": "2021-07-23T06:27:03.887762Z"
    },
    "papermill": {
     "duration": 0.755509,
     "end_time": "2022-10-30T17:35:32.906582",
     "exception": false,
     "start_time": "2022-10-30T17:35:32.151073",
     "status": "completed"
    },
    "tags": []
   },
   "outputs": [
    {
     "data": {
      "text/plain": [
       "(10241, 7)"
      ]
     },
     "execution_count": 44,
     "metadata": {},
     "output_type": "execute_result"
    }
   ],
   "source": [
    "def remove_pps_outliers(df):\n",
    "    df_out = pd.DataFrame()\n",
    "    for key, subdf in df.groupby('location'):\n",
    "        m = np.mean(subdf.price_per_sqft)\n",
    "        st = np.std(subdf.price_per_sqft)\n",
    "        reduced_df = subdf[(subdf.price_per_sqft>(m-st)) & (subdf.price_per_sqft<=(m+st))]\n",
    "        df_out = pd.concat([df_out,reduced_df],ignore_index=True)\n",
    "    return df_out\n",
    "df = remove_pps_outliers(df)\n",
    "df.shape"
   ]
  },
  {
   "cell_type": "markdown",
   "id": "76488e64",
   "metadata": {
    "papermill": {
     "duration": 0.100389,
     "end_time": "2022-10-30T17:35:33.103588",
     "exception": false,
     "start_time": "2022-10-30T17:35:33.003199",
     "status": "completed"
    },
    "tags": []
   },
   "source": [
    "#### Ploting the Scatter Chart for 2 BHK and 3 BHK properties"
   ]
  },
  {
   "cell_type": "code",
   "execution_count": 45,
   "id": "0883bf9b",
   "metadata": {
    "execution": {
     "iopub.execute_input": "2022-10-30T17:35:33.304533Z",
     "iopub.status.busy": "2022-10-30T17:35:33.303921Z",
     "iopub.status.idle": "2022-10-30T17:35:33.535356Z",
     "shell.execute_reply": "2022-10-30T17:35:33.535892Z",
     "shell.execute_reply.started": "2021-07-23T06:27:05.369076Z"
    },
    "papermill": {
     "duration": 0.333775,
     "end_time": "2022-10-30T17:35:33.536067",
     "exception": false,
     "start_time": "2022-10-30T17:35:33.202292",
     "status": "completed"
    },
    "tags": []
   },
   "outputs": [
    {
     "data": {
      "image/png": "[encoded data removed]",
      "text/plain": [
       "<Figure size 576x432 with 1 Axes>"
      ]
     },
     "metadata": {
      "needs_background": "light"
     },
     "output_type": "display_data"
    }
   ],
   "source": [
    "def plot_scatter_chart(df,location):\n",
    "    bhk2 = df[(df.location==location) & (df.BHK==2)]\n",
    "    bhk3 = df[(df.location==location) & (df.BHK==3)]\n",
    "    matplotlib.rcParams['figure.figsize'] = (8,6)\n",
    "    plt.scatter(bhk2.total_sqft,bhk2.price,color='blue',label='2 BHK', s=50)\n",
    "    plt.scatter(bhk3.total_sqft,bhk3.price,marker='+', color='green',label='3 BHK', s=50)\n",
    "    plt.xlabel(\"Total Square Feet Area\")\n",
    "    plt.ylabel(\"Price (Lakh Indian Rupees)\")\n",
    "    plt.title(location)\n",
    "    plt.legend()\n",
    "    \n",
    "plot_scatter_chart(df,\"Rajaji Nagar\")"
   ]
  },
  {
   "cell_type": "markdown",
   "id": "e8bfc674",
   "metadata": {
    "papermill": {
     "duration": 0.09917,
     "end_time": "2022-10-30T17:35:33.735119",
     "exception": false,
     "start_time": "2022-10-30T17:35:33.635949",
     "status": "completed"
    },
    "tags": []
   },
   "source": [
    "#### Ploting the histogram for Price Per Square Feet vs Count"
   ]
  },
  {
   "cell_type": "code",
   "execution_count": 46,
   "id": "7dec576b",
   "metadata": {
    "execution": {
     "iopub.execute_input": "2022-10-30T17:35:33.938920Z",
     "iopub.status.busy": "2022-10-30T17:35:33.938245Z",
     "iopub.status.idle": "2022-10-30T17:35:34.110313Z",
     "shell.execute_reply": "2022-10-30T17:35:34.110854Z",
     "shell.execute_reply.started": "2021-07-23T06:27:06.926342Z"
    },
    "papermill": {
     "duration": 0.275795,
     "end_time": "2022-10-30T17:35:34.111036",
     "exception": false,
     "start_time": "2022-10-30T17:35:33.835241",
     "status": "completed"
    },
    "tags": []
   },
   "outputs": [
    {
     "data": {
      "text/plain": [
       "Text(0, 0.5, 'Count')"
      ]
     },
     "execution_count": 46,
     "metadata": {},
     "output_type": "execute_result"
    },
    {
     "data": {
      "image/png": "[encoded data removed]",
      "text/plain": [
       "<Figure size 576x432 with 1 Axes>"
      ]
     },
     "metadata": {
      "needs_background": "light"
     },
     "output_type": "display_data"
    }
   ],
   "source": [
    "plt.hist(df.price_per_sqft,rwidth=0.8)\n",
    "plt.xlabel(\"Price Per Square Feet\")\n",
    "plt.ylabel(\"Count\")"
   ]
  },
  {
   "cell_type": "markdown",
   "id": "627f8630",
   "metadata": {
    "papermill": {
     "duration": 0.097499,
     "end_time": "2022-10-30T17:35:34.307544",
     "exception": false,
     "start_time": "2022-10-30T17:35:34.210045",
     "status": "completed"
    },
    "tags": []
   },
   "source": [
    "#### Ploting the histogram for Number of bathrooms vs Count"
   ]
  },
  {
   "cell_type": "code",
   "execution_count": 47,
   "id": "fc97f154",
   "metadata": {
    "execution": {
     "iopub.execute_input": "2022-10-30T17:35:34.509706Z",
     "iopub.status.busy": "2022-10-30T17:35:34.508766Z",
     "iopub.status.idle": "2022-10-30T17:35:34.829113Z",
     "shell.execute_reply": "2022-10-30T17:35:34.829661Z",
     "shell.execute_reply.started": "2021-07-23T06:27:08.42338Z"
    },
    "papermill": {
     "duration": 0.42457,
     "end_time": "2022-10-30T17:35:34.829828",
     "exception": false,
     "start_time": "2022-10-30T17:35:34.405258",
     "status": "completed"
    },
    "tags": []
   },
   "outputs": [
    {
     "data": {
      "text/plain": [
       "Text(0, 0.5, 'Count')"
      ]
     },
     "execution_count": 47,
     "metadata": {},
     "output_type": "execute_result"
    },
    {
     "data": {
      "image/png": "[encoded data removed]",
      "text/plain": [
       "<Figure size 576x432 with 1 Axes>"
      ]
     },
     "metadata": {
      "needs_background": "light"
     },
     "output_type": "display_data"
    }
   ],
   "source": [
    "plt.hist(df.bath,rwidth=0.8)\n",
    "plt.xlabel(\"Number of bathrooms\")\n",
    "plt.ylabel(\"Count\")"
   ]
  },
  {
   "cell_type": "code",
   "execution_count": 48,
   "id": "e8fadf8e",
   "metadata": {
    "execution": {
     "iopub.execute_input": "2022-10-30T17:35:35.037512Z",
     "iopub.status.busy": "2022-10-30T17:35:35.036555Z",
     "iopub.status.idle": "2022-10-30T17:35:35.052327Z",
     "shell.execute_reply": "2022-10-30T17:35:35.052852Z",
     "shell.execute_reply.started": "2021-07-23T06:27:09.319388Z"
    },
    "papermill": {
     "duration": 0.122484,
     "end_time": "2022-10-30T17:35:35.053022",
     "exception": false,
     "start_time": "2022-10-30T17:35:34.930538",
     "status": "completed"
    },
    "tags": []
   },
   "outputs": [
    {
     "data": {
      "text/html": [
       "<div>\n",
       "<style scoped>\n",
       "    .dataframe tbody tr th:only-of-type {\n",
       "        vertical-align: middle;\n",
       "    }\n",
       "\n",
       "    .dataframe tbody tr th {\n",
       "        vertical-align: top;\n",
       "    }\n",
       "\n",
       "    .dataframe thead th {\n",
       "        text-align: right;\n",
       "    }\n",
       "</style>\n",
       "<table border=\"1\" class=\"dataframe\">\n",
       "  <thead>\n",
       "    <tr style=\"text-align: right;\">\n",
       "      <th></th>\n",
       "      <th>location</th>\n",
       "      <th>size</th>\n",
       "      <th>total_sqft</th>\n",
       "      <th>bath</th>\n",
       "      <th>price</th>\n",
       "      <th>BHK</th>\n",
       "      <th>price_per_sqft</th>\n",
       "    </tr>\n",
       "  </thead>\n",
       "  <tbody>\n",
       "    <tr>\n",
       "      <th>5277</th>\n",
       "      <td>Neeladri Nagar</td>\n",
       "      <td>10 BHK</td>\n",
       "      <td>4000.0</td>\n",
       "      <td>12.0</td>\n",
       "      <td>160.0</td>\n",
       "      <td>10</td>\n",
       "      <td>4000.000000</td>\n",
       "    </tr>\n",
       "    <tr>\n",
       "      <th>8486</th>\n",
       "      <td>other</td>\n",
       "      <td>10 BHK</td>\n",
       "      <td>12000.0</td>\n",
       "      <td>12.0</td>\n",
       "      <td>525.0</td>\n",
       "      <td>10</td>\n",
       "      <td>4375.000000</td>\n",
       "    </tr>\n",
       "    <tr>\n",
       "      <th>8575</th>\n",
       "      <td>other</td>\n",
       "      <td>16 BHK</td>\n",
       "      <td>10000.0</td>\n",
       "      <td>16.0</td>\n",
       "      <td>550.0</td>\n",
       "      <td>16</td>\n",
       "      <td>5500.000000</td>\n",
       "    </tr>\n",
       "    <tr>\n",
       "      <th>9308</th>\n",
       "      <td>other</td>\n",
       "      <td>11 BHK</td>\n",
       "      <td>6000.0</td>\n",
       "      <td>12.0</td>\n",
       "      <td>150.0</td>\n",
       "      <td>11</td>\n",
       "      <td>2500.000000</td>\n",
       "    </tr>\n",
       "    <tr>\n",
       "      <th>9639</th>\n",
       "      <td>other</td>\n",
       "      <td>13 BHK</td>\n",
       "      <td>5425.0</td>\n",
       "      <td>13.0</td>\n",
       "      <td>275.0</td>\n",
       "      <td>13</td>\n",
       "      <td>5069.124424</td>\n",
       "    </tr>\n",
       "  </tbody>\n",
       "</table>\n",
       "</div>"
      ],
      "text/plain": [
       "            location    size  total_sqft  bath  price  BHK  price_per_sqft\n",
       "5277  Neeladri Nagar  10 BHK      4000.0  12.0  160.0   10     4000.000000\n",
       "8486           other  10 BHK     12000.0  12.0  525.0   10     4375.000000\n",
       "8575           other  16 BHK     10000.0  16.0  550.0   16     5500.000000\n",
       "9308           other  11 BHK      6000.0  12.0  150.0   11     2500.000000\n",
       "9639           other  13 BHK      5425.0  13.0  275.0   13     5069.124424"
      ]
     },
     "execution_count": 48,
     "metadata": {},
     "output_type": "execute_result"
    }
   ],
   "source": [
    "df[df.bath>10]"
   ]
  },
  {
   "cell_type": "markdown",
   "id": "46e7e6d4",
   "metadata": {
    "papermill": {
     "duration": 0.103442,
     "end_time": "2022-10-30T17:35:35.256301",
     "exception": false,
     "start_time": "2022-10-30T17:35:35.152859",
     "status": "completed"
    },
    "tags": []
   },
   "source": [
    "#### It is unusual to have 2 more bathrooms than number of bedrooms in a home. So we are discarding that also."
   ]
  },
  {
   "cell_type": "code",
   "execution_count": 49,
   "id": "8f66d7c9",
   "metadata": {
    "execution": {
     "iopub.execute_input": "2022-10-30T17:35:35.461926Z",
     "iopub.status.busy": "2022-10-30T17:35:35.460953Z",
     "iopub.status.idle": "2022-10-30T17:35:35.476780Z",
     "shell.execute_reply": "2022-10-30T17:35:35.477316Z",
     "shell.execute_reply.started": "2021-07-23T06:27:10.789559Z"
    },
    "papermill": {
     "duration": 0.12149,
     "end_time": "2022-10-30T17:35:35.477520",
     "exception": false,
     "start_time": "2022-10-30T17:35:35.356030",
     "status": "completed"
    },
    "tags": []
   },
   "outputs": [
    {
     "data": {
      "text/html": [
       "<div>\n",
       "<style scoped>\n",
       "    .dataframe tbody tr th:only-of-type {\n",
       "        vertical-align: middle;\n",
       "    }\n",
       "\n",
       "    .dataframe tbody tr th {\n",
       "        vertical-align: top;\n",
       "    }\n",
       "\n",
       "    .dataframe thead th {\n",
       "        text-align: right;\n",
       "    }\n",
       "</style>\n",
       "<table border=\"1\" class=\"dataframe\">\n",
       "  <thead>\n",
       "    <tr style=\"text-align: right;\">\n",
       "      <th></th>\n",
       "      <th>location</th>\n",
       "      <th>size</th>\n",
       "      <th>total_sqft</th>\n",
       "      <th>bath</th>\n",
       "      <th>price</th>\n",
       "      <th>BHK</th>\n",
       "      <th>price_per_sqft</th>\n",
       "    </tr>\n",
       "  </thead>\n",
       "  <tbody>\n",
       "    <tr>\n",
       "      <th>1626</th>\n",
       "      <td>Chikkabanavar</td>\n",
       "      <td>4 Bedroom</td>\n",
       "      <td>2460.0</td>\n",
       "      <td>7.0</td>\n",
       "      <td>80.0</td>\n",
       "      <td>4</td>\n",
       "      <td>3252.032520</td>\n",
       "    </tr>\n",
       "    <tr>\n",
       "      <th>5238</th>\n",
       "      <td>Nagasandra</td>\n",
       "      <td>4 Bedroom</td>\n",
       "      <td>7000.0</td>\n",
       "      <td>8.0</td>\n",
       "      <td>450.0</td>\n",
       "      <td>4</td>\n",
       "      <td>6428.571429</td>\n",
       "    </tr>\n",
       "    <tr>\n",
       "      <th>6711</th>\n",
       "      <td>Thanisandra</td>\n",
       "      <td>3 BHK</td>\n",
       "      <td>1806.0</td>\n",
       "      <td>6.0</td>\n",
       "      <td>116.0</td>\n",
       "      <td>3</td>\n",
       "      <td>6423.034330</td>\n",
       "    </tr>\n",
       "    <tr>\n",
       "      <th>8411</th>\n",
       "      <td>other</td>\n",
       "      <td>6 BHK</td>\n",
       "      <td>11338.0</td>\n",
       "      <td>9.0</td>\n",
       "      <td>1000.0</td>\n",
       "      <td>6</td>\n",
       "      <td>8819.897689</td>\n",
       "    </tr>\n",
       "  </tbody>\n",
       "</table>\n",
       "</div>"
      ],
      "text/plain": [
       "           location       size  total_sqft  bath   price  BHK  price_per_sqft\n",
       "1626  Chikkabanavar  4 Bedroom      2460.0   7.0    80.0    4     3252.032520\n",
       "5238     Nagasandra  4 Bedroom      7000.0   8.0   450.0    4     6428.571429\n",
       "6711    Thanisandra      3 BHK      1806.0   6.0   116.0    3     6423.034330\n",
       "8411          other      6 BHK     11338.0   9.0  1000.0    6     8819.897689"
      ]
     },
     "execution_count": 49,
     "metadata": {},
     "output_type": "execute_result"
    }
   ],
   "source": [
    "df[df.bath>df.BHK+2]"
   ]
  },
  {
   "cell_type": "code",
   "execution_count": 50,
   "id": "30539876",
   "metadata": {
    "execution": {
     "iopub.execute_input": "2022-10-30T17:35:35.685585Z",
     "iopub.status.busy": "2022-10-30T17:35:35.684674Z",
     "iopub.status.idle": "2022-10-30T17:35:35.700320Z",
     "shell.execute_reply": "2022-10-30T17:35:35.699751Z",
     "shell.execute_reply.started": "2021-07-23T06:27:11.746474Z"
    },
    "papermill": {
     "duration": 0.120156,
     "end_time": "2022-10-30T17:35:35.700460",
     "exception": false,
     "start_time": "2022-10-30T17:35:35.580304",
     "status": "completed"
    },
    "tags": []
   },
   "outputs": [
    {
     "data": {
      "text/html": [
       "<div>\n",
       "<style scoped>\n",
       "    .dataframe tbody tr th:only-of-type {\n",
       "        vertical-align: middle;\n",
       "    }\n",
       "\n",
       "    .dataframe tbody tr th {\n",
       "        vertical-align: top;\n",
       "    }\n",
       "\n",
       "    .dataframe thead th {\n",
       "        text-align: right;\n",
       "    }\n",
       "</style>\n",
       "<table border=\"1\" class=\"dataframe\">\n",
       "  <thead>\n",
       "    <tr style=\"text-align: right;\">\n",
       "      <th></th>\n",
       "      <th>location</th>\n",
       "      <th>size</th>\n",
       "      <th>total_sqft</th>\n",
       "      <th>bath</th>\n",
       "      <th>price</th>\n",
       "      <th>BHK</th>\n",
       "      <th>price_per_sqft</th>\n",
       "    </tr>\n",
       "  </thead>\n",
       "  <tbody>\n",
       "    <tr>\n",
       "      <th>0</th>\n",
       "      <td>1st Block Jayanagar</td>\n",
       "      <td>4 BHK</td>\n",
       "      <td>2850.0</td>\n",
       "      <td>4.0</td>\n",
       "      <td>428.0</td>\n",
       "      <td>4</td>\n",
       "      <td>15017.543860</td>\n",
       "    </tr>\n",
       "    <tr>\n",
       "      <th>1</th>\n",
       "      <td>1st Block Jayanagar</td>\n",
       "      <td>3 BHK</td>\n",
       "      <td>1630.0</td>\n",
       "      <td>3.0</td>\n",
       "      <td>194.0</td>\n",
       "      <td>3</td>\n",
       "      <td>11901.840491</td>\n",
       "    </tr>\n",
       "    <tr>\n",
       "      <th>2</th>\n",
       "      <td>1st Block Jayanagar</td>\n",
       "      <td>3 BHK</td>\n",
       "      <td>1875.0</td>\n",
       "      <td>2.0</td>\n",
       "      <td>235.0</td>\n",
       "      <td>3</td>\n",
       "      <td>12533.333333</td>\n",
       "    </tr>\n",
       "    <tr>\n",
       "      <th>3</th>\n",
       "      <td>1st Block Jayanagar</td>\n",
       "      <td>3 BHK</td>\n",
       "      <td>1200.0</td>\n",
       "      <td>2.0</td>\n",
       "      <td>130.0</td>\n",
       "      <td>3</td>\n",
       "      <td>10833.333333</td>\n",
       "    </tr>\n",
       "    <tr>\n",
       "      <th>4</th>\n",
       "      <td>1st Block Jayanagar</td>\n",
       "      <td>2 BHK</td>\n",
       "      <td>1235.0</td>\n",
       "      <td>2.0</td>\n",
       "      <td>148.0</td>\n",
       "      <td>2</td>\n",
       "      <td>11983.805668</td>\n",
       "    </tr>\n",
       "  </tbody>\n",
       "</table>\n",
       "</div>"
      ],
      "text/plain": [
       "              location   size  total_sqft  bath  price  BHK  price_per_sqft\n",
       "0  1st Block Jayanagar  4 BHK      2850.0   4.0  428.0    4    15017.543860\n",
       "1  1st Block Jayanagar  3 BHK      1630.0   3.0  194.0    3    11901.840491\n",
       "2  1st Block Jayanagar  3 BHK      1875.0   2.0  235.0    3    12533.333333\n",
       "3  1st Block Jayanagar  3 BHK      1200.0   2.0  130.0    3    10833.333333\n",
       "4  1st Block Jayanagar  2 BHK      1235.0   2.0  148.0    2    11983.805668"
      ]
     },
     "execution_count": 50,
     "metadata": {},
     "output_type": "execute_result"
    }
   ],
   "source": [
    "df.head()"
   ]
  },
  {
   "cell_type": "markdown",
   "id": "6c653fdb",
   "metadata": {
    "papermill": {
     "duration": 0.10093,
     "end_time": "2022-10-30T17:35:35.903049",
     "exception": false,
     "start_time": "2022-10-30T17:35:35.802119",
     "status": "completed"
    },
    "tags": []
   },
   "source": [
    "#### Using One Hot Encoding for Location"
   ]
  },
  {
   "cell_type": "code",
   "execution_count": 51,
   "id": "dfb3615b",
   "metadata": {
    "execution": {
     "iopub.execute_input": "2022-10-30T17:35:36.112203Z",
     "iopub.status.busy": "2022-10-30T17:35:36.111246Z",
     "iopub.status.idle": "2022-10-30T17:35:36.132716Z",
     "shell.execute_reply": "2022-10-30T17:35:36.132072Z",
     "shell.execute_reply.started": "2021-07-23T06:27:13.443053Z"
    },
    "papermill": {
     "duration": 0.126579,
     "end_time": "2022-10-30T17:35:36.132854",
     "exception": false,
     "start_time": "2022-10-30T17:35:36.006275",
     "status": "completed"
    },
    "tags": []
   },
   "outputs": [
    {
     "data": {
      "text/html": [
       "<div>\n",
       "<style scoped>\n",
       "    .dataframe tbody tr th:only-of-type {\n",
       "        vertical-align: middle;\n",
       "    }\n",
       "\n",
       "    .dataframe tbody tr th {\n",
       "        vertical-align: top;\n",
       "    }\n",
       "\n",
       "    .dataframe thead th {\n",
       "        text-align: right;\n",
       "    }\n",
       "</style>\n",
       "<table border=\"1\" class=\"dataframe\">\n",
       "  <thead>\n",
       "    <tr style=\"text-align: right;\">\n",
       "      <th></th>\n",
       "      <th>1st Block Jayanagar</th>\n",
       "      <th>1st Phase JP Nagar</th>\n",
       "      <th>2nd Phase Judicial Layout</th>\n",
       "      <th>2nd Stage Nagarbhavi</th>\n",
       "      <th>5th Block Hbr Layout</th>\n",
       "      <th>5th Phase JP Nagar</th>\n",
       "      <th>6th Phase JP Nagar</th>\n",
       "      <th>7th Phase JP Nagar</th>\n",
       "      <th>8th Phase JP Nagar</th>\n",
       "      <th>9th Phase JP Nagar</th>\n",
       "      <th>...</th>\n",
       "      <th>Vishveshwarya Layout</th>\n",
       "      <th>Vishwapriya Layout</th>\n",
       "      <th>Vittasandra</th>\n",
       "      <th>Whitefield</th>\n",
       "      <th>Yelachenahalli</th>\n",
       "      <th>Yelahanka</th>\n",
       "      <th>Yelahanka New Town</th>\n",
       "      <th>Yelenahalli</th>\n",
       "      <th>Yeshwanthpur</th>\n",
       "      <th>other</th>\n",
       "    </tr>\n",
       "  </thead>\n",
       "  <tbody>\n",
       "    <tr>\n",
       "      <th>0</th>\n",
       "      <td>1</td>\n",
       "      <td>0</td>\n",
       "      <td>0</td>\n",
       "      <td>0</td>\n",
       "      <td>0</td>\n",
       "      <td>0</td>\n",
       "      <td>0</td>\n",
       "      <td>0</td>\n",
       "      <td>0</td>\n",
       "      <td>0</td>\n",
       "      <td>...</td>\n",
       "      <td>0</td>\n",
       "      <td>0</td>\n",
       "      <td>0</td>\n",
       "      <td>0</td>\n",
       "      <td>0</td>\n",
       "      <td>0</td>\n",
       "      <td>0</td>\n",
       "      <td>0</td>\n",
       "      <td>0</td>\n",
       "      <td>0</td>\n",
       "    </tr>\n",
       "    <tr>\n",
       "      <th>1</th>\n",
       "      <td>1</td>\n",
       "      <td>0</td>\n",
       "      <td>0</td>\n",
       "      <td>0</td>\n",
       "      <td>0</td>\n",
       "      <td>0</td>\n",
       "      <td>0</td>\n",
       "      <td>0</td>\n",
       "      <td>0</td>\n",
       "      <td>0</td>\n",
       "      <td>...</td>\n",
       "      <td>0</td>\n",
       "      <td>0</td>\n",
       "      <td>0</td>\n",
       "      <td>0</td>\n",
       "      <td>0</td>\n",
       "      <td>0</td>\n",
       "      <td>0</td>\n",
       "      <td>0</td>\n",
       "      <td>0</td>\n",
       "      <td>0</td>\n",
       "    </tr>\n",
       "    <tr>\n",
       "      <th>2</th>\n",
       "      <td>1</td>\n",
       "      <td>0</td>\n",
       "      <td>0</td>\n",
       "      <td>0</td>\n",
       "      <td>0</td>\n",
       "      <td>0</td>\n",
       "      <td>0</td>\n",
       "      <td>0</td>\n",
       "      <td>0</td>\n",
       "      <td>0</td>\n",
       "      <td>...</td>\n",
       "      <td>0</td>\n",
       "      <td>0</td>\n",
       "      <td>0</td>\n",
       "      <td>0</td>\n",
       "      <td>0</td>\n",
       "      <td>0</td>\n",
       "      <td>0</td>\n",
       "      <td>0</td>\n",
       "      <td>0</td>\n",
       "      <td>0</td>\n",
       "    </tr>\n",
       "    <tr>\n",
       "      <th>3</th>\n",
       "      <td>1</td>\n",
       "      <td>0</td>\n",
       "      <td>0</td>\n",
       "      <td>0</td>\n",
       "      <td>0</td>\n",
       "      <td>0</td>\n",
       "      <td>0</td>\n",
       "      <td>0</td>\n",
       "      <td>0</td>\n",
       "      <td>0</td>\n",
       "      <td>...</td>\n",
       "      <td>0</td>\n",
       "      <td>0</td>\n",
       "      <td>0</td>\n",
       "      <td>0</td>\n",
       "      <td>0</td>\n",
       "      <td>0</td>\n",
       "      <td>0</td>\n",
       "      <td>0</td>\n",
       "      <td>0</td>\n",
       "      <td>0</td>\n",
       "    </tr>\n",
       "    <tr>\n",
       "      <th>4</th>\n",
       "      <td>1</td>\n",
       "      <td>0</td>\n",
       "      <td>0</td>\n",
       "      <td>0</td>\n",
       "      <td>0</td>\n",
       "      <td>0</td>\n",
       "      <td>0</td>\n",
       "      <td>0</td>\n",
       "      <td>0</td>\n",
       "      <td>0</td>\n",
       "      <td>...</td>\n",
       "      <td>0</td>\n",
       "      <td>0</td>\n",
       "      <td>0</td>\n",
       "      <td>0</td>\n",
       "      <td>0</td>\n",
       "      <td>0</td>\n",
       "      <td>0</td>\n",
       "      <td>0</td>\n",
       "      <td>0</td>\n",
       "      <td>0</td>\n",
       "    </tr>\n",
       "  </tbody>\n",
       "</table>\n",
       "<p>5 rows × 242 columns</p>\n",
       "</div>"
      ],
      "text/plain": [
       "   1st Block Jayanagar  1st Phase JP Nagar  2nd Phase Judicial Layout  \\\n",
       "0                    1                   0                          0   \n",
       "1                    1                   0                          0   \n",
       "2                    1                   0                          0   \n",
       "3                    1                   0                          0   \n",
       "4                    1                   0                          0   \n",
       "\n",
       "   2nd Stage Nagarbhavi  5th Block Hbr Layout  5th Phase JP Nagar  \\\n",
       "0                     0                     0                   0   \n",
       "1                     0                     0                   0   \n",
       "2                     0                     0                   0   \n",
       "3                     0                     0                   0   \n",
       "4                     0                     0                   0   \n",
       "\n",
       "   6th Phase JP Nagar  7th Phase JP Nagar  8th Phase JP Nagar  \\\n",
       "0                   0                   0                   0   \n",
       "1                   0                   0                   0   \n",
       "2                   0                   0                   0   \n",
       "3                   0                   0                   0   \n",
       "4                   0                   0                   0   \n",
       "\n",
       "   9th Phase JP Nagar  ...  Vishveshwarya Layout  Vishwapriya Layout  \\\n",
       "0                   0  ...                     0                   0   \n",
       "1                   0  ...                     0                   0   \n",
       "2                   0  ...                     0                   0   \n",
       "3                   0  ...                     0                   0   \n",
       "4                   0  ...                     0                   0   \n",
       "\n",
       "   Vittasandra  Whitefield  Yelachenahalli  Yelahanka  Yelahanka New Town  \\\n",
       "0            0           0               0          0                   0   \n",
       "1            0           0               0          0                   0   \n",
       "2            0           0               0          0                   0   \n",
       "3            0           0               0          0                   0   \n",
       "4            0           0               0          0                   0   \n",
       "\n",
       "   Yelenahalli  Yeshwanthpur  other  \n",
       "0            0             0      0  \n",
       "1            0             0      0  \n",
       "2            0             0      0  \n",
       "3            0             0      0  \n",
       "4            0             0      0  \n",
       "\n",
       "[5 rows x 242 columns]"
      ]
     },
     "execution_count": 51,
     "metadata": {},
     "output_type": "execute_result"
    }
   ],
   "source": [
    "dummies = pd.get_dummies(df.location)\n",
    "dummies.head()"
   ]
  },
  {
   "cell_type": "markdown",
   "id": "57d7f396",
   "metadata": {
    "papermill": {
     "duration": 0.130269,
     "end_time": "2022-10-30T17:35:36.365754",
     "exception": false,
     "start_time": "2022-10-30T17:35:36.235485",
     "status": "completed"
    },
    "tags": []
   },
   "source": [
    "#### Concatinating both the dataframes together"
   ]
  },
  {
   "cell_type": "code",
   "execution_count": 52,
   "id": "d270cd22",
   "metadata": {
    "execution": {
     "iopub.execute_input": "2022-10-30T17:35:36.587118Z",
     "iopub.status.busy": "2022-10-30T17:35:36.586375Z",
     "iopub.status.idle": "2022-10-30T17:35:36.631477Z",
     "shell.execute_reply": "2022-10-30T17:35:36.630964Z",
     "shell.execute_reply.started": "2021-07-23T06:27:15.386612Z"
    },
    "papermill": {
     "duration": 0.157799,
     "end_time": "2022-10-30T17:35:36.631625",
     "exception": false,
     "start_time": "2022-10-30T17:35:36.473826",
     "status": "completed"
    },
    "tags": []
   },
   "outputs": [
    {
     "data": {
      "text/html": [
       "<div>\n",
       "<style scoped>\n",
       "    .dataframe tbody tr th:only-of-type {\n",
       "        vertical-align: middle;\n",
       "    }\n",
       "\n",
       "    .dataframe tbody tr th {\n",
       "        vertical-align: top;\n",
       "    }\n",
       "\n",
       "    .dataframe thead th {\n",
       "        text-align: right;\n",
       "    }\n",
       "</style>\n",
       "<table border=\"1\" class=\"dataframe\">\n",
       "  <thead>\n",
       "    <tr style=\"text-align: right;\">\n",
       "      <th></th>\n",
       "      <th>location</th>\n",
       "      <th>size</th>\n",
       "      <th>total_sqft</th>\n",
       "      <th>bath</th>\n",
       "      <th>price</th>\n",
       "      <th>BHK</th>\n",
       "      <th>price_per_sqft</th>\n",
       "      <th>1st Block Jayanagar</th>\n",
       "      <th>1st Phase JP Nagar</th>\n",
       "      <th>2nd Phase Judicial Layout</th>\n",
       "      <th>...</th>\n",
       "      <th>Vijayanagar</th>\n",
       "      <th>Vishveshwarya Layout</th>\n",
       "      <th>Vishwapriya Layout</th>\n",
       "      <th>Vittasandra</th>\n",
       "      <th>Whitefield</th>\n",
       "      <th>Yelachenahalli</th>\n",
       "      <th>Yelahanka</th>\n",
       "      <th>Yelahanka New Town</th>\n",
       "      <th>Yelenahalli</th>\n",
       "      <th>Yeshwanthpur</th>\n",
       "    </tr>\n",
       "  </thead>\n",
       "  <tbody>\n",
       "    <tr>\n",
       "      <th>0</th>\n",
       "      <td>1st Block Jayanagar</td>\n",
       "      <td>4 BHK</td>\n",
       "      <td>2850.0</td>\n",
       "      <td>4.0</td>\n",
       "      <td>428.0</td>\n",
       "      <td>4</td>\n",
       "      <td>15017.543860</td>\n",
       "      <td>1</td>\n",
       "      <td>0</td>\n",
       "      <td>0</td>\n",
       "      <td>...</td>\n",
       "      <td>0</td>\n",
       "      <td>0</td>\n",
       "      <td>0</td>\n",
       "      <td>0</td>\n",
       "      <td>0</td>\n",
       "      <td>0</td>\n",
       "      <td>0</td>\n",
       "      <td>0</td>\n",
       "      <td>0</td>\n",
       "      <td>0</td>\n",
       "    </tr>\n",
       "    <tr>\n",
       "      <th>1</th>\n",
       "      <td>1st Block Jayanagar</td>\n",
       "      <td>3 BHK</td>\n",
       "      <td>1630.0</td>\n",
       "      <td>3.0</td>\n",
       "      <td>194.0</td>\n",
       "      <td>3</td>\n",
       "      <td>11901.840491</td>\n",
       "      <td>1</td>\n",
       "      <td>0</td>\n",
       "      <td>0</td>\n",
       "      <td>...</td>\n",
       "      <td>0</td>\n",
       "      <td>0</td>\n",
       "      <td>0</td>\n",
       "      <td>0</td>\n",
       "      <td>0</td>\n",
       "      <td>0</td>\n",
       "      <td>0</td>\n",
       "      <td>0</td>\n",
       "      <td>0</td>\n",
       "      <td>0</td>\n",
       "    </tr>\n",
       "    <tr>\n",
       "      <th>2</th>\n",
       "      <td>1st Block Jayanagar</td>\n",
       "      <td>3 BHK</td>\n",
       "      <td>1875.0</td>\n",
       "      <td>2.0</td>\n",
       "      <td>235.0</td>\n",
       "      <td>3</td>\n",
       "      <td>12533.333333</td>\n",
       "      <td>1</td>\n",
       "      <td>0</td>\n",
       "      <td>0</td>\n",
       "      <td>...</td>\n",
       "      <td>0</td>\n",
       "      <td>0</td>\n",
       "      <td>0</td>\n",
       "      <td>0</td>\n",
       "      <td>0</td>\n",
       "      <td>0</td>\n",
       "      <td>0</td>\n",
       "      <td>0</td>\n",
       "      <td>0</td>\n",
       "      <td>0</td>\n",
       "    </tr>\n",
       "    <tr>\n",
       "      <th>3</th>\n",
       "      <td>1st Block Jayanagar</td>\n",
       "      <td>3 BHK</td>\n",
       "      <td>1200.0</td>\n",
       "      <td>2.0</td>\n",
       "      <td>130.0</td>\n",
       "      <td>3</td>\n",
       "      <td>10833.333333</td>\n",
       "      <td>1</td>\n",
       "      <td>0</td>\n",
       "      <td>0</td>\n",
       "      <td>...</td>\n",
       "      <td>0</td>\n",
       "      <td>0</td>\n",
       "      <td>0</td>\n",
       "      <td>0</td>\n",
       "      <td>0</td>\n",
       "      <td>0</td>\n",
       "      <td>0</td>\n",
       "      <td>0</td>\n",
       "      <td>0</td>\n",
       "      <td>0</td>\n",
       "    </tr>\n",
       "    <tr>\n",
       "      <th>4</th>\n",
       "      <td>1st Block Jayanagar</td>\n",
       "      <td>2 BHK</td>\n",
       "      <td>1235.0</td>\n",
       "      <td>2.0</td>\n",
       "      <td>148.0</td>\n",
       "      <td>2</td>\n",
       "      <td>11983.805668</td>\n",
       "      <td>1</td>\n",
       "      <td>0</td>\n",
       "      <td>0</td>\n",
       "      <td>...</td>\n",
       "      <td>0</td>\n",
       "      <td>0</td>\n",
       "      <td>0</td>\n",
       "      <td>0</td>\n",
       "      <td>0</td>\n",
       "      <td>0</td>\n",
       "      <td>0</td>\n",
       "      <td>0</td>\n",
       "      <td>0</td>\n",
       "      <td>0</td>\n",
       "    </tr>\n",
       "  </tbody>\n",
       "</table>\n",
       "<p>5 rows × 248 columns</p>\n",
       "</div>"
      ],
      "text/plain": [
       "              location   size  total_sqft  bath  price  BHK  price_per_sqft  \\\n",
       "0  1st Block Jayanagar  4 BHK      2850.0   4.0  428.0    4    15017.543860   \n",
       "1  1st Block Jayanagar  3 BHK      1630.0   3.0  194.0    3    11901.840491   \n",
       "2  1st Block Jayanagar  3 BHK      1875.0   2.0  235.0    3    12533.333333   \n",
       "3  1st Block Jayanagar  3 BHK      1200.0   2.0  130.0    3    10833.333333   \n",
       "4  1st Block Jayanagar  2 BHK      1235.0   2.0  148.0    2    11983.805668   \n",
       "\n",
       "   1st Block Jayanagar  1st Phase JP Nagar  2nd Phase Judicial Layout  ...  \\\n",
       "0                    1                   0                          0  ...   \n",
       "1                    1                   0                          0  ...   \n",
       "2                    1                   0                          0  ...   \n",
       "3                    1                   0                          0  ...   \n",
       "4                    1                   0                          0  ...   \n",
       "\n",
       "   Vijayanagar  Vishveshwarya Layout  Vishwapriya Layout  Vittasandra  \\\n",
       "0            0                     0                   0            0   \n",
       "1            0                     0                   0            0   \n",
       "2            0                     0                   0            0   \n",
       "3            0                     0                   0            0   \n",
       "4            0                     0                   0            0   \n",
       "\n",
       "   Whitefield  Yelachenahalli  Yelahanka  Yelahanka New Town  Yelenahalli  \\\n",
       "0           0               0          0                   0            0   \n",
       "1           0               0          0                   0            0   \n",
       "2           0               0          0                   0            0   \n",
       "3           0               0          0                   0            0   \n",
       "4           0               0          0                   0            0   \n",
       "\n",
       "   Yeshwanthpur  \n",
       "0             0  \n",
       "1             0  \n",
       "2             0  \n",
       "3             0  \n",
       "4             0  \n",
       "\n",
       "[5 rows x 248 columns]"
      ]
     },
     "execution_count": 52,
     "metadata": {},
     "output_type": "execute_result"
    }
   ],
   "source": [
    "df = pd.concat([df,dummies.drop('other',axis='columns')],axis='columns')\n",
    "df.head()"
   ]
  },
  {
   "cell_type": "code",
   "execution_count": 53,
   "id": "65120615",
   "metadata": {
    "execution": {
     "iopub.execute_input": "2022-10-30T17:35:36.849978Z",
     "iopub.status.busy": "2022-10-30T17:35:36.847702Z",
     "iopub.status.idle": "2022-10-30T17:35:36.875360Z",
     "shell.execute_reply": "2022-10-30T17:35:36.874808Z",
     "shell.execute_reply.started": "2021-07-23T06:27:16.039354Z"
    },
    "papermill": {
     "duration": 0.137356,
     "end_time": "2022-10-30T17:35:36.875535",
     "exception": false,
     "start_time": "2022-10-30T17:35:36.738179",
     "status": "completed"
    },
    "tags": []
   },
   "outputs": [
    {
     "data": {
      "text/html": [
       "<div>\n",
       "<style scoped>\n",
       "    .dataframe tbody tr th:only-of-type {\n",
       "        vertical-align: middle;\n",
       "    }\n",
       "\n",
       "    .dataframe tbody tr th {\n",
       "        vertical-align: top;\n",
       "    }\n",
       "\n",
       "    .dataframe thead th {\n",
       "        text-align: right;\n",
       "    }\n",
       "</style>\n",
       "<table border=\"1\" class=\"dataframe\">\n",
       "  <thead>\n",
       "    <tr style=\"text-align: right;\">\n",
       "      <th></th>\n",
       "      <th>size</th>\n",
       "      <th>total_sqft</th>\n",
       "      <th>bath</th>\n",
       "      <th>price</th>\n",
       "      <th>BHK</th>\n",
       "      <th>price_per_sqft</th>\n",
       "      <th>1st Block Jayanagar</th>\n",
       "      <th>1st Phase JP Nagar</th>\n",
       "      <th>2nd Phase Judicial Layout</th>\n",
       "      <th>2nd Stage Nagarbhavi</th>\n",
       "      <th>...</th>\n",
       "      <th>Vijayanagar</th>\n",
       "      <th>Vishveshwarya Layout</th>\n",
       "      <th>Vishwapriya Layout</th>\n",
       "      <th>Vittasandra</th>\n",
       "      <th>Whitefield</th>\n",
       "      <th>Yelachenahalli</th>\n",
       "      <th>Yelahanka</th>\n",
       "      <th>Yelahanka New Town</th>\n",
       "      <th>Yelenahalli</th>\n",
       "      <th>Yeshwanthpur</th>\n",
       "    </tr>\n",
       "  </thead>\n",
       "  <tbody>\n",
       "    <tr>\n",
       "      <th>0</th>\n",
       "      <td>4 BHK</td>\n",
       "      <td>2850.0</td>\n",
       "      <td>4.0</td>\n",
       "      <td>428.0</td>\n",
       "      <td>4</td>\n",
       "      <td>15017.543860</td>\n",
       "      <td>1</td>\n",
       "      <td>0</td>\n",
       "      <td>0</td>\n",
       "      <td>0</td>\n",
       "      <td>...</td>\n",
       "      <td>0</td>\n",
       "      <td>0</td>\n",
       "      <td>0</td>\n",
       "      <td>0</td>\n",
       "      <td>0</td>\n",
       "      <td>0</td>\n",
       "      <td>0</td>\n",
       "      <td>0</td>\n",
       "      <td>0</td>\n",
       "      <td>0</td>\n",
       "    </tr>\n",
       "    <tr>\n",
       "      <th>1</th>\n",
       "      <td>3 BHK</td>\n",
       "      <td>1630.0</td>\n",
       "      <td>3.0</td>\n",
       "      <td>194.0</td>\n",
       "      <td>3</td>\n",
       "      <td>11901.840491</td>\n",
       "      <td>1</td>\n",
       "      <td>0</td>\n",
       "      <td>0</td>\n",
       "      <td>0</td>\n",
       "      <td>...</td>\n",
       "      <td>0</td>\n",
       "      <td>0</td>\n",
       "      <td>0</td>\n",
       "      <td>0</td>\n",
       "      <td>0</td>\n",
       "      <td>0</td>\n",
       "      <td>0</td>\n",
       "      <td>0</td>\n",
       "      <td>0</td>\n",
       "      <td>0</td>\n",
       "    </tr>\n",
       "    <tr>\n",
       "      <th>2</th>\n",
       "      <td>3 BHK</td>\n",
       "      <td>1875.0</td>\n",
       "      <td>2.0</td>\n",
       "      <td>235.0</td>\n",
       "      <td>3</td>\n",
       "      <td>12533.333333</td>\n",
       "      <td>1</td>\n",
       "      <td>0</td>\n",
       "      <td>0</td>\n",
       "      <td>0</td>\n",
       "      <td>...</td>\n",
       "      <td>0</td>\n",
       "      <td>0</td>\n",
       "      <td>0</td>\n",
       "      <td>0</td>\n",
       "      <td>0</td>\n",
       "      <td>0</td>\n",
       "      <td>0</td>\n",
       "      <td>0</td>\n",
       "      <td>0</td>\n",
       "      <td>0</td>\n",
       "    </tr>\n",
       "    <tr>\n",
       "      <th>3</th>\n",
       "      <td>3 BHK</td>\n",
       "      <td>1200.0</td>\n",
       "      <td>2.0</td>\n",
       "      <td>130.0</td>\n",
       "      <td>3</td>\n",
       "      <td>10833.333333</td>\n",
       "      <td>1</td>\n",
       "      <td>0</td>\n",
       "      <td>0</td>\n",
       "      <td>0</td>\n",
       "      <td>...</td>\n",
       "      <td>0</td>\n",
       "      <td>0</td>\n",
       "      <td>0</td>\n",
       "      <td>0</td>\n",
       "      <td>0</td>\n",
       "      <td>0</td>\n",
       "      <td>0</td>\n",
       "      <td>0</td>\n",
       "      <td>0</td>\n",
       "      <td>0</td>\n",
       "    </tr>\n",
       "    <tr>\n",
       "      <th>4</th>\n",
       "      <td>2 BHK</td>\n",
       "      <td>1235.0</td>\n",
       "      <td>2.0</td>\n",
       "      <td>148.0</td>\n",
       "      <td>2</td>\n",
       "      <td>11983.805668</td>\n",
       "      <td>1</td>\n",
       "      <td>0</td>\n",
       "      <td>0</td>\n",
       "      <td>0</td>\n",
       "      <td>...</td>\n",
       "      <td>0</td>\n",
       "      <td>0</td>\n",
       "      <td>0</td>\n",
       "      <td>0</td>\n",
       "      <td>0</td>\n",
       "      <td>0</td>\n",
       "      <td>0</td>\n",
       "      <td>0</td>\n",
       "      <td>0</td>\n",
       "      <td>0</td>\n",
       "    </tr>\n",
       "  </tbody>\n",
       "</table>\n",
       "<p>5 rows × 247 columns</p>\n",
       "</div>"
      ],
      "text/plain": [
       "    size  total_sqft  bath  price  BHK  price_per_sqft  1st Block Jayanagar  \\\n",
       "0  4 BHK      2850.0   4.0  428.0    4    15017.543860                    1   \n",
       "1  3 BHK      1630.0   3.0  194.0    3    11901.840491                    1   \n",
       "2  3 BHK      1875.0   2.0  235.0    3    12533.333333                    1   \n",
       "3  3 BHK      1200.0   2.0  130.0    3    10833.333333                    1   \n",
       "4  2 BHK      1235.0   2.0  148.0    2    11983.805668                    1   \n",
       "\n",
       "   1st Phase JP Nagar  2nd Phase Judicial Layout  2nd Stage Nagarbhavi  ...  \\\n",
       "0                   0                          0                     0  ...   \n",
       "1                   0                          0                     0  ...   \n",
       "2                   0                          0                     0  ...   \n",
       "3                   0                          0                     0  ...   \n",
       "4                   0                          0                     0  ...   \n",
       "\n",
       "   Vijayanagar  Vishveshwarya Layout  Vishwapriya Layout  Vittasandra  \\\n",
       "0            0                     0                   0            0   \n",
       "1            0                     0                   0            0   \n",
       "2            0                     0                   0            0   \n",
       "3            0                     0                   0            0   \n",
       "4            0                     0                   0            0   \n",
       "\n",
       "   Whitefield  Yelachenahalli  Yelahanka  Yelahanka New Town  Yelenahalli  \\\n",
       "0           0               0          0                   0            0   \n",
       "1           0               0          0                   0            0   \n",
       "2           0               0          0                   0            0   \n",
       "3           0               0          0                   0            0   \n",
       "4           0               0          0                   0            0   \n",
       "\n",
       "   Yeshwanthpur  \n",
       "0             0  \n",
       "1             0  \n",
       "2             0  \n",
       "3             0  \n",
       "4             0  \n",
       "\n",
       "[5 rows x 247 columns]"
      ]
     },
     "execution_count": 53,
     "metadata": {},
     "output_type": "execute_result"
    }
   ],
   "source": [
    "df = df.drop('location',axis='columns')\n",
    "df.head()"
   ]
  },
  {
   "cell_type": "code",
   "execution_count": 54,
   "id": "45ef7e6e",
   "metadata": {
    "execution": {
     "iopub.execute_input": "2022-10-30T17:35:37.096810Z",
     "iopub.status.busy": "2022-10-30T17:35:37.096108Z",
     "iopub.status.idle": "2022-10-30T17:35:37.123268Z",
     "shell.execute_reply": "2022-10-30T17:35:37.124047Z",
     "shell.execute_reply.started": "2021-07-23T06:27:16.62972Z"
    },
    "papermill": {
     "duration": 0.141471,
     "end_time": "2022-10-30T17:35:37.124227",
     "exception": false,
     "start_time": "2022-10-30T17:35:36.982756",
     "status": "completed"
    },
    "tags": []
   },
   "outputs": [
    {
     "data": {
      "text/html": [
       "<div>\n",
       "<style scoped>\n",
       "    .dataframe tbody tr th:only-of-type {\n",
       "        vertical-align: middle;\n",
       "    }\n",
       "\n",
       "    .dataframe tbody tr th {\n",
       "        vertical-align: top;\n",
       "    }\n",
       "\n",
       "    .dataframe thead th {\n",
       "        text-align: right;\n",
       "    }\n",
       "</style>\n",
       "<table border=\"1\" class=\"dataframe\">\n",
       "  <thead>\n",
       "    <tr style=\"text-align: right;\">\n",
       "      <th></th>\n",
       "      <th>size</th>\n",
       "      <th>total_sqft</th>\n",
       "      <th>bath</th>\n",
       "      <th>BHK</th>\n",
       "      <th>price_per_sqft</th>\n",
       "      <th>1st Block Jayanagar</th>\n",
       "      <th>1st Phase JP Nagar</th>\n",
       "      <th>2nd Phase Judicial Layout</th>\n",
       "      <th>2nd Stage Nagarbhavi</th>\n",
       "      <th>5th Block Hbr Layout</th>\n",
       "      <th>...</th>\n",
       "      <th>Vijayanagar</th>\n",
       "      <th>Vishveshwarya Layout</th>\n",
       "      <th>Vishwapriya Layout</th>\n",
       "      <th>Vittasandra</th>\n",
       "      <th>Whitefield</th>\n",
       "      <th>Yelachenahalli</th>\n",
       "      <th>Yelahanka</th>\n",
       "      <th>Yelahanka New Town</th>\n",
       "      <th>Yelenahalli</th>\n",
       "      <th>Yeshwanthpur</th>\n",
       "    </tr>\n",
       "  </thead>\n",
       "  <tbody>\n",
       "    <tr>\n",
       "      <th>0</th>\n",
       "      <td>4 BHK</td>\n",
       "      <td>2850.0</td>\n",
       "      <td>4.0</td>\n",
       "      <td>4</td>\n",
       "      <td>15017.543860</td>\n",
       "      <td>1</td>\n",
       "      <td>0</td>\n",
       "      <td>0</td>\n",
       "      <td>0</td>\n",
       "      <td>0</td>\n",
       "      <td>...</td>\n",
       "      <td>0</td>\n",
       "      <td>0</td>\n",
       "      <td>0</td>\n",
       "      <td>0</td>\n",
       "      <td>0</td>\n",
       "      <td>0</td>\n",
       "      <td>0</td>\n",
       "      <td>0</td>\n",
       "      <td>0</td>\n",
       "      <td>0</td>\n",
       "    </tr>\n",
       "    <tr>\n",
       "      <th>1</th>\n",
       "      <td>3 BHK</td>\n",
       "      <td>1630.0</td>\n",
       "      <td>3.0</td>\n",
       "      <td>3</td>\n",
       "      <td>11901.840491</td>\n",
       "      <td>1</td>\n",
       "      <td>0</td>\n",
       "      <td>0</td>\n",
       "      <td>0</td>\n",
       "      <td>0</td>\n",
       "      <td>...</td>\n",
       "      <td>0</td>\n",
       "      <td>0</td>\n",
       "      <td>0</td>\n",
       "      <td>0</td>\n",
       "      <td>0</td>\n",
       "      <td>0</td>\n",
       "      <td>0</td>\n",
       "      <td>0</td>\n",
       "      <td>0</td>\n",
       "      <td>0</td>\n",
       "    </tr>\n",
       "    <tr>\n",
       "      <th>2</th>\n",
       "      <td>3 BHK</td>\n",
       "      <td>1875.0</td>\n",
       "      <td>2.0</td>\n",
       "      <td>3</td>\n",
       "      <td>12533.333333</td>\n",
       "      <td>1</td>\n",
       "      <td>0</td>\n",
       "      <td>0</td>\n",
       "      <td>0</td>\n",
       "      <td>0</td>\n",
       "      <td>...</td>\n",
       "      <td>0</td>\n",
       "      <td>0</td>\n",
       "      <td>0</td>\n",
       "      <td>0</td>\n",
       "      <td>0</td>\n",
       "      <td>0</td>\n",
       "      <td>0</td>\n",
       "      <td>0</td>\n",
       "      <td>0</td>\n",
       "      <td>0</td>\n",
       "    </tr>\n",
       "    <tr>\n",
       "      <th>3</th>\n",
       "      <td>3 BHK</td>\n",
       "      <td>1200.0</td>\n",
       "      <td>2.0</td>\n",
       "      <td>3</td>\n",
       "      <td>10833.333333</td>\n",
       "      <td>1</td>\n",
       "      <td>0</td>\n",
       "      <td>0</td>\n",
       "      <td>0</td>\n",
       "      <td>0</td>\n",
       "      <td>...</td>\n",
       "      <td>0</td>\n",
       "      <td>0</td>\n",
       "      <td>0</td>\n",
       "      <td>0</td>\n",
       "      <td>0</td>\n",
       "      <td>0</td>\n",
       "      <td>0</td>\n",
       "      <td>0</td>\n",
       "      <td>0</td>\n",
       "      <td>0</td>\n",
       "    </tr>\n",
       "    <tr>\n",
       "      <th>4</th>\n",
       "      <td>2 BHK</td>\n",
       "      <td>1235.0</td>\n",
       "      <td>2.0</td>\n",
       "      <td>2</td>\n",
       "      <td>11983.805668</td>\n",
       "      <td>1</td>\n",
       "      <td>0</td>\n",
       "      <td>0</td>\n",
       "      <td>0</td>\n",
       "      <td>0</td>\n",
       "      <td>...</td>\n",
       "      <td>0</td>\n",
       "      <td>0</td>\n",
       "      <td>0</td>\n",
       "      <td>0</td>\n",
       "      <td>0</td>\n",
       "      <td>0</td>\n",
       "      <td>0</td>\n",
       "      <td>0</td>\n",
       "      <td>0</td>\n",
       "      <td>0</td>\n",
       "    </tr>\n",
       "  </tbody>\n",
       "</table>\n",
       "<p>5 rows × 246 columns</p>\n",
       "</div>"
      ],
      "text/plain": [
       "    size  total_sqft  bath  BHK  price_per_sqft  1st Block Jayanagar  \\\n",
       "0  4 BHK      2850.0   4.0    4    15017.543860                    1   \n",
       "1  3 BHK      1630.0   3.0    3    11901.840491                    1   \n",
       "2  3 BHK      1875.0   2.0    3    12533.333333                    1   \n",
       "3  3 BHK      1200.0   2.0    3    10833.333333                    1   \n",
       "4  2 BHK      1235.0   2.0    2    11983.805668                    1   \n",
       "\n",
       "   1st Phase JP Nagar  2nd Phase Judicial Layout  2nd Stage Nagarbhavi  \\\n",
       "0                   0                          0                     0   \n",
       "1                   0                          0                     0   \n",
       "2                   0                          0                     0   \n",
       "3                   0                          0                     0   \n",
       "4                   0                          0                     0   \n",
       "\n",
       "   5th Block Hbr Layout  ...  Vijayanagar  Vishveshwarya Layout  \\\n",
       "0                     0  ...            0                     0   \n",
       "1                     0  ...            0                     0   \n",
       "2                     0  ...            0                     0   \n",
       "3                     0  ...            0                     0   \n",
       "4                     0  ...            0                     0   \n",
       "\n",
       "   Vishwapriya Layout  Vittasandra  Whitefield  Yelachenahalli  Yelahanka  \\\n",
       "0                   0            0           0               0          0   \n",
       "1                   0            0           0               0          0   \n",
       "2                   0            0           0               0          0   \n",
       "3                   0            0           0               0          0   \n",
       "4                   0            0           0               0          0   \n",
       "\n",
       "   Yelahanka New Town  Yelenahalli  Yeshwanthpur  \n",
       "0                   0            0             0  \n",
       "1                   0            0             0  \n",
       "2                   0            0             0  \n",
       "3                   0            0             0  \n",
       "4                   0            0             0  \n",
       "\n",
       "[5 rows x 246 columns]"
      ]
     },
     "execution_count": 54,
     "metadata": {},
     "output_type": "execute_result"
    }
   ],
   "source": [
    "X = df.drop(['price'],axis='columns')\n",
    "X.head()"
   ]
  },
  {
   "cell_type": "code",
   "execution_count": 55,
   "id": "3ed4c150",
   "metadata": {
    "execution": {
     "iopub.execute_input": "2022-10-30T17:35:37.366817Z",
     "iopub.status.busy": "2022-10-30T17:35:37.365906Z",
     "iopub.status.idle": "2022-10-30T17:35:37.369874Z",
     "shell.execute_reply": "2022-10-30T17:35:37.370362Z",
     "shell.execute_reply.started": "2021-07-23T06:27:17.225454Z"
    },
    "papermill": {
     "duration": 0.125869,
     "end_time": "2022-10-30T17:35:37.370577",
     "exception": false,
     "start_time": "2022-10-30T17:35:37.244708",
     "status": "completed"
    },
    "tags": []
   },
   "outputs": [
    {
     "data": {
      "text/plain": [
       "0    428.0\n",
       "1    194.0\n",
       "2    235.0\n",
       "3    130.0\n",
       "4    148.0\n",
       "Name: price, dtype: float64"
      ]
     },
     "execution_count": 55,
     "metadata": {},
     "output_type": "execute_result"
    }
   ],
   "source": [
    "y = df.price\n",
    "y.head()"
   ]
  },
  {
   "cell_type": "code",
   "execution_count": 56,
   "id": "729e93c1",
   "metadata": {
    "execution": {
     "iopub.execute_input": "2022-10-30T17:35:37.591154Z",
     "iopub.status.busy": "2022-10-30T17:35:37.589697Z",
     "iopub.status.idle": "2022-10-30T17:35:37.612730Z",
     "shell.execute_reply": "2022-10-30T17:35:37.613301Z",
     "shell.execute_reply.started": "2021-07-23T06:27:17.784665Z"
    },
    "papermill": {
     "duration": 0.136343,
     "end_time": "2022-10-30T17:35:37.613537",
     "exception": false,
     "start_time": "2022-10-30T17:35:37.477194",
     "status": "completed"
    },
    "tags": []
   },
   "outputs": [
    {
     "data": {
      "text/html": [
       "<div>\n",
       "<style scoped>\n",
       "    .dataframe tbody tr th:only-of-type {\n",
       "        vertical-align: middle;\n",
       "    }\n",
       "\n",
       "    .dataframe tbody tr th {\n",
       "        vertical-align: top;\n",
       "    }\n",
       "\n",
       "    .dataframe thead th {\n",
       "        text-align: right;\n",
       "    }\n",
       "</style>\n",
       "<table border=\"1\" class=\"dataframe\">\n",
       "  <thead>\n",
       "    <tr style=\"text-align: right;\">\n",
       "      <th></th>\n",
       "      <th>total_sqft</th>\n",
       "      <th>bath</th>\n",
       "      <th>BHK</th>\n",
       "      <th>price_per_sqft</th>\n",
       "      <th>1st Block Jayanagar</th>\n",
       "      <th>1st Phase JP Nagar</th>\n",
       "      <th>2nd Phase Judicial Layout</th>\n",
       "      <th>2nd Stage Nagarbhavi</th>\n",
       "      <th>5th Block Hbr Layout</th>\n",
       "      <th>5th Phase JP Nagar</th>\n",
       "      <th>...</th>\n",
       "      <th>Vijayanagar</th>\n",
       "      <th>Vishveshwarya Layout</th>\n",
       "      <th>Vishwapriya Layout</th>\n",
       "      <th>Vittasandra</th>\n",
       "      <th>Whitefield</th>\n",
       "      <th>Yelachenahalli</th>\n",
       "      <th>Yelahanka</th>\n",
       "      <th>Yelahanka New Town</th>\n",
       "      <th>Yelenahalli</th>\n",
       "      <th>Yeshwanthpur</th>\n",
       "    </tr>\n",
       "  </thead>\n",
       "  <tbody>\n",
       "    <tr>\n",
       "      <th>0</th>\n",
       "      <td>2850.0</td>\n",
       "      <td>4.0</td>\n",
       "      <td>4</td>\n",
       "      <td>15017.543860</td>\n",
       "      <td>1</td>\n",
       "      <td>0</td>\n",
       "      <td>0</td>\n",
       "      <td>0</td>\n",
       "      <td>0</td>\n",
       "      <td>0</td>\n",
       "      <td>...</td>\n",
       "      <td>0</td>\n",
       "      <td>0</td>\n",
       "      <td>0</td>\n",
       "      <td>0</td>\n",
       "      <td>0</td>\n",
       "      <td>0</td>\n",
       "      <td>0</td>\n",
       "      <td>0</td>\n",
       "      <td>0</td>\n",
       "      <td>0</td>\n",
       "    </tr>\n",
       "    <tr>\n",
       "      <th>1</th>\n",
       "      <td>1630.0</td>\n",
       "      <td>3.0</td>\n",
       "      <td>3</td>\n",
       "      <td>11901.840491</td>\n",
       "      <td>1</td>\n",
       "      <td>0</td>\n",
       "      <td>0</td>\n",
       "      <td>0</td>\n",
       "      <td>0</td>\n",
       "      <td>0</td>\n",
       "      <td>...</td>\n",
       "      <td>0</td>\n",
       "      <td>0</td>\n",
       "      <td>0</td>\n",
       "      <td>0</td>\n",
       "      <td>0</td>\n",
       "      <td>0</td>\n",
       "      <td>0</td>\n",
       "      <td>0</td>\n",
       "      <td>0</td>\n",
       "      <td>0</td>\n",
       "    </tr>\n",
       "    <tr>\n",
       "      <th>2</th>\n",
       "      <td>1875.0</td>\n",
       "      <td>2.0</td>\n",
       "      <td>3</td>\n",
       "      <td>12533.333333</td>\n",
       "      <td>1</td>\n",
       "      <td>0</td>\n",
       "      <td>0</td>\n",
       "      <td>0</td>\n",
       "      <td>0</td>\n",
       "      <td>0</td>\n",
       "      <td>...</td>\n",
       "      <td>0</td>\n",
       "      <td>0</td>\n",
       "      <td>0</td>\n",
       "      <td>0</td>\n",
       "      <td>0</td>\n",
       "      <td>0</td>\n",
       "      <td>0</td>\n",
       "      <td>0</td>\n",
       "      <td>0</td>\n",
       "      <td>0</td>\n",
       "    </tr>\n",
       "    <tr>\n",
       "      <th>3</th>\n",
       "      <td>1200.0</td>\n",
       "      <td>2.0</td>\n",
       "      <td>3</td>\n",
       "      <td>10833.333333</td>\n",
       "      <td>1</td>\n",
       "      <td>0</td>\n",
       "      <td>0</td>\n",
       "      <td>0</td>\n",
       "      <td>0</td>\n",
       "      <td>0</td>\n",
       "      <td>...</td>\n",
       "      <td>0</td>\n",
       "      <td>0</td>\n",
       "      <td>0</td>\n",
       "      <td>0</td>\n",
       "      <td>0</td>\n",
       "      <td>0</td>\n",
       "      <td>0</td>\n",
       "      <td>0</td>\n",
       "      <td>0</td>\n",
       "      <td>0</td>\n",
       "    </tr>\n",
       "    <tr>\n",
       "      <th>4</th>\n",
       "      <td>1235.0</td>\n",
       "      <td>2.0</td>\n",
       "      <td>2</td>\n",
       "      <td>11983.805668</td>\n",
       "      <td>1</td>\n",
       "      <td>0</td>\n",
       "      <td>0</td>\n",
       "      <td>0</td>\n",
       "      <td>0</td>\n",
       "      <td>0</td>\n",
       "      <td>...</td>\n",
       "      <td>0</td>\n",
       "      <td>0</td>\n",
       "      <td>0</td>\n",
       "      <td>0</td>\n",
       "      <td>0</td>\n",
       "      <td>0</td>\n",
       "      <td>0</td>\n",
       "      <td>0</td>\n",
       "      <td>0</td>\n",
       "      <td>0</td>\n",
       "    </tr>\n",
       "  </tbody>\n",
       "</table>\n",
       "<p>5 rows × 245 columns</p>\n",
       "</div>"
      ],
      "text/plain": [
       "   total_sqft  bath  BHK  price_per_sqft  1st Block Jayanagar  \\\n",
       "0      2850.0   4.0    4    15017.543860                    1   \n",
       "1      1630.0   3.0    3    11901.840491                    1   \n",
       "2      1875.0   2.0    3    12533.333333                    1   \n",
       "3      1200.0   2.0    3    10833.333333                    1   \n",
       "4      1235.0   2.0    2    11983.805668                    1   \n",
       "\n",
       "   1st Phase JP Nagar  2nd Phase Judicial Layout  2nd Stage Nagarbhavi  \\\n",
       "0                   0                          0                     0   \n",
       "1                   0                          0                     0   \n",
       "2                   0                          0                     0   \n",
       "3                   0                          0                     0   \n",
       "4                   0                          0                     0   \n",
       "\n",
       "   5th Block Hbr Layout  5th Phase JP Nagar  ...  Vijayanagar  \\\n",
       "0                     0                   0  ...            0   \n",
       "1                     0                   0  ...            0   \n",
       "2                     0                   0  ...            0   \n",
       "3                     0                   0  ...            0   \n",
       "4                     0                   0  ...            0   \n",
       "\n",
       "   Vishveshwarya Layout  Vishwapriya Layout  Vittasandra  Whitefield  \\\n",
       "0                     0                   0            0           0   \n",
       "1                     0                   0            0           0   \n",
       "2                     0                   0            0           0   \n",
       "3                     0                   0            0           0   \n",
       "4                     0                   0            0           0   \n",
       "\n",
       "   Yelachenahalli  Yelahanka  Yelahanka New Town  Yelenahalli  Yeshwanthpur  \n",
       "0               0          0                   0            0             0  \n",
       "1               0          0                   0            0             0  \n",
       "2               0          0                   0            0             0  \n",
       "3               0          0                   0            0             0  \n",
       "4               0          0                   0            0             0  \n",
       "\n",
       "[5 rows x 245 columns]"
      ]
     },
     "execution_count": 56,
     "metadata": {},
     "output_type": "execute_result"
    }
   ],
   "source": [
    "X = X.drop(['size'],axis='columns')\n",
    "X.head()"
   ]
  },
  {
   "cell_type": "code",
   "execution_count": 57,
   "id": "556c1858",
   "metadata": {
    "execution": {
     "iopub.execute_input": "2022-10-30T17:35:37.842972Z",
     "iopub.status.busy": "2022-10-30T17:35:37.841467Z",
     "iopub.status.idle": "2022-10-30T17:35:37.863121Z",
     "shell.execute_reply": "2022-10-30T17:35:37.863767Z",
     "shell.execute_reply.started": "2021-07-23T06:27:18.378644Z"
    },
    "papermill": {
     "duration": 0.139135,
     "end_time": "2022-10-30T17:35:37.863947",
     "exception": false,
     "start_time": "2022-10-30T17:35:37.724812",
     "status": "completed"
    },
    "tags": []
   },
   "outputs": [
    {
     "data": {
      "text/html": [
       "<div>\n",
       "<style scoped>\n",
       "    .dataframe tbody tr th:only-of-type {\n",
       "        vertical-align: middle;\n",
       "    }\n",
       "\n",
       "    .dataframe tbody tr th {\n",
       "        vertical-align: top;\n",
       "    }\n",
       "\n",
       "    .dataframe thead th {\n",
       "        text-align: right;\n",
       "    }\n",
       "</style>\n",
       "<table border=\"1\" class=\"dataframe\">\n",
       "  <thead>\n",
       "    <tr style=\"text-align: right;\">\n",
       "      <th></th>\n",
       "      <th>total_sqft</th>\n",
       "      <th>bath</th>\n",
       "      <th>BHK</th>\n",
       "      <th>1st Block Jayanagar</th>\n",
       "      <th>1st Phase JP Nagar</th>\n",
       "      <th>2nd Phase Judicial Layout</th>\n",
       "      <th>2nd Stage Nagarbhavi</th>\n",
       "      <th>5th Block Hbr Layout</th>\n",
       "      <th>5th Phase JP Nagar</th>\n",
       "      <th>6th Phase JP Nagar</th>\n",
       "      <th>...</th>\n",
       "      <th>Vijayanagar</th>\n",
       "      <th>Vishveshwarya Layout</th>\n",
       "      <th>Vishwapriya Layout</th>\n",
       "      <th>Vittasandra</th>\n",
       "      <th>Whitefield</th>\n",
       "      <th>Yelachenahalli</th>\n",
       "      <th>Yelahanka</th>\n",
       "      <th>Yelahanka New Town</th>\n",
       "      <th>Yelenahalli</th>\n",
       "      <th>Yeshwanthpur</th>\n",
       "    </tr>\n",
       "  </thead>\n",
       "  <tbody>\n",
       "    <tr>\n",
       "      <th>0</th>\n",
       "      <td>2850.0</td>\n",
       "      <td>4.0</td>\n",
       "      <td>4</td>\n",
       "      <td>1</td>\n",
       "      <td>0</td>\n",
       "      <td>0</td>\n",
       "      <td>0</td>\n",
       "      <td>0</td>\n",
       "      <td>0</td>\n",
       "      <td>0</td>\n",
       "      <td>...</td>\n",
       "      <td>0</td>\n",
       "      <td>0</td>\n",
       "      <td>0</td>\n",
       "      <td>0</td>\n",
       "      <td>0</td>\n",
       "      <td>0</td>\n",
       "      <td>0</td>\n",
       "      <td>0</td>\n",
       "      <td>0</td>\n",
       "      <td>0</td>\n",
       "    </tr>\n",
       "    <tr>\n",
       "      <th>1</th>\n",
       "      <td>1630.0</td>\n",
       "      <td>3.0</td>\n",
       "      <td>3</td>\n",
       "      <td>1</td>\n",
       "      <td>0</td>\n",
       "      <td>0</td>\n",
       "      <td>0</td>\n",
       "      <td>0</td>\n",
       "      <td>0</td>\n",
       "      <td>0</td>\n",
       "      <td>...</td>\n",
       "      <td>0</td>\n",
       "      <td>0</td>\n",
       "      <td>0</td>\n",
       "      <td>0</td>\n",
       "      <td>0</td>\n",
       "      <td>0</td>\n",
       "      <td>0</td>\n",
       "      <td>0</td>\n",
       "      <td>0</td>\n",
       "      <td>0</td>\n",
       "    </tr>\n",
       "    <tr>\n",
       "      <th>2</th>\n",
       "      <td>1875.0</td>\n",
       "      <td>2.0</td>\n",
       "      <td>3</td>\n",
       "      <td>1</td>\n",
       "      <td>0</td>\n",
       "      <td>0</td>\n",
       "      <td>0</td>\n",
       "      <td>0</td>\n",
       "      <td>0</td>\n",
       "      <td>0</td>\n",
       "      <td>...</td>\n",
       "      <td>0</td>\n",
       "      <td>0</td>\n",
       "      <td>0</td>\n",
       "      <td>0</td>\n",
       "      <td>0</td>\n",
       "      <td>0</td>\n",
       "      <td>0</td>\n",
       "      <td>0</td>\n",
       "      <td>0</td>\n",
       "      <td>0</td>\n",
       "    </tr>\n",
       "    <tr>\n",
       "      <th>3</th>\n",
       "      <td>1200.0</td>\n",
       "      <td>2.0</td>\n",
       "      <td>3</td>\n",
       "      <td>1</td>\n",
       "      <td>0</td>\n",
       "      <td>0</td>\n",
       "      <td>0</td>\n",
       "      <td>0</td>\n",
       "      <td>0</td>\n",
       "      <td>0</td>\n",
       "      <td>...</td>\n",
       "      <td>0</td>\n",
       "      <td>0</td>\n",
       "      <td>0</td>\n",
       "      <td>0</td>\n",
       "      <td>0</td>\n",
       "      <td>0</td>\n",
       "      <td>0</td>\n",
       "      <td>0</td>\n",
       "      <td>0</td>\n",
       "      <td>0</td>\n",
       "    </tr>\n",
       "    <tr>\n",
       "      <th>4</th>\n",
       "      <td>1235.0</td>\n",
       "      <td>2.0</td>\n",
       "      <td>2</td>\n",
       "      <td>1</td>\n",
       "      <td>0</td>\n",
       "      <td>0</td>\n",
       "      <td>0</td>\n",
       "      <td>0</td>\n",
       "      <td>0</td>\n",
       "      <td>0</td>\n",
       "      <td>...</td>\n",
       "      <td>0</td>\n",
       "      <td>0</td>\n",
       "      <td>0</td>\n",
       "      <td>0</td>\n",
       "      <td>0</td>\n",
       "      <td>0</td>\n",
       "      <td>0</td>\n",
       "      <td>0</td>\n",
       "      <td>0</td>\n",
       "      <td>0</td>\n",
       "    </tr>\n",
       "  </tbody>\n",
       "</table>\n",
       "<p>5 rows × 244 columns</p>\n",
       "</div>"
      ],
      "text/plain": [
       "   total_sqft  bath  BHK  1st Block Jayanagar  1st Phase JP Nagar  \\\n",
       "0      2850.0   4.0    4                    1                   0   \n",
       "1      1630.0   3.0    3                    1                   0   \n",
       "2      1875.0   2.0    3                    1                   0   \n",
       "3      1200.0   2.0    3                    1                   0   \n",
       "4      1235.0   2.0    2                    1                   0   \n",
       "\n",
       "   2nd Phase Judicial Layout  2nd Stage Nagarbhavi  5th Block Hbr Layout  \\\n",
       "0                          0                     0                     0   \n",
       "1                          0                     0                     0   \n",
       "2                          0                     0                     0   \n",
       "3                          0                     0                     0   \n",
       "4                          0                     0                     0   \n",
       "\n",
       "   5th Phase JP Nagar  6th Phase JP Nagar  ...  Vijayanagar  \\\n",
       "0                   0                   0  ...            0   \n",
       "1                   0                   0  ...            0   \n",
       "2                   0                   0  ...            0   \n",
       "3                   0                   0  ...            0   \n",
       "4                   0                   0  ...            0   \n",
       "\n",
       "   Vishveshwarya Layout  Vishwapriya Layout  Vittasandra  Whitefield  \\\n",
       "0                     0                   0            0           0   \n",
       "1                     0                   0            0           0   \n",
       "2                     0                   0            0           0   \n",
       "3                     0                   0            0           0   \n",
       "4                     0                   0            0           0   \n",
       "\n",
       "   Yelachenahalli  Yelahanka  Yelahanka New Town  Yelenahalli  Yeshwanthpur  \n",
       "0               0          0                   0            0             0  \n",
       "1               0          0                   0            0             0  \n",
       "2               0          0                   0            0             0  \n",
       "3               0          0                   0            0             0  \n",
       "4               0          0                   0            0             0  \n",
       "\n",
       "[5 rows x 244 columns]"
      ]
     },
     "execution_count": 57,
     "metadata": {},
     "output_type": "execute_result"
    }
   ],
   "source": [
    "X = X.drop(['price_per_sqft'],axis='columns')\n",
    "X.head()"
   ]
  },
  {
   "cell_type": "code",
   "execution_count": 58,
   "id": "7a8e06f5",
   "metadata": {
    "execution": {
     "iopub.execute_input": "2022-10-30T17:35:38.085573Z",
     "iopub.status.busy": "2022-10-30T17:35:38.084850Z",
     "iopub.status.idle": "2022-10-30T17:35:38.088354Z",
     "shell.execute_reply": "2022-10-30T17:35:38.088955Z",
     "shell.execute_reply.started": "2021-07-23T06:27:18.991029Z"
    },
    "papermill": {
     "duration": 0.117063,
     "end_time": "2022-10-30T17:35:38.089130",
     "exception": false,
     "start_time": "2022-10-30T17:35:37.972067",
     "status": "completed"
    },
    "tags": []
   },
   "outputs": [
    {
     "data": {
      "text/plain": [
       "(10241, 244)"
      ]
     },
     "execution_count": 58,
     "metadata": {},
     "output_type": "execute_result"
    }
   ],
   "source": [
    "X.shape"
   ]
  },
  {
   "cell_type": "markdown",
   "id": "3ae28072",
   "metadata": {
    "papermill": {
     "duration": 0.113355,
     "end_time": "2022-10-30T17:35:38.316239",
     "exception": false,
     "start_time": "2022-10-30T17:35:38.202884",
     "status": "completed"
    },
    "tags": []
   },
   "source": [
    "![](https://i.imgur.com/lUO8zIo.png)"
   ]
  },
  {
   "cell_type": "code",
   "execution_count": 59,
   "id": "1e99a853",
   "metadata": {
    "execution": {
     "iopub.execute_input": "2022-10-30T17:35:38.551731Z",
     "iopub.status.busy": "2022-10-30T17:35:38.550782Z",
     "iopub.status.idle": "2022-10-30T17:35:38.573640Z",
     "shell.execute_reply": "2022-10-30T17:35:38.573066Z",
     "shell.execute_reply.started": "2021-07-23T06:27:20.632589Z"
    },
    "papermill": {
     "duration": 0.142733,
     "end_time": "2022-10-30T17:35:38.573803",
     "exception": false,
     "start_time": "2022-10-30T17:35:38.431070",
     "status": "completed"
    },
    "tags": []
   },
   "outputs": [],
   "source": [
    "X_train, X_test, y_train, y_test = train_test_split(X,y,test_size=0.3,random_state=42)"
   ]
  },
  {
   "cell_type": "code",
   "execution_count": 60,
   "id": "98502207",
   "metadata": {
    "execution": {
     "iopub.execute_input": "2022-10-30T17:35:38.803873Z",
     "iopub.status.busy": "2022-10-30T17:35:38.802406Z",
     "iopub.status.idle": "2022-10-30T17:35:38.959292Z",
     "shell.execute_reply": "2022-10-30T17:35:38.960348Z",
     "shell.execute_reply.started": "2021-07-23T06:27:22.071583Z"
    },
    "papermill": {
     "duration": 0.277315,
     "end_time": "2022-10-30T17:35:38.960683",
     "exception": false,
     "start_time": "2022-10-30T17:35:38.683368",
     "status": "completed"
    },
    "tags": []
   },
   "outputs": [
    {
     "data": {
      "text/plain": [
       "0.7900425477740948"
      ]
     },
     "execution_count": 60,
     "metadata": {},
     "output_type": "execute_result"
    }
   ],
   "source": [
    "lr_clf = LinearRegression()\n",
    "lr_clf.fit(X_train,y_train)\n",
    "lr_clf.score(X_test,y_test)"
   ]
  },
  {
   "cell_type": "code",
   "execution_count": 61,
   "id": "b21e94b8",
   "metadata": {
    "execution": {
     "iopub.execute_input": "2022-10-30T17:35:39.253394Z",
     "iopub.status.busy": "2022-10-30T17:35:39.252746Z",
     "iopub.status.idle": "2022-10-30T17:35:40.119150Z",
     "shell.execute_reply": "2022-10-30T17:35:40.120273Z",
     "shell.execute_reply.started": "2021-07-23T06:27:23.628352Z"
    },
    "papermill": {
     "duration": 0.98263,
     "end_time": "2022-10-30T17:35:40.120695",
     "exception": false,
     "start_time": "2022-10-30T17:35:39.138065",
     "status": "completed"
    },
    "tags": []
   },
   "outputs": [
    {
     "data": {
      "text/plain": [
       "array([0.77907697, 0.7535079 , 0.79892911, 0.80972959, 0.8025454 ])"
      ]
     },
     "execution_count": 61,
     "metadata": {},
     "output_type": "execute_result"
    }
   ],
   "source": [
    "cv = ShuffleSplit(n_splits=5, test_size=0.2, random_state=0)\n",
    "cross_val_score(LinearRegression(), X, y, cv=cv)"
   ]
  },
  {
   "cell_type": "markdown",
   "id": "4d9222d7",
   "metadata": {
    "papermill": {
     "duration": 0.113535,
     "end_time": "2022-10-30T17:35:40.419488",
     "exception": false,
     "start_time": "2022-10-30T17:35:40.305953",
     "status": "completed"
    },
    "tags": []
   },
   "source": [
    "Here we are using Grid Search CV for 3 different types of Regression models:\n",
    "\n",
    "<b>1. Linear Regression</b>\n",
    "\n",
    "<b>2. Lasso Regression</b>\n",
    "\n",
    "<b>3. Decision Tree Regression</b>"
   ]
  },
  {
   "cell_type": "markdown",
   "id": "5291b4da",
   "metadata": {
    "papermill": {
     "duration": 0.111283,
     "end_time": "2022-10-30T17:35:40.645293",
     "exception": false,
     "start_time": "2022-10-30T17:35:40.534010",
     "status": "completed"
    },
    "tags": []
   },
   "source": [
    "![](https://i.imgur.com/EKH21H1.png)"
   ]
  },
  {
   "cell_type": "code",
   "execution_count": 62,
   "id": "d753ef92",
   "metadata": {
    "execution": {
     "iopub.execute_input": "2022-10-30T17:35:40.877524Z",
     "iopub.status.busy": "2022-10-30T17:35:40.876767Z",
     "iopub.status.idle": "2022-10-30T17:35:40.879142Z",
     "shell.execute_reply": "2022-10-30T17:35:40.879746Z",
     "shell.execute_reply.started": "2021-07-23T06:27:29.757441Z"
    },
    "papermill": {
     "duration": 0.123211,
     "end_time": "2022-10-30T17:35:40.879935",
     "exception": false,
     "start_time": "2022-10-30T17:35:40.756724",
     "status": "completed"
    },
    "tags": []
   },
   "outputs": [],
   "source": [
    "def find_best_model_using_gridsearchcv(X,y):\n",
    "    algos = {\n",
    "        'linear_regression' : {\n",
    "            'model': LinearRegression(),\n",
    "            'params': {\n",
    "                'normalize': [True, False]\n",
    "            }\n",
    "        },\n",
    "        'lasso': {\n",
    "            'model': Lasso(),\n",
    "            'params': {\n",
    "                'alpha': [1,2],\n",
    "                'selection': ['random', 'cyclic']\n",
    "            }\n",
    "        },\n",
    "        'decision_tree': {\n",
    "            'model': DecisionTreeRegressor(),\n",
    "            'params': {\n",
    "                'criterion' : ['mse','friedman_mse'],\n",
    "                'splitter': ['best','random']\n",
    "            }\n",
    "        }\n",
    "    }\n",
    "    scores = []\n",
    "    cv = ShuffleSplit(n_splits=5, test_size=0.2, random_state=0)\n",
    "    for algo_name, config in algos.items():\n",
    "        gs =  GridSearchCV(config['model'], config['params'], cv=cv, return_train_score=False)\n",
    "        gs.fit(X,y)\n",
    "        scores.append({\n",
    "            'model': algo_name,\n",
    "            'best_score': gs.best_score_,\n",
    "            'best_params': gs.best_params_\n",
    "        })\n",
    "\n",
    "    return pd.DataFrame(scores,columns=['model','best_score','best_params'])"
   ]
  },
  {
   "cell_type": "markdown",
   "id": "d2f05cbb",
   "metadata": {
    "papermill": {
     "duration": 0.109454,
     "end_time": "2022-10-30T17:35:41.100075",
     "exception": false,
     "start_time": "2022-10-30T17:35:40.990621",
     "status": "completed"
    },
    "tags": []
   },
   "source": [
    "![](https://i.imgur.com/dGf4FQS.png)"
   ]
  },
  {
   "cell_type": "markdown",
   "id": "9ba40157",
   "metadata": {
    "papermill": {
     "duration": 0.109368,
     "end_time": "2022-10-30T17:35:41.320027",
     "exception": false,
     "start_time": "2022-10-30T17:35:41.210659",
     "status": "completed"
    },
    "tags": []
   },
   "source": [
    "#### Comparing all the models"
   ]
  },
  {
   "cell_type": "code",
   "execution_count": 63,
   "id": "1cf7686a",
   "metadata": {
    "execution": {
     "iopub.execute_input": "2022-10-30T17:35:41.543705Z",
     "iopub.status.busy": "2022-10-30T17:35:41.543041Z",
     "iopub.status.idle": "2022-10-30T17:35:51.280795Z",
     "shell.execute_reply": "2022-10-30T17:35:51.280133Z",
     "shell.execute_reply.started": "2021-07-23T06:27:32.21684Z"
    },
    "papermill": {
     "duration": 9.850774,
     "end_time": "2022-10-30T17:35:51.280937",
     "exception": false,
     "start_time": "2022-10-30T17:35:41.430163",
     "status": "completed"
    },
    "tags": []
   },
   "outputs": [
    {
     "data": {
      "text/html": [
       "<div>\n",
       "<style scoped>\n",
       "    .dataframe tbody tr th:only-of-type {\n",
       "        vertical-align: middle;\n",
       "    }\n",
       "\n",
       "    .dataframe tbody tr th {\n",
       "        vertical-align: top;\n",
       "    }\n",
       "\n",
       "    .dataframe thead th {\n",
       "        text-align: right;\n",
       "    }\n",
       "</style>\n",
       "<table border=\"1\" class=\"dataframe\">\n",
       "  <thead>\n",
       "    <tr style=\"text-align: right;\">\n",
       "      <th></th>\n",
       "      <th>model</th>\n",
       "      <th>best_score</th>\n",
       "      <th>best_params</th>\n",
       "    </tr>\n",
       "  </thead>\n",
       "  <tbody>\n",
       "    <tr>\n",
       "      <th>0</th>\n",
       "      <td>linear_regression</td>\n",
       "      <td>0.788758</td>\n",
       "      <td>{'normalize': False}</td>\n",
       "    </tr>\n",
       "    <tr>\n",
       "      <th>1</th>\n",
       "      <td>lasso</td>\n",
       "      <td>0.656969</td>\n",
       "      <td>{'alpha': 1, 'selection': 'random'}</td>\n",
       "    </tr>\n",
       "    <tr>\n",
       "      <th>2</th>\n",
       "      <td>decision_tree</td>\n",
       "      <td>0.696683</td>\n",
       "      <td>{'criterion': 'friedman_mse', 'splitter': 'ran...</td>\n",
       "    </tr>\n",
       "  </tbody>\n",
       "</table>\n",
       "</div>"
      ],
      "text/plain": [
       "               model  best_score  \\\n",
       "0  linear_regression    0.788758   \n",
       "1              lasso    0.656969   \n",
       "2      decision_tree    0.696683   \n",
       "\n",
       "                                         best_params  \n",
       "0                               {'normalize': False}  \n",
       "1                {'alpha': 1, 'selection': 'random'}  \n",
       "2  {'criterion': 'friedman_mse', 'splitter': 'ran...  "
      ]
     },
     "execution_count": 63,
     "metadata": {},
     "output_type": "execute_result"
    }
   ],
   "source": [
    "find_best_model_using_gridsearchcv(X,y)"
   ]
  },
  {
   "cell_type": "markdown",
   "id": "6a03a6b7",
   "metadata": {
    "papermill": {
     "duration": 0.110487,
     "end_time": "2022-10-30T17:35:51.502436",
     "exception": false,
     "start_time": "2022-10-30T17:35:51.391949",
     "status": "completed"
    },
    "tags": []
   },
   "source": [
    "![](https://i.imgur.com/ZfSCUnS.png)"
   ]
  },
  {
   "cell_type": "code",
   "execution_count": 64,
   "id": "d9a9ec32",
   "metadata": {
    "execution": {
     "iopub.execute_input": "2022-10-30T17:35:51.727272Z",
     "iopub.status.busy": "2022-10-30T17:35:51.726592Z",
     "iopub.status.idle": "2022-10-30T17:35:51.731477Z",
     "shell.execute_reply": "2022-10-30T17:35:51.732072Z",
     "shell.execute_reply.started": "2021-07-23T06:28:22.799416Z"
    },
    "papermill": {
     "duration": 0.119373,
     "end_time": "2022-10-30T17:35:51.732240",
     "exception": false,
     "start_time": "2022-10-30T17:35:51.612867",
     "status": "completed"
    },
    "tags": []
   },
   "outputs": [],
   "source": [
    "def predict_price(location,sqft,bath,bhk):    \n",
    "    loc_index = np.where(X.columns==location)[0][0]\n",
    "\n",
    "    x = np.zeros(len(X.columns))\n",
    "    x[0] = sqft\n",
    "    x[1] = bath\n",
    "    x[2] = bhk\n",
    "    if loc_index >= 0:\n",
    "        x[loc_index] = 1\n",
    "\n",
    "    return lr_clf.predict([x])[0]"
   ]
  },
  {
   "cell_type": "markdown",
   "id": "9d4a22dc",
   "metadata": {
    "papermill": {
     "duration": 0.109123,
     "end_time": "2022-10-30T17:35:51.952094",
     "exception": false,
     "start_time": "2022-10-30T17:35:51.842971",
     "status": "completed"
    },
    "tags": []
   },
   "source": [
    "#### Here we are predicting the house prices based on Location, Size, Bathroom, and BHK"
   ]
  },
  {
   "cell_type": "code",
   "execution_count": 65,
   "id": "1914386c",
   "metadata": {
    "execution": {
     "iopub.execute_input": "2022-10-30T17:35:52.174684Z",
     "iopub.status.busy": "2022-10-30T17:35:52.174040Z",
     "iopub.status.idle": "2022-10-30T17:35:52.179812Z",
     "shell.execute_reply": "2022-10-30T17:35:52.180408Z",
     "shell.execute_reply.started": "2021-07-23T06:28:25.745607Z"
    },
    "papermill": {
     "duration": 0.118946,
     "end_time": "2022-10-30T17:35:52.180597",
     "exception": false,
     "start_time": "2022-10-30T17:35:52.061651",
     "status": "completed"
    },
    "tags": []
   },
   "outputs": [
    {
     "data": {
      "text/plain": [
       "87.8140070468012"
      ]
     },
     "execution_count": 65,
     "metadata": {},
     "output_type": "execute_result"
    }
   ],
   "source": [
    "predict_price('1st Phase JP Nagar',1000, 2, 2)"
   ]
  },
  {
   "cell_type": "code",
   "execution_count": 66,
   "id": "9257ea6b",
   "metadata": {
    "execution": {
     "iopub.execute_input": "2022-10-30T17:35:52.407002Z",
     "iopub.status.busy": "2022-10-30T17:35:52.406273Z",
     "iopub.status.idle": "2022-10-30T17:35:52.413191Z",
     "shell.execute_reply": "2022-10-30T17:35:52.412689Z",
     "shell.execute_reply.started": "2021-07-23T06:28:26.582589Z"
    },
    "papermill": {
     "duration": 0.119815,
     "end_time": "2022-10-30T17:35:52.413355",
     "exception": false,
     "start_time": "2022-10-30T17:35:52.293540",
     "status": "completed"
    },
    "tags": []
   },
   "outputs": [
    {
     "data": {
      "text/plain": [
       "29.76721699667406"
      ]
     },
     "execution_count": 66,
     "metadata": {},
     "output_type": "execute_result"
    }
   ],
   "source": [
    "predict_price('1st Phase JP Nagar',200, 3, 3)"
   ]
  },
  {
   "cell_type": "code",
   "execution_count": 67,
   "id": "6b3780fd",
   "metadata": {
    "execution": {
     "iopub.execute_input": "2022-10-30T17:35:52.639079Z",
     "iopub.status.busy": "2022-10-30T17:35:52.638141Z",
     "iopub.status.idle": "2022-10-30T17:35:52.641854Z",
     "shell.execute_reply": "2022-10-30T17:35:52.642293Z",
     "shell.execute_reply.started": "2021-07-23T06:28:27.420144Z"
    },
    "papermill": {
     "duration": 0.119266,
     "end_time": "2022-10-30T17:35:52.642496",
     "exception": false,
     "start_time": "2022-10-30T17:35:52.523230",
     "status": "completed"
    },
    "tags": []
   },
   "outputs": [
    {
     "data": {
      "text/plain": [
       "455.6167282975816"
      ]
     },
     "execution_count": 67,
     "metadata": {},
     "output_type": "execute_result"
    }
   ],
   "source": [
    "predict_price('Indira Nagar',5000, 2, 2)"
   ]
  },
  {
   "cell_type": "code",
   "execution_count": 68,
   "id": "e04d368a",
   "metadata": {
    "execution": {
     "iopub.execute_input": "2022-10-30T17:35:52.867866Z",
     "iopub.status.busy": "2022-10-30T17:35:52.866907Z",
     "iopub.status.idle": "2022-10-30T17:35:52.873031Z",
     "shell.execute_reply": "2022-10-30T17:35:52.873492Z",
     "shell.execute_reply.started": "2021-07-23T06:28:28.269408Z"
    },
    "papermill": {
     "duration": 0.121263,
     "end_time": "2022-10-30T17:35:52.873665",
     "exception": false,
     "start_time": "2022-10-30T17:35:52.752402",
     "status": "completed"
    },
    "tags": []
   },
   "outputs": [
    {
     "data": {
      "text/plain": [
       "204.05177116206943"
      ]
     },
     "execution_count": 68,
     "metadata": {},
     "output_type": "execute_result"
    }
   ],
   "source": [
    "predict_price('Indira Nagar',1500, 3, 3)"
   ]
  },
  {
   "cell_type": "markdown",
   "id": "ae8da4f0",
   "metadata": {
    "papermill": {
     "duration": 0.111141,
     "end_time": "2022-10-30T17:35:53.098425",
     "exception": false,
     "start_time": "2022-10-30T17:35:52.987284",
     "status": "completed"
    },
    "tags": []
   },
   "source": [
    "## References and Acknowledgements"
   ]
  },
  {
   "cell_type": "markdown",
   "id": "ddfa5010",
   "metadata": {
    "papermill": {
     "duration": 0.110212,
     "end_time": "2022-10-30T17:35:53.322631",
     "exception": false,
     "start_time": "2022-10-30T17:35:53.212419",
     "status": "completed"
    },
    "tags": []
   },
   "source": [
    "<b> Bengaluru House price data - https://www.kaggle.com/amitabhajoy/bengaluru-house-price-data\n",
    "\n",
    "<b> CodeBasics YouTube Channel - https://www.youtube.com/channel/UCh9nVJoWXmFb7sLApWGcLPQ"
   ]
  },
  {
   "cell_type": "markdown",
   "id": "ec46e8c8",
   "metadata": {
    "papermill": {
     "duration": 0.110892,
     "end_time": "2022-10-30T17:35:53.543398",
     "exception": false,
     "start_time": "2022-10-30T17:35:53.432506",
     "status": "completed"
    },
    "tags": []
   },
   "source": [
    "\n",
    "\n"
   ]
  }
 ],
 "metadata": {
  "kernelspec": {
   "display_name": "Python 3",
   "language": "python",
   "name": "python3"
  },
  "language_info": {
   "codemirror_mode": {
    "name": "ipython",
    "version": 3
   },
   "file_extension": ".py",
   "mimetype": "text/x-python",
   "name": "python",
   "nbconvert_exporter": "python",
   "pygments_lexer": "ipython3",
   "version": "3.7.10"
  },
  "papermill": {
   "default_parameters": {},
   "duration": 49.598544,
   "end_time": "2022-10-30T17:35:54.463759",
   "environment_variables": {},
   "exception": null,
   "input_path": "__notebook__.ipynb",
   "output_path": "__notebook__.ipynb",
   "parameters": {},
   "start_time": "2022-10-30T17:35:04.865215",
   "version": "2.3.3"
  }
 },
 "nbformat": 4,
 "nbformat_minor": 5
}
